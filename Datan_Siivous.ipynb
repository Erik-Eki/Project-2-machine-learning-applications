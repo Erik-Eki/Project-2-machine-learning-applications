{
 "cells": [
  {
   "cell_type": "code",
   "execution_count": null,
   "metadata": {},
   "outputs": [],
   "source": [
    "import pandas as pd\n",
    "import numpy as np\n",
    "import pylab as plt\n",
    "\n",
    "import mysql.connector\n",
    "\n",
    "mydb = mysql.connector.connect(\n",
    "  host=\"172.28.200.50\",\n",
    "  user=\"root\",\n",
    "  port=3306,\n",
    "  passwd=\"insert-password-here\",\n",
    "  database=\"iiwari_org\")\n",
    "\n",
    "\n",
    "mycursor = mydb.cursor(dictionary=True)\n",
    "mycursor.execute(\"SELECT * FROM CleanSensorData;\" );\n",
    "\n",
    "df = pd.DataFrame(mycursor.fetchall())\n",
    "df.head()"
   ]
  },
  {
   "cell_type": "markdown",
   "metadata": {},
   "source": [
    "# Plot miltä näyttää x ja y koordinaatit"
   ]
  },
  {
   "cell_type": "code",
   "execution_count": null,
   "metadata": {},
   "outputs": [],
   "source": [
    "img = plt.imread(\"whitepic.png\")\n",
    "fig, ax = plt.subplots()\n",
    "ax.imshow(img,extent=(-5000,15000,10000,-5000),aspect='auto')\n",
    "plt.rcParams['figure.figsize'] = [20,10]\n",
    "plt.plot(df.x, df.y, 'o')"
   ]
  },
  {
   "cell_type": "markdown",
   "metadata": {},
   "source": [
    "# Zscorella suurimmat hypyt pois"
   ]
  },
  {
   "cell_type": "code",
   "execution_count": null,
   "metadata": {},
   "outputs": [],
   "source": [
    "from scipy.stats import zscore\n",
    "from scipy import stats\n",
    "\n",
    "z_scores = stats.zscore(df)\n",
    "abs_z_scores = np.abs(z_scores)\n",
    "filtered_entries = (abs_z_scores < 4).all(axis=1)\n",
    "new_df = df[filtered_entries]\n"
   ]
  },
  {
   "cell_type": "markdown",
   "metadata": {},
   "source": [
    "# Laitetaan timestamp datetime muotoon ja korjataan timezonet"
   ]
  },
  {
   "cell_type": "code",
   "execution_count": null,
   "metadata": {},
   "outputs": [],
   "source": [
    "# Leikataan älämölöt pois\n",
    "new_df['timestamp'] = new_df['timestamp'].astype(str)\n",
    "new_df['timestamp'] = new_df['timestamp'].str.slice(2, -7)\n",
    "new_df['timestamp'] = new_df['timestamp'].astype('datetime64[ns]')\n",
    "\n",
    " # Pyöristys millisekuntien tarkkuudelle\n",
    "new_df.timestamp = new_df.timestamp.dt.round(\"ms\")\n",
    "\n",
    "new_df.timestamp = new_df.timestamp.dt.tz_localize('UTC')\n",
    "\n",
    "    # Muunnetaan Suomen aikaan. Tämä huomioi kesä- ja talviajan.\n",
    "new_df.timestamp = new_df.timestamp.dt.tz_convert('Europe/Helsinki')\n",
    "\n",
    "new_df"
   ]
  },
  {
   "cell_type": "markdown",
   "metadata": {},
   "source": [
    "# Poistetaan dublikaatit node_id ja timestampin mukaan"
   ]
  },
  {
   "cell_type": "code",
   "execution_count": null,
   "metadata": {},
   "outputs": [],
   "source": [
    "new_df = new_df.drop_duplicates(subset=['node_id','timestamp'], keep='first')"
   ]
  },
  {
   "cell_type": "markdown",
   "metadata": {},
   "source": [
    "# Node_id:t järkevään muotoon"
   ]
  },
  {
   "cell_type": "code",
   "execution_count": null,
   "metadata": {},
   "outputs": [],
   "source": [
    "new_df['node_id'] = pd.factorize(new_df['node_id'])[0] + 1\n",
    "new_df"
   ]
  },
  {
   "cell_type": "markdown",
   "metadata": {},
   "source": [
    "# Tallennetaan uusi dataframe .csv tiedostoon"
   ]
  },
  {
   "cell_type": "code",
   "execution_count": null,
   "metadata": {},
   "outputs": [],
   "source": [
    "new_df.to_csv('./clean_data.csv',index=False)"
   ]
  }
 ],
 "metadata": {
  "kernelspec": {
   "display_name": "Python 3",
   "language": "python",
   "name": "python3"
  },
  "language_info": {
   "codemirror_mode": {
    "name": "ipython",
    "version": 3
   },
   "file_extension": ".py",
   "mimetype": "text/x-python",
   "name": "python",
   "nbconvert_exporter": "python",
   "pygments_lexer": "ipython3",
   "version": "3.7.6"
  }
 },
 "nbformat": 4,
 "nbformat_minor": 4
}
