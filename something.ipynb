{
 "cells": [
  {
   "cell_type": "code",
   "execution_count": 1,
   "metadata": {},
   "outputs": [],
   "source": [
    "import sys\n",
    "import pandas as pd\n",
    "import time\n",
    "import timeit\n",
    "sys.path.insert(0, './Moduulit')\n",
    "pd.options.mode.chained_assignment = None\n",
    "\n",
    "from ipywidgets import interact, interactive, fixed, interact_manual, Layout\n",
    "import ipywidgets as widgets\n",
    "\n",
    "\n",
    "# Importtaus tässä muodossa\n",
    "from database_connection import database_query\n",
    "from outliers import find_outliers, draw_histogram\n",
    "from LOF import *\n",
    "from clean_dataframe import clean_dataframe\n",
    "from clean_velocities import *\n",
    "\n",
    "from draw_node_amount import *\n",
    "from write_df_to_database import write_df_to_mariadb\n",
    "from xy_diskretisointi import xy_to_grid\n",
    "from reittien_erottelu import *\n",
    "from isolation_forest import *\n",
    "from sisään_uloskäynnit import *\n",
    "from horrostila import *\n",
    "from widgets import *\n",
    "from plot_lapimenoajat import *\n",
    "from klusterointi import *"
   ]
  },
  {
   "cell_type": "code",
   "execution_count": 2,
   "metadata": {},
   "outputs": [],
   "source": [
    "from sklearn.linear_model import ElasticNet\n",
    "from sklearn.datasets import make_regression"
   ]
  },
  {
   "cell_type": "code",
   "execution_count": 18,
   "metadata": {},
   "outputs": [],
   "source": [
    "df = database_query(\"SELECT * FROM DATA LIMIT 500000\")\n",
    "df1 = df.copy()"
   ]
  },
  {
   "cell_type": "code",
   "execution_count": 4,
   "metadata": {},
   "outputs": [],
   "source": [
    "df2 = df1.head(100000)"
   ]
  },
  {
   "cell_type": "code",
   "execution_count": 5,
   "metadata": {},
   "outputs": [
    {
     "data": {
      "text/html": [
       "<div>\n",
       "<style scoped>\n",
       "    .dataframe tbody tr th:only-of-type {\n",
       "        vertical-align: middle;\n",
       "    }\n",
       "\n",
       "    .dataframe tbody tr th {\n",
       "        vertical-align: top;\n",
       "    }\n",
       "\n",
       "    .dataframe thead th {\n",
       "        text-align: right;\n",
       "    }\n",
       "</style>\n",
       "<table border=\"1\" class=\"dataframe\">\n",
       "  <thead>\n",
       "    <tr style=\"text-align: right;\">\n",
       "      <th></th>\n",
       "      <th>ajokerta</th>\n",
       "      <th>node_id</th>\n",
       "      <th>timestamp</th>\n",
       "      <th>x</th>\n",
       "      <th>y</th>\n",
       "      <th>grid_id</th>\n",
       "      <th>distance</th>\n",
       "      <th>kesto</th>\n",
       "      <th>dayofweek</th>\n",
       "      <th>current_hour</th>\n",
       "    </tr>\n",
       "  </thead>\n",
       "  <tbody>\n",
       "    <tr>\n",
       "      <th>0</th>\n",
       "      <td>2</td>\n",
       "      <td>1</td>\n",
       "      <td>2020-06-25 15:21:46</td>\n",
       "      <td>28</td>\n",
       "      <td>15</td>\n",
       "      <td>628</td>\n",
       "      <td>0.962081</td>\n",
       "      <td>6812.007</td>\n",
       "      <td>3</td>\n",
       "      <td>8</td>\n",
       "    </tr>\n",
       "    <tr>\n",
       "      <th>1</th>\n",
       "      <td>2</td>\n",
       "      <td>1</td>\n",
       "      <td>2020-06-25 15:21:47</td>\n",
       "      <td>28</td>\n",
       "      <td>15</td>\n",
       "      <td>628</td>\n",
       "      <td>1.028834</td>\n",
       "      <td>6812.007</td>\n",
       "      <td>3</td>\n",
       "      <td>8</td>\n",
       "    </tr>\n",
       "    <tr>\n",
       "      <th>2</th>\n",
       "      <td>2</td>\n",
       "      <td>1</td>\n",
       "      <td>2020-06-25 15:21:47</td>\n",
       "      <td>28</td>\n",
       "      <td>15</td>\n",
       "      <td>628</td>\n",
       "      <td>0.648460</td>\n",
       "      <td>6812.007</td>\n",
       "      <td>3</td>\n",
       "      <td>8</td>\n",
       "    </tr>\n",
       "    <tr>\n",
       "      <th>3</th>\n",
       "      <td>2</td>\n",
       "      <td>1</td>\n",
       "      <td>2020-06-25 15:21:47</td>\n",
       "      <td>28</td>\n",
       "      <td>15</td>\n",
       "      <td>628</td>\n",
       "      <td>0.826075</td>\n",
       "      <td>6812.007</td>\n",
       "      <td>3</td>\n",
       "      <td>8</td>\n",
       "    </tr>\n",
       "    <tr>\n",
       "      <th>4</th>\n",
       "      <td>2</td>\n",
       "      <td>1</td>\n",
       "      <td>2020-06-25 15:21:50</td>\n",
       "      <td>26</td>\n",
       "      <td>15</td>\n",
       "      <td>626</td>\n",
       "      <td>1.753767</td>\n",
       "      <td>6812.007</td>\n",
       "      <td>3</td>\n",
       "      <td>8</td>\n",
       "    </tr>\n",
       "    <tr>\n",
       "      <th>...</th>\n",
       "      <td>...</td>\n",
       "      <td>...</td>\n",
       "      <td>...</td>\n",
       "      <td>...</td>\n",
       "      <td>...</td>\n",
       "      <td>...</td>\n",
       "      <td>...</td>\n",
       "      <td>...</td>\n",
       "      <td>...</td>\n",
       "      <td>...</td>\n",
       "    </tr>\n",
       "    <tr>\n",
       "      <th>99995</th>\n",
       "      <td>382</td>\n",
       "      <td>1</td>\n",
       "      <td>2020-09-09 18:39:26</td>\n",
       "      <td>30</td>\n",
       "      <td>27</td>\n",
       "      <td>1110</td>\n",
       "      <td>0.506063</td>\n",
       "      <td>2101.998</td>\n",
       "      <td>2</td>\n",
       "      <td>11</td>\n",
       "    </tr>\n",
       "    <tr>\n",
       "      <th>99996</th>\n",
       "      <td>382</td>\n",
       "      <td>1</td>\n",
       "      <td>2020-09-09 18:39:27</td>\n",
       "      <td>30</td>\n",
       "      <td>27</td>\n",
       "      <td>1110</td>\n",
       "      <td>0.478539</td>\n",
       "      <td>2101.998</td>\n",
       "      <td>2</td>\n",
       "      <td>11</td>\n",
       "    </tr>\n",
       "    <tr>\n",
       "      <th>99997</th>\n",
       "      <td>382</td>\n",
       "      <td>1</td>\n",
       "      <td>2020-09-09 18:39:28</td>\n",
       "      <td>30</td>\n",
       "      <td>28</td>\n",
       "      <td>1150</td>\n",
       "      <td>0.496588</td>\n",
       "      <td>2101.998</td>\n",
       "      <td>2</td>\n",
       "      <td>11</td>\n",
       "    </tr>\n",
       "    <tr>\n",
       "      <th>99998</th>\n",
       "      <td>382</td>\n",
       "      <td>1</td>\n",
       "      <td>2020-09-09 18:39:29</td>\n",
       "      <td>31</td>\n",
       "      <td>28</td>\n",
       "      <td>1151</td>\n",
       "      <td>0.371080</td>\n",
       "      <td>2101.998</td>\n",
       "      <td>2</td>\n",
       "      <td>11</td>\n",
       "    </tr>\n",
       "    <tr>\n",
       "      <th>99999</th>\n",
       "      <td>382</td>\n",
       "      <td>1</td>\n",
       "      <td>2020-09-09 18:39:30</td>\n",
       "      <td>31</td>\n",
       "      <td>28</td>\n",
       "      <td>1151</td>\n",
       "      <td>0.330000</td>\n",
       "      <td>2101.998</td>\n",
       "      <td>2</td>\n",
       "      <td>11</td>\n",
       "    </tr>\n",
       "  </tbody>\n",
       "</table>\n",
       "<p>100000 rows × 10 columns</p>\n",
       "</div>"
      ],
      "text/plain": [
       "       ajokerta  node_id           timestamp   x   y  grid_id  distance  \\\n",
       "0             2        1 2020-06-25 15:21:46  28  15      628  0.962081   \n",
       "1             2        1 2020-06-25 15:21:47  28  15      628  1.028834   \n",
       "2             2        1 2020-06-25 15:21:47  28  15      628  0.648460   \n",
       "3             2        1 2020-06-25 15:21:47  28  15      628  0.826075   \n",
       "4             2        1 2020-06-25 15:21:50  26  15      626  1.753767   \n",
       "...         ...      ...                 ...  ..  ..      ...       ...   \n",
       "99995       382        1 2020-09-09 18:39:26  30  27     1110  0.506063   \n",
       "99996       382        1 2020-09-09 18:39:27  30  27     1110  0.478539   \n",
       "99997       382        1 2020-09-09 18:39:28  30  28     1150  0.496588   \n",
       "99998       382        1 2020-09-09 18:39:29  31  28     1151  0.371080   \n",
       "99999       382        1 2020-09-09 18:39:30  31  28     1151  0.330000   \n",
       "\n",
       "          kesto  dayofweek  current_hour  \n",
       "0      6812.007          3             8  \n",
       "1      6812.007          3             8  \n",
       "2      6812.007          3             8  \n",
       "3      6812.007          3             8  \n",
       "4      6812.007          3             8  \n",
       "...         ...        ...           ...  \n",
       "99995  2101.998          2            11  \n",
       "99996  2101.998          2            11  \n",
       "99997  2101.998          2            11  \n",
       "99998  2101.998          2            11  \n",
       "99999  2101.998          2            11  \n",
       "\n",
       "[100000 rows x 10 columns]"
      ]
     },
     "execution_count": 5,
     "metadata": {},
     "output_type": "execute_result"
    }
   ],
   "source": [
    "df2"
   ]
  },
  {
   "cell_type": "code",
   "execution_count": 19,
   "metadata": {},
   "outputs": [],
   "source": [
    "distances = df.groupby(['ajokerta'])['distance'].sum().to_dict()\n",
    "df[\"distance\"] = df['ajokerta'].map(distances)\n",
    "df = df.head(500000)"
   ]
  },
  {
   "cell_type": "code",
   "execution_count": 7,
   "metadata": {},
   "outputs": [],
   "source": [
    "X = df2[['distance']].values\n",
    "y = df2[['kesto']].values"
   ]
  },
  {
   "cell_type": "code",
   "execution_count": 8,
   "metadata": {},
   "outputs": [
    {
     "name": "stdout",
     "output_type": "stream",
     "text": [
      "(80000, 1)\n",
      "(20000, 1)\n",
      "(80000, 1)\n",
      "(20000, 1)\n"
     ]
    }
   ],
   "source": [
    "#splitting the data into training and testing sets\n",
    "from sklearn.model_selection import train_test_split\n",
    "\n",
    "X_train, X_test, Y_train, Y_test = train_test_split(X, y, test_size = 0.2, random_state=5)\n",
    "print(X_train.shape)\n",
    "print(X_test.shape)\n",
    "print(Y_train.shape)\n",
    "print(Y_test.shape)"
   ]
  },
  {
   "cell_type": "code",
   "execution_count": 9,
   "metadata": {},
   "outputs": [],
   "source": [
    "#funktio, jolla voi testata eri malleilla toimintaa ja tarkkuutta\n",
    "def regressio(model):\n",
    "    lin_model = model\n",
    "    lin_model.fit(X_train, Y_train)\n",
    "    #evaluate the model using RMSE and R2-score\n",
    "# model evaluation for training set\n",
    "    y_train_predict = lin_model.predict(X_train)\n",
    "    rmse = (np.sqrt(mean_squared_error(Y_train, y_train_predict)))\n",
    "    r2 = r2_score(Y_train, y_train_predict)\n",
    "\n",
    "    print(\"The model performance for training set\", type(model).__name__)\n",
    "    print(\"--------------------------------------\")\n",
    "    print('RMSE is {}'.format(rmse))\n",
    "    print('R2 score is {}'.format(r2))\n",
    "    print(\"\\n\")\n",
    "\n",
    "    # model evaluation for testing set\n",
    "    y_test_predict = lin_model.predict(X_test)\n",
    "    rmse = (np.sqrt(mean_squared_error(Y_test, y_test_predict)))\n",
    "    r2 = r2_score(Y_test, y_test_predict)\n",
    "\n",
    "    print(\"The model performance for testing set\")\n",
    "    print(\"--------------------------------------\")\n",
    "    print('RMSE is {}'.format(rmse))\n",
    "    print('R2 score is {}'.format(r2))\n",
    "    "
   ]
  },
  {
   "cell_type": "code",
   "execution_count": 10,
   "metadata": {},
   "outputs": [],
   "source": [
    "from sklearn.linear_model import LinearRegression\n",
    "from sklearn.metrics import mean_squared_error\n",
    "from sklearn.metrics import mean_squared_error, r2_score\n",
    "from sklearn.linear_model import Ridge\n",
    "from sklearn.linear_model import Lasso"
   ]
  },
  {
   "cell_type": "code",
   "execution_count": 11,
   "metadata": {},
   "outputs": [
    {
     "name": "stdout",
     "output_type": "stream",
     "text": [
      "The model performance for training set LinearRegression\n",
      "--------------------------------------\n",
      "RMSE is 1286.7667824183457\n",
      "R2 score is 5.976021238185414e-05\n",
      "\n",
      "\n",
      "The model performance for testing set\n",
      "--------------------------------------\n",
      "RMSE is 1277.540858288776\n",
      "R2 score is 0.0002702486093488776\n"
     ]
    }
   ],
   "source": [
    "regressio(LinearRegression()) #Lineaariregressio"
   ]
  },
  {
   "cell_type": "code",
   "execution_count": 12,
   "metadata": {},
   "outputs": [
    {
     "name": "stdout",
     "output_type": "stream",
     "text": [
      "The model performance for training set Ridge\n",
      "--------------------------------------\n",
      "RMSE is 1286.7667824183477\n",
      "R2 score is 5.9760212378745514e-05\n",
      "\n",
      "\n",
      "The model performance for testing set\n",
      "--------------------------------------\n",
      "RMSE is 1277.5408594279156\n",
      "R2 score is 0.0002702468264990099\n"
     ]
    }
   ],
   "source": [
    "regressio(Ridge()) #Ridge"
   ]
  },
  {
   "cell_type": "code",
   "execution_count": 23,
   "metadata": {},
   "outputs": [
    {
     "data": {
      "text/plain": [
       "<seaborn.axisgrid.JointGrid at 0x7f5edb8a2f10>"
      ]
     },
     "execution_count": 23,
     "metadata": {},
     "output_type": "execute_result"
    },
    {
     "data": {
      "image/png": "[encoded data removed]",
      "text/plain": [
       "<Figure size 432x432 with 3 Axes>"
      ]
     },
     "metadata": {},
     "output_type": "display_data"
    }
   ],
   "source": [
    "sns.jointplot(data=df, x='kesto', y='distance', kind='reg')"
   ]
  },
  {
   "cell_type": "code",
   "execution_count": 21,
   "metadata": {},
   "outputs": [
    {
     "data": {
      "text/plain": [
       "2316.6858099226765"
      ]
     },
     "execution_count": 21,
     "metadata": {},
     "output_type": "execute_result"
    }
   ],
   "source": [
    "df.distance.max()"
   ]
  },
  {
   "cell_type": "code",
   "execution_count": 22,
   "metadata": {},
   "outputs": [],
   "source": [
    "df = df[df.kesto < 6500]"
   ]
  },
  {
   "cell_type": "code",
   "execution_count": 24,
   "metadata": {},
   "outputs": [],
   "source": [
    "df = df[df.distance < 800]"
   ]
  },
  {
   "cell_type": "code",
   "execution_count": 25,
   "metadata": {},
   "outputs": [
    {
     "data": {
      "text/plain": [
       "731.2967851723196"
      ]
     },
     "execution_count": 25,
     "metadata": {},
     "output_type": "execute_result"
    }
   ],
   "source": [
    "df.distance.max()"
   ]
  },
  {
   "cell_type": "code",
   "execution_count": 26,
   "metadata": {},
   "outputs": [],
   "source": [
    "X = df['distance'].to_frame() # feature-matriisi X; huomaa dataframeksi muuntaminen (to_frame)\n",
    "\n",
    "y = df['kesto'] # target eli selitettävä/ennustettava muuttuja"
   ]
  },
  {
   "cell_type": "code",
   "execution_count": 36,
   "metadata": {},
   "outputs": [
    {
     "name": "stdout",
     "output_type": "stream",
     "text": [
      "[1403.45181414]\n"
     ]
    }
   ],
   "source": [
    "# Tuon lineaarisen regressiomallin\n",
    "from sklearn.linear_model import LinearRegression\n",
    "\n",
    "# Sovitan mallin dataan\n",
    "malli = LinearRegression().fit(X,y)\n",
    "malli.score(X,y) # selityskerroin\n",
    "print(malli.predict(pd.DataFrame([200])))  #ennusteet, kun x:n arvot määritellään"
   ]
  },
  {
   "cell_type": "code",
   "execution_count": 37,
   "metadata": {},
   "outputs": [
    {
     "name": "stdout",
     "output_type": "stream",
     "text": [
      "23.383333333333333\n"
     ]
    }
   ],
   "source": [
    "mini = 1403/60\n",
    "print(mini)"
   ]
  },
  {
   "cell_type": "code",
   "execution_count": null,
   "metadata": {},
   "outputs": [],
   "source": []
  }
 ],
 "metadata": {
  "kernelspec": {
   "display_name": "Python 3",
   "language": "python",
   "name": "python3"
  },
  "language_info": {
   "codemirror_mode": {
    "name": "ipython",
    "version": 3
   },
   "file_extension": ".py",
   "mimetype": "text/x-python",
   "name": "python",
   "nbconvert_exporter": "python",
   "pygments_lexer": "ipython3",
   "version": "3.7.6"
  }
 },
 "nbformat": 4,
 "nbformat_minor": 4
}
