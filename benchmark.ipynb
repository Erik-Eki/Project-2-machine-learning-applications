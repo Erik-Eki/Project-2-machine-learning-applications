{
 "cells": [
  {
   "cell_type": "code",
   "execution_count": null,
   "metadata": {},
   "outputs": [],
   "source": [
    "import psycopg2\n",
    "import pandas as pd\n",
    "import time\n",
    "import seaborn as sns \n",
    "sns.set();\n",
    "import matplotlib.pyplot as plt\n",
    "import numpy as np\n",
    "import mysql.connector\n",
    "from influxdb import InfluxDBClient"
   ]
  },
  {
   "cell_type": "markdown",
   "metadata": {},
   "source": [
    "### TimescaleDB Connection"
   ]
  },
  {
   "cell_type": "code",
   "execution_count": 65,
   "metadata": {},
   "outputs": [],
   "source": [
    "# Luodaan yhteys\n",
    "timescaledb = psycopg2.connect(user = \"postgres\",\n",
    "                              password = \"password\",\n",
    "                              host = \"172.17.0.1\",\n",
    "                              port = \"5432\",\n",
    "                              dbname = \"iiwari\")\n",
    "\n",
    "# Koko höskän luonti\n",
    "# real    10m26,917s\n",
    "# user    0m2,250s\n",
    "# sys     0m5,637s"
   ]
  },
  {
   "cell_type": "markdown",
   "metadata": {},
   "source": [
    "### MariaDB Connection"
   ]
  },
  {
   "cell_type": "code",
   "execution_count": 66,
   "metadata": {},
   "outputs": [],
   "source": [
    "# En muistanut kellottaa, mutta populoinnissa meni noin.30min\n",
    "\n",
    "mariadb = mysql.connector.connect(\n",
    "    host=\"172.17.0.4\",\n",
    "    user=\"root\",\n",
    "    passwd=\"insert-password-here\",\n",
    "    database=\"iiwari_org\"\n",
    ")"
   ]
  },
  {
   "cell_type": "markdown",
   "metadata": {},
   "source": [
    "#### InfluxDB Connection"
   ]
  },
  {
   "cell_type": "code",
   "execution_count": 77,
   "metadata": {},
   "outputs": [],
   "source": [
    "\n",
    "# koko höskän luonti\n",
    "# real    119m57,521s\n",
    "# user    0m3,748s\n",
    "# sys     0m7,392s\n",
    "influxdb = InfluxDBClient(host='172.17.0.5', \n",
    "                        port=8086, \n",
    "                        username='admin', \n",
    "                        password='teamfox',\n",
    "                        database=\"iiwari_org\")\n",
    "\n",
    "# query = \"SELECT * FROM SensorData limit 140000\"\n",
    "# for i in range(20):\n",
    "#     result = influxdb.query(query)\n",
    "#     cpu_points = list(result.get_points())\n",
    "# df = pd.DataFrame(list(cpu_points))"
   ]
  },
  {
   "cell_type": "code",
   "execution_count": 78,
   "metadata": {},
   "outputs": [],
   "source": [
    "connections = [timescaledb, mariadb]\n",
    "\n",
    "def speed_test(connection):\n",
    "    times = []\n",
    "    for round in range(5):\n",
    "        cursor = connection.cursor()\n",
    "        start = time.time()\n",
    "        cursor.execute(\"SELECT * FROM SensorData limit 1400\")\n",
    "        cursor.fetchall()\n",
    "        times.append(time.time()-start)\n",
    "#         print(time.time() - start)\n",
    "\n",
    "    return times\n",
    "\n",
    "def scalability_test(connection):\n",
    "    times = []\n",
    "    for rows in range(0, 1400, 100):\n",
    "        cursor = connection.cursor()\n",
    "        start = time.time()\n",
    "        statement = \"SELECT * FROM SensorData limit \" + str(rows)+\";\"\n",
    "        cursor.execute(statement)\n",
    "        cursor.fetchall()\n",
    "        times.append(time.time()-start)\n",
    "#         print(time.time()-start)\n",
    "\n",
    "    return times\n",
    "\n",
    "def speed_test_and_to_dataframe(connection):\n",
    "    times = []\n",
    "    for round in range(5):\n",
    "        cursor = connection.cursor()\n",
    "        start = time.time()\n",
    "        cursor.execute(\"SELECT * FROM SensorData limit 1400\")\n",
    "        asd = pd.DataFrame(cursor.fetchall())\n",
    "        times.append(time.time()-start)\n",
    "#         print(time.time() - start)\n",
    "    return times\n",
    "\n",
    "def speed_test_condition(connection):\n",
    "    times = []\n",
    "    for round in range(2):\n",
    "        cursor = connection.cursor()\n",
    "        start = time.time()\n",
    "        cursor.execute(\"SELECT * FROM SensorData WHERE node_id = 3200\")\n",
    "        asd = pd.DataFrame(cursor.fetchall())\n",
    "        times.append(time.time()-start)\n",
    "#         print(time.time() - start)\n",
    "    return times\n",
    "\n",
    "db_speed_times = []\n",
    "db_scalability_times = []\n",
    "db_to_dataframe_tiems = []\n",
    "db_speed_condition_times = []\n",
    "for connection in connections:\n",
    "    db_speed_times.append(speed_test(connection))\n",
    "    db_scalability_times.append(scalability_test(connection))\n",
    "    db_to_dataframe_tiems.append(speed_test_and_to_dataframe(connection))\n",
    "    db_speed_condition_times.append(speed_test_condition(connection))"
   ]
  },
  {
   "cell_type": "code",
   "execution_count": null,
   "metadata": {},
   "outputs": [],
   "source": [
    "\n",
    "def plot_benchmarks(db_scalability_times, db_speed_times, db_to_dataframe_tiems, db_speed_condition_times):\n",
    "    Databases = [\"TimescaleSB\", \"MariaDB\"]\n",
    "    fig, axes = plt.subplots(2,2, figsize=(16, 11))\n",
    "    for i in range(len(db_scalability_times)):\n",
    "        \n",
    "        sns.lineplot(ax=axes[0][0],x=[x for x in range(len(db_speed_times[i]))], y=db_speed_times[i]).set_title(\"SELECT * FROM SensorData limit 1400000\")\n",
    "        axes[0][0].set_ylabel(\"Time s\")\n",
    "        axes[0][0].xaxis.set_major_locator(plt.MultipleLocator(1))\n",
    "        axes[0][0].set_xlabel(\"Number of iterations\")\n",
    "        \n",
    "        sns.lineplot(ax=axes[0][1],x=[x for x in range(len(db_to_dataframe_tiems[i]))], y=db_to_dataframe_tiems[i]).set_title(\"SELECT * FROM SensorData limit 1400000 + dataframe\")\n",
    "        axes[0][1].set_ylabel(\"Time s\")\n",
    "        axes[0][1].xaxis.set_major_locator(plt.MultipleLocator(1))\n",
    "        axes[0][1].set_xlabel(\"Number of iterations\")\n",
    "        \n",
    "        sns.lineplot(ax=axes[1][0],x=[x for x in range(len(db_speed_condition_times[i]))], y=db_speed_condition_times[i]).set_title(\"SELECT * FROM SensorData WHERE node_id = 3200 + dataframe\")\n",
    "        axes[1][0].set_ylabel(\"Time s\")\n",
    "        axes[1][0].xaxis.set_major_locator(plt.MultipleLocator(1))\n",
    "        axes[1][0].set_xlabel(\"Number of iterations\")\n",
    "        \n",
    "\n",
    "        sns.lineplot(ax=axes[1][1],x=[x for x in range(len(db_scalability_times[i]))], y=db_scalability_times[i]).set_title(\"SELECT * FROM SensorData LIMIT\")\n",
    "        axes[1][1].xaxis.set_major_locator(plt.MultipleLocator(1))\n",
    "        axes[1][1].set_ylabel(\"Time s\")\n",
    "        axes[1][1].set_xlabel(\"Number of rows *100,000\")\n",
    "    \n",
    "    plt.suptitle('Benchmarks ',fontsize=20)\n",
    "    axes[0][0].legend(title='Database', loc='upper center', labels=Databases)\n",
    "    axes[0][1].legend(title='Database', loc='upper center', labels=Databases)\n",
    "    axes[1][0].legend(title='Database', loc='upper center', labels=Databases)\n",
    "    axes[1][1].legend(title='Database', loc='upper center', labels=Databases)\n",
    "\n",
    "    plt.show()\n",
    "    \n",
    "plot_benchmarks(db_scalability_times, db_speed_times, db_to_dataframe_tiems, db_speed_condition_times)"
   ]
  },
  {
   "cell_type": "code",
   "execution_count": null,
   "metadata": {},
   "outputs": [],
   "source": []
  }
 ],
 "metadata": {
  "kernelspec": {
   "display_name": "Python 3",
   "language": "python",
   "name": "python3"
  },
  "language_info": {
   "codemirror_mode": {
    "name": "ipython",
    "version": 3
   },
   "file_extension": ".py",
   "mimetype": "text/x-python",
   "name": "python",
   "nbconvert_exporter": "python",
   "pygments_lexer": "ipython3",
   "version": "3.8.5"
  }
 },
 "nbformat": 4,
 "nbformat_minor": 4
}
