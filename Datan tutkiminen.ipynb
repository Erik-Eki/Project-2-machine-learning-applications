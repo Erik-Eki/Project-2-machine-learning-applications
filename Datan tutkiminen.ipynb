{
 "cells": [
  {
   "cell_type": "code",
   "execution_count": 6,
   "metadata": {},
   "outputs": [
    {
     "ename": "ValueError",
     "evalue": "No objects to concatenate",
     "output_type": "error",
     "traceback": [
      "\u001b[1;31m---------------------------------------------------------------------------\u001b[0m",
      "\u001b[1;31mValueError\u001b[0m                                Traceback (most recent call last)",
      "\u001b[1;32m<ipython-input-6-388fb8920e08>\u001b[0m in \u001b[0;36m<module>\u001b[1;34m\u001b[0m\n\u001b[0;32m     10\u001b[0m     \u001b[0mli\u001b[0m\u001b[1;33m.\u001b[0m\u001b[0mappend\u001b[0m\u001b[1;33m(\u001b[0m\u001b[0mdf\u001b[0m\u001b[1;33m)\u001b[0m\u001b[1;33m\u001b[0m\u001b[1;33m\u001b[0m\u001b[0m\n\u001b[0;32m     11\u001b[0m \u001b[1;33m\u001b[0m\u001b[0m\n\u001b[1;32m---> 12\u001b[1;33m \u001b[0mdf\u001b[0m \u001b[1;33m=\u001b[0m \u001b[0mpd\u001b[0m\u001b[1;33m.\u001b[0m\u001b[0mconcat\u001b[0m\u001b[1;33m(\u001b[0m\u001b[0mli\u001b[0m\u001b[1;33m,\u001b[0m \u001b[0maxis\u001b[0m\u001b[1;33m=\u001b[0m\u001b[1;36m0\u001b[0m\u001b[1;33m,\u001b[0m \u001b[0mignore_index\u001b[0m\u001b[1;33m=\u001b[0m\u001b[1;32mTrue\u001b[0m\u001b[1;33m)\u001b[0m\u001b[1;33m\u001b[0m\u001b[1;33m\u001b[0m\u001b[0m\n\u001b[0m\u001b[0;32m     13\u001b[0m \u001b[0mdf\u001b[0m\u001b[1;33m\u001b[0m\u001b[1;33m\u001b[0m\u001b[0m\n",
      "\u001b[1;32mc:\\users\\eriko\\appdata\\local\\programs\\python\\python38\\lib\\site-packages\\pandas\\core\\reshape\\concat.py\u001b[0m in \u001b[0;36mconcat\u001b[1;34m(objs, axis, join, ignore_index, keys, levels, names, verify_integrity, sort, copy)\u001b[0m\n\u001b[0;32m    272\u001b[0m     \u001b[0mValueError\u001b[0m\u001b[1;33m:\u001b[0m \u001b[0mIndexes\u001b[0m \u001b[0mhave\u001b[0m \u001b[0moverlapping\u001b[0m \u001b[0mvalues\u001b[0m\u001b[1;33m:\u001b[0m \u001b[1;33m[\u001b[0m\u001b[1;34m'a'\u001b[0m\u001b[1;33m]\u001b[0m\u001b[1;33m\u001b[0m\u001b[1;33m\u001b[0m\u001b[0m\n\u001b[0;32m    273\u001b[0m     \"\"\"\n\u001b[1;32m--> 274\u001b[1;33m     op = _Concatenator(\n\u001b[0m\u001b[0;32m    275\u001b[0m         \u001b[0mobjs\u001b[0m\u001b[1;33m,\u001b[0m\u001b[1;33m\u001b[0m\u001b[1;33m\u001b[0m\u001b[0m\n\u001b[0;32m    276\u001b[0m         \u001b[0maxis\u001b[0m\u001b[1;33m=\u001b[0m\u001b[0maxis\u001b[0m\u001b[1;33m,\u001b[0m\u001b[1;33m\u001b[0m\u001b[1;33m\u001b[0m\u001b[0m\n",
      "\u001b[1;32mc:\\users\\eriko\\appdata\\local\\programs\\python\\python38\\lib\\site-packages\\pandas\\core\\reshape\\concat.py\u001b[0m in \u001b[0;36m__init__\u001b[1;34m(self, objs, axis, join, keys, levels, names, ignore_index, verify_integrity, copy, sort)\u001b[0m\n\u001b[0;32m    329\u001b[0m \u001b[1;33m\u001b[0m\u001b[0m\n\u001b[0;32m    330\u001b[0m         \u001b[1;32mif\u001b[0m \u001b[0mlen\u001b[0m\u001b[1;33m(\u001b[0m\u001b[0mobjs\u001b[0m\u001b[1;33m)\u001b[0m \u001b[1;33m==\u001b[0m \u001b[1;36m0\u001b[0m\u001b[1;33m:\u001b[0m\u001b[1;33m\u001b[0m\u001b[1;33m\u001b[0m\u001b[0m\n\u001b[1;32m--> 331\u001b[1;33m             \u001b[1;32mraise\u001b[0m \u001b[0mValueError\u001b[0m\u001b[1;33m(\u001b[0m\u001b[1;34m\"No objects to concatenate\"\u001b[0m\u001b[1;33m)\u001b[0m\u001b[1;33m\u001b[0m\u001b[1;33m\u001b[0m\u001b[0m\n\u001b[0m\u001b[0;32m    332\u001b[0m \u001b[1;33m\u001b[0m\u001b[0m\n\u001b[0;32m    333\u001b[0m         \u001b[1;32mif\u001b[0m \u001b[0mkeys\u001b[0m \u001b[1;32mis\u001b[0m \u001b[1;32mNone\u001b[0m\u001b[1;33m:\u001b[0m\u001b[1;33m\u001b[0m\u001b[1;33m\u001b[0m\u001b[0m\n",
      "\u001b[1;31mValueError\u001b[0m: No objects to concatenate"
     ]
    }
   ],
   "source": [
    "import pandas as pd\n",
    "import glob\n",
    "path = r'./data' # use your path\n",
    "all_files = glob.glob(path + \"/*.csv\")\n",
    "\n",
    "li = []\n",
    "\n",
    "for filename in all_files:\n",
    "    df = pd.read_csv(filename)\n",
    "    li.append(df)\n",
    "\n",
    "df = pd.concat(li, axis=0, ignore_index=True)\n",
    "df"
   ]
  },
  {
   "cell_type": "code",
   "execution_count": 209,
   "metadata": {
    "collapsed": true,
    "jupyter": {
     "outputs_hidden": true
    }
   },
   "outputs": [
    {
     "name": "stdout",
     "output_type": "stream",
     "text": [
      "Number of nodes: 32\n",
      "First node: -2393099149039893833\n"
     ]
    },
    {
     "data": {
      "text/html": [
       "<div>\n",
       "<style scoped>\n",
       "    .dataframe tbody tr th:only-of-type {\n",
       "        vertical-align: middle;\n",
       "    }\n",
       "\n",
       "    .dataframe tbody tr th {\n",
       "        vertical-align: top;\n",
       "    }\n",
       "\n",
       "    .dataframe thead th {\n",
       "        text-align: right;\n",
       "    }\n",
       "</style>\n",
       "<table border=\"1\" class=\"dataframe\">\n",
       "  <thead>\n",
       "    <tr style=\"text-align: right;\">\n",
       "      <th></th>\n",
       "      <th>node_id</th>\n",
       "      <th>timestamp</th>\n",
       "      <th>x</th>\n",
       "      <th>y</th>\n",
       "      <th>z</th>\n",
       "      <th>q</th>\n",
       "    </tr>\n",
       "  </thead>\n",
       "  <tbody>\n",
       "    <tr>\n",
       "      <th>0</th>\n",
       "      <td>-2393099149039893833</td>\n",
       "      <td>2020-06-24 12:20:08.533016+00:00</td>\n",
       "      <td>2762</td>\n",
       "      <td>-257</td>\n",
       "      <td>100</td>\n",
       "      <td>0</td>\n",
       "    </tr>\n",
       "    <tr>\n",
       "      <th>1</th>\n",
       "      <td>-2393099149039893833</td>\n",
       "      <td>2020-06-24 12:20:08.620015+00:00</td>\n",
       "      <td>2870</td>\n",
       "      <td>-344</td>\n",
       "      <td>100</td>\n",
       "      <td>0</td>\n",
       "    </tr>\n",
       "    <tr>\n",
       "      <th>2</th>\n",
       "      <td>-2393099149039893833</td>\n",
       "      <td>2020-06-24 12:20:09.622827+00:00</td>\n",
       "      <td>2916</td>\n",
       "      <td>-344</td>\n",
       "      <td>100</td>\n",
       "      <td>0</td>\n",
       "    </tr>\n",
       "    <tr>\n",
       "      <th>3</th>\n",
       "      <td>-2393099149039893833</td>\n",
       "      <td>2020-06-24 12:20:09.622846+00:00</td>\n",
       "      <td>2894</td>\n",
       "      <td>-254</td>\n",
       "      <td>100</td>\n",
       "      <td>0</td>\n",
       "    </tr>\n",
       "    <tr>\n",
       "      <th>4</th>\n",
       "      <td>-2393099149039893833</td>\n",
       "      <td>2020-06-24 12:20:10.116102+00:00</td>\n",
       "      <td>2888</td>\n",
       "      <td>-188</td>\n",
       "      <td>100</td>\n",
       "      <td>0</td>\n",
       "    </tr>\n",
       "    <tr>\n",
       "      <th>...</th>\n",
       "      <td>...</td>\n",
       "      <td>...</td>\n",
       "      <td>...</td>\n",
       "      <td>...</td>\n",
       "      <td>...</td>\n",
       "      <td>...</td>\n",
       "    </tr>\n",
       "    <tr>\n",
       "      <th>583869</th>\n",
       "      <td>-2393099149039893833</td>\n",
       "      <td>2020-10-23 06:57:02.988595+00:00</td>\n",
       "      <td>2766</td>\n",
       "      <td>-339</td>\n",
       "      <td>100</td>\n",
       "      <td>0</td>\n",
       "    </tr>\n",
       "    <tr>\n",
       "      <th>583870</th>\n",
       "      <td>-2393099149039893833</td>\n",
       "      <td>2020-10-23 06:57:21.988764+00:00</td>\n",
       "      <td>2772</td>\n",
       "      <td>-354</td>\n",
       "      <td>100</td>\n",
       "      <td>0</td>\n",
       "    </tr>\n",
       "    <tr>\n",
       "      <th>583871</th>\n",
       "      <td>-2393099149039893833</td>\n",
       "      <td>2020-10-23 06:57:31.988804+00:00</td>\n",
       "      <td>2776</td>\n",
       "      <td>-370</td>\n",
       "      <td>100</td>\n",
       "      <td>0</td>\n",
       "    </tr>\n",
       "    <tr>\n",
       "      <th>583872</th>\n",
       "      <td>-2393099149039893833</td>\n",
       "      <td>2020-10-23 06:57:41.988742+00:00</td>\n",
       "      <td>2775</td>\n",
       "      <td>-363</td>\n",
       "      <td>100</td>\n",
       "      <td>0</td>\n",
       "    </tr>\n",
       "    <tr>\n",
       "      <th>583873</th>\n",
       "      <td>-2393099149039893833</td>\n",
       "      <td>2020-10-23 06:57:50.988798+00:00</td>\n",
       "      <td>2773</td>\n",
       "      <td>-369</td>\n",
       "      <td>100</td>\n",
       "      <td>0</td>\n",
       "    </tr>\n",
       "  </tbody>\n",
       "</table>\n",
       "<p>583874 rows × 6 columns</p>\n",
       "</div>"
      ],
      "text/plain": [
       "                    node_id                         timestamp     x    y    z  \\\n",
       "0      -2393099149039893833  2020-06-24 12:20:08.533016+00:00  2762 -257  100   \n",
       "1      -2393099149039893833  2020-06-24 12:20:08.620015+00:00  2870 -344  100   \n",
       "2      -2393099149039893833  2020-06-24 12:20:09.622827+00:00  2916 -344  100   \n",
       "3      -2393099149039893833  2020-06-24 12:20:09.622846+00:00  2894 -254  100   \n",
       "4      -2393099149039893833  2020-06-24 12:20:10.116102+00:00  2888 -188  100   \n",
       "...                     ...                               ...   ...  ...  ...   \n",
       "583869 -2393099149039893833  2020-10-23 06:57:02.988595+00:00  2766 -339  100   \n",
       "583870 -2393099149039893833  2020-10-23 06:57:21.988764+00:00  2772 -354  100   \n",
       "583871 -2393099149039893833  2020-10-23 06:57:31.988804+00:00  2776 -370  100   \n",
       "583872 -2393099149039893833  2020-10-23 06:57:41.988742+00:00  2775 -363  100   \n",
       "583873 -2393099149039893833  2020-10-23 06:57:50.988798+00:00  2773 -369  100   \n",
       "\n",
       "        q  \n",
       "0       0  \n",
       "1       0  \n",
       "2       0  \n",
       "3       0  \n",
       "4       0  \n",
       "...    ..  \n",
       "583869  0  \n",
       "583870  0  \n",
       "583871  0  \n",
       "583872  0  \n",
       "583873  0  \n",
       "\n",
       "[583874 rows x 6 columns]"
      ]
     },
     "execution_count": 209,
     "metadata": {},
     "output_type": "execute_result"
    }
   ],
   "source": [
    "print(\"Number of nodes: %s\" % len(df[\"node_id\"].unique()))\n",
    "\n",
    "print(\"First node: %s\" % df[\"node_id\"].unique()[0])\n",
    "node = df[\"node_id\"].unique()[0]\n",
    "\n",
    "df1 = df[df[\"node_id\"] == node]\n",
    "df1"
   ]
  },
  {
   "cell_type": "code",
   "execution_count": 263,
   "metadata": {},
   "outputs": [
    {
     "name": "stderr",
     "output_type": "stream",
     "text": [
      "<ipython-input-263-7141d0099610>:7: SettingWithCopyWarning: \n",
      "A value is trying to be set on a copy of a slice from a DataFrame.\n",
      "Try using .loc[row_indexer,col_indexer] = value instead\n",
      "\n",
      "See the caveats in the documentation: https://pandas.pydata.org/pandas-docs/stable/user_guide/indexing.html#returning-a-view-versus-a-copy\n",
      "  data['x_grid'] = x_cut.values\n",
      "<ipython-input-263-7141d0099610>:8: SettingWithCopyWarning: \n",
      "A value is trying to be set on a copy of a slice from a DataFrame.\n",
      "Try using .loc[row_indexer,col_indexer] = value instead\n",
      "\n",
      "See the caveats in the documentation: https://pandas.pydata.org/pandas-docs/stable/user_guide/indexing.html#returning-a-view-versus-a-copy\n",
      "  data['y_grid'] = y_cut.values\n"
     ]
    },
    {
     "data": {
      "text/html": [
       "<div>\n",
       "<style scoped>\n",
       "    .dataframe tbody tr th:only-of-type {\n",
       "        vertical-align: middle;\n",
       "    }\n",
       "\n",
       "    .dataframe tbody tr th {\n",
       "        vertical-align: top;\n",
       "    }\n",
       "\n",
       "    .dataframe thead th {\n",
       "        text-align: right;\n",
       "    }\n",
       "</style>\n",
       "<table border=\"1\" class=\"dataframe\">\n",
       "  <thead>\n",
       "    <tr style=\"text-align: right;\">\n",
       "      <th></th>\n",
       "      <th>node_id</th>\n",
       "      <th>timestamp</th>\n",
       "      <th>x</th>\n",
       "      <th>y</th>\n",
       "      <th>z</th>\n",
       "      <th>q</th>\n",
       "      <th>x_grid</th>\n",
       "      <th>y_grid</th>\n",
       "    </tr>\n",
       "  </thead>\n",
       "  <tbody>\n",
       "    <tr>\n",
       "      <th>0</th>\n",
       "      <td>-2393099149039893833</td>\n",
       "      <td>2020-06-24 12:20:08.533016+00:00</td>\n",
       "      <td>2762</td>\n",
       "      <td>-257</td>\n",
       "      <td>100</td>\n",
       "      <td>0</td>\n",
       "      <td>4</td>\n",
       "      <td>4</td>\n",
       "    </tr>\n",
       "    <tr>\n",
       "      <th>1</th>\n",
       "      <td>-2393099149039893833</td>\n",
       "      <td>2020-06-24 12:20:08.620015+00:00</td>\n",
       "      <td>2870</td>\n",
       "      <td>-344</td>\n",
       "      <td>100</td>\n",
       "      <td>0</td>\n",
       "      <td>5</td>\n",
       "      <td>4</td>\n",
       "    </tr>\n",
       "    <tr>\n",
       "      <th>2</th>\n",
       "      <td>-2393099149039893833</td>\n",
       "      <td>2020-06-24 12:20:09.622827+00:00</td>\n",
       "      <td>2916</td>\n",
       "      <td>-344</td>\n",
       "      <td>100</td>\n",
       "      <td>0</td>\n",
       "      <td>5</td>\n",
       "      <td>4</td>\n",
       "    </tr>\n",
       "    <tr>\n",
       "      <th>3</th>\n",
       "      <td>-2393099149039893833</td>\n",
       "      <td>2020-06-24 12:20:09.622846+00:00</td>\n",
       "      <td>2894</td>\n",
       "      <td>-254</td>\n",
       "      <td>100</td>\n",
       "      <td>0</td>\n",
       "      <td>5</td>\n",
       "      <td>4</td>\n",
       "    </tr>\n",
       "    <tr>\n",
       "      <th>4</th>\n",
       "      <td>-2393099149039893833</td>\n",
       "      <td>2020-06-24 12:20:10.116102+00:00</td>\n",
       "      <td>2888</td>\n",
       "      <td>-188</td>\n",
       "      <td>100</td>\n",
       "      <td>0</td>\n",
       "      <td>5</td>\n",
       "      <td>4</td>\n",
       "    </tr>\n",
       "    <tr>\n",
       "      <th>...</th>\n",
       "      <td>...</td>\n",
       "      <td>...</td>\n",
       "      <td>...</td>\n",
       "      <td>...</td>\n",
       "      <td>...</td>\n",
       "      <td>...</td>\n",
       "      <td>...</td>\n",
       "      <td>...</td>\n",
       "    </tr>\n",
       "    <tr>\n",
       "      <th>583869</th>\n",
       "      <td>-2393099149039893833</td>\n",
       "      <td>2020-10-23 06:57:02.988595+00:00</td>\n",
       "      <td>2766</td>\n",
       "      <td>-339</td>\n",
       "      <td>100</td>\n",
       "      <td>0</td>\n",
       "      <td>4</td>\n",
       "      <td>4</td>\n",
       "    </tr>\n",
       "    <tr>\n",
       "      <th>583870</th>\n",
       "      <td>-2393099149039893833</td>\n",
       "      <td>2020-10-23 06:57:21.988764+00:00</td>\n",
       "      <td>2772</td>\n",
       "      <td>-354</td>\n",
       "      <td>100</td>\n",
       "      <td>0</td>\n",
       "      <td>4</td>\n",
       "      <td>4</td>\n",
       "    </tr>\n",
       "    <tr>\n",
       "      <th>583871</th>\n",
       "      <td>-2393099149039893833</td>\n",
       "      <td>2020-10-23 06:57:31.988804+00:00</td>\n",
       "      <td>2776</td>\n",
       "      <td>-370</td>\n",
       "      <td>100</td>\n",
       "      <td>0</td>\n",
       "      <td>4</td>\n",
       "      <td>4</td>\n",
       "    </tr>\n",
       "    <tr>\n",
       "      <th>583872</th>\n",
       "      <td>-2393099149039893833</td>\n",
       "      <td>2020-10-23 06:57:41.988742+00:00</td>\n",
       "      <td>2775</td>\n",
       "      <td>-363</td>\n",
       "      <td>100</td>\n",
       "      <td>0</td>\n",
       "      <td>4</td>\n",
       "      <td>4</td>\n",
       "    </tr>\n",
       "    <tr>\n",
       "      <th>583873</th>\n",
       "      <td>-2393099149039893833</td>\n",
       "      <td>2020-10-23 06:57:50.988798+00:00</td>\n",
       "      <td>2773</td>\n",
       "      <td>-369</td>\n",
       "      <td>100</td>\n",
       "      <td>0</td>\n",
       "      <td>4</td>\n",
       "      <td>4</td>\n",
       "    </tr>\n",
       "  </tbody>\n",
       "</table>\n",
       "<p>583874 rows × 8 columns</p>\n",
       "</div>"
      ],
      "text/plain": [
       "                    node_id                         timestamp     x    y    z  \\\n",
       "0      -2393099149039893833  2020-06-24 12:20:08.533016+00:00  2762 -257  100   \n",
       "1      -2393099149039893833  2020-06-24 12:20:08.620015+00:00  2870 -344  100   \n",
       "2      -2393099149039893833  2020-06-24 12:20:09.622827+00:00  2916 -344  100   \n",
       "3      -2393099149039893833  2020-06-24 12:20:09.622846+00:00  2894 -254  100   \n",
       "4      -2393099149039893833  2020-06-24 12:20:10.116102+00:00  2888 -188  100   \n",
       "...                     ...                               ...   ...  ...  ...   \n",
       "583869 -2393099149039893833  2020-10-23 06:57:02.988595+00:00  2766 -339  100   \n",
       "583870 -2393099149039893833  2020-10-23 06:57:21.988764+00:00  2772 -354  100   \n",
       "583871 -2393099149039893833  2020-10-23 06:57:31.988804+00:00  2776 -370  100   \n",
       "583872 -2393099149039893833  2020-10-23 06:57:41.988742+00:00  2775 -363  100   \n",
       "583873 -2393099149039893833  2020-10-23 06:57:50.988798+00:00  2773 -369  100   \n",
       "\n",
       "        q  x_grid  y_grid  \n",
       "0       0       4       4  \n",
       "1       0       5       4  \n",
       "2       0       5       4  \n",
       "3       0       5       4  \n",
       "4       0       5       4  \n",
       "...    ..     ...     ...  \n",
       "583869  0       4       4  \n",
       "583870  0       4       4  \n",
       "583871  0       4       4  \n",
       "583872  0       4       4  \n",
       "583873  0       4       4  \n",
       "\n",
       "[583874 rows x 8 columns]"
      ]
     },
     "execution_count": 263,
     "metadata": {},
     "output_type": "execute_result"
    }
   ],
   "source": [
    "def xy_to_grid(data,x,y,k):\n",
    "    \n",
    "    x_cut = pd.cut(data.x, k,labels=False)\n",
    "    y_cut = pd.cut(data.y, k,labels=False)\n",
    "    \n",
    "    # Laitetaan saadut arvot dataframeen\n",
    "    data['x_grid'] = x_cut.values\n",
    "    data['y_grid'] = y_cut.values\n",
    "    return data\n",
    "\n",
    "df_grid = xy_to_grid(df1,df1.x, df1.y, 10)\n",
    "df_grid"
   ]
  },
  {
   "cell_type": "markdown",
   "metadata": {},
   "source": [
    "### Visualisoidaan outliereita"
   ]
  },
  {
   "cell_type": "code",
   "execution_count": 2,
   "metadata": {},
   "outputs": [
    {
     "ename": "NameError",
     "evalue": "name 'df_grid' is not defined",
     "output_type": "error",
     "traceback": [
      "\u001b[1;31m---------------------------------------------------------------------------\u001b[0m",
      "\u001b[1;31mNameError\u001b[0m                                 Traceback (most recent call last)",
      "\u001b[1;32m<ipython-input-2-e1b7b043e57d>\u001b[0m in \u001b[0;36m<module>\u001b[1;34m\u001b[0m\n\u001b[0;32m     43\u001b[0m     \u001b[0mplt\u001b[0m\u001b[1;33m.\u001b[0m\u001b[0mshow\u001b[0m\u001b[1;33m(\u001b[0m\u001b[1;33m)\u001b[0m\u001b[1;33m\u001b[0m\u001b[1;33m\u001b[0m\u001b[0m\n\u001b[0;32m     44\u001b[0m \u001b[1;33m\u001b[0m\u001b[0m\n\u001b[1;32m---> 45\u001b[1;33m \u001b[0mdraw_histogram\u001b[0m\u001b[1;33m(\u001b[0m\u001b[0mdf_grid\u001b[0m\u001b[1;33m[\u001b[0m\u001b[1;34m'x'\u001b[0m\u001b[1;33m]\u001b[0m\u001b[1;33m,\u001b[0m \u001b[0mdf_grid\u001b[0m\u001b[1;33m[\u001b[0m\u001b[1;34m'y'\u001b[0m\u001b[1;33m]\u001b[0m\u001b[1;33m,\u001b[0m \u001b[1;36m20\u001b[0m\u001b[1;33m)\u001b[0m\u001b[1;33m\u001b[0m\u001b[1;33m\u001b[0m\u001b[0m\n\u001b[0m",
      "\u001b[1;31mNameError\u001b[0m: name 'df_grid' is not defined"
     ]
    }
   ],
   "source": [
    "import matplotlib.pyplot as plt\n",
    "from scipy.stats import norm\n",
    "import seaborn as sns\n",
    "\n",
    "def draw_histogram(x, y, bin_num):\n",
    "    plt.figure(figsize=(15,10))\n",
    "    # mean of distribution\n",
    "    mu = np.mean(x)\n",
    "    mu2 = np.mean(y)\n",
    "    print(\"x mean: \", mu)\n",
    "    print(\"y mean: \", mu2)\n",
    "\n",
    "    # standard deviation of distribution\n",
    "    sigma = np.std(x)\n",
    "    sigma2 = np.std(y)\n",
    "    print(\"x std: \", sigma)\n",
    "    print(\"y std: \", sigma2)\n",
    "\n",
    "    # bins\n",
    "    num_bins = bin_num\n",
    "\n",
    "    # the histogram of the data\n",
    "    n, bins, patches = plt.hist(x, num_bins, density=1, facecolor='orange', alpha=0.5, label='x')\n",
    "    n2, bins2, patches2 = plt.hist(y, num_bins, density=1, facecolor='blue', alpha=0.5, label='y')\n",
    "\n",
    "    # add a 'best fit' line\n",
    "    y = norm.pdf(bins, mu, sigma)\n",
    "    y2 = norm.pdf(bins2, mu2, sigma2)\n",
    "\n",
    "    # This is what it norm.pdf does\n",
    "    #y = ((1 / (np.sqrt(2 * np.pi) * sigma)) * np.exp(-0.5 * (1 / sigma * (bins - mu))**2))\n",
    "    #y2 = ((1 / (np.sqrt(2 * np.pi) * sigma2)) * np.exp(-0.5 * (1 / sigma2 * (bins2 - mu2))**2))\n",
    "\n",
    "    plt.plot(bins, y, 'r', alpha=0.8, label='x')\n",
    "    plt.plot(bins2, y2, 'b', alpha=0.8, label='y')\n",
    "\n",
    "    plt.title(\"Histogrammi lmao (bins %s)\" % num_bins)\n",
    "    plt.xlabel(\"Arvo\")\n",
    "    plt.ylabel(\"Tiheys\")\n",
    "    plt.legend()\n",
    "    # Tweak spacing to prevent clipping of ylabel\n",
    "    fig.tight_layout()\n",
    "    plt.show()\n",
    "    \n",
    "draw_histogram(df_grid['x'], df_grid['y'], 20)"
   ]
  },
  {
   "cell_type": "markdown",
   "metadata": {},
   "source": [
    "### Laitetaan eri dataframeen koska lmao"
   ]
  },
  {
   "cell_type": "code",
   "execution_count": 268,
   "metadata": {},
   "outputs": [
    {
     "data": {
      "text/html": [
       "<div>\n",
       "<style scoped>\n",
       "    .dataframe tbody tr th:only-of-type {\n",
       "        vertical-align: middle;\n",
       "    }\n",
       "\n",
       "    .dataframe tbody tr th {\n",
       "        vertical-align: top;\n",
       "    }\n",
       "\n",
       "    .dataframe thead th {\n",
       "        text-align: right;\n",
       "    }\n",
       "</style>\n",
       "<table border=\"1\" class=\"dataframe\">\n",
       "  <thead>\n",
       "    <tr style=\"text-align: right;\">\n",
       "      <th></th>\n",
       "      <th>x</th>\n",
       "      <th>y</th>\n",
       "    </tr>\n",
       "  </thead>\n",
       "  <tbody>\n",
       "    <tr>\n",
       "      <th>0</th>\n",
       "      <td>2762</td>\n",
       "      <td>-257</td>\n",
       "    </tr>\n",
       "    <tr>\n",
       "      <th>1</th>\n",
       "      <td>2870</td>\n",
       "      <td>-344</td>\n",
       "    </tr>\n",
       "    <tr>\n",
       "      <th>2</th>\n",
       "      <td>2916</td>\n",
       "      <td>-344</td>\n",
       "    </tr>\n",
       "    <tr>\n",
       "      <th>3</th>\n",
       "      <td>2894</td>\n",
       "      <td>-254</td>\n",
       "    </tr>\n",
       "    <tr>\n",
       "      <th>4</th>\n",
       "      <td>2888</td>\n",
       "      <td>-188</td>\n",
       "    </tr>\n",
       "  </tbody>\n",
       "</table>\n",
       "</div>"
      ],
      "text/plain": [
       "      x    y\n",
       "0  2762 -257\n",
       "1  2870 -344\n",
       "2  2916 -344\n",
       "3  2894 -254\n",
       "4  2888 -188"
      ]
     },
     "execution_count": 268,
     "metadata": {},
     "output_type": "execute_result"
    }
   ],
   "source": [
    "df2 = df_grid[[\"x\",\"y\"]]\n",
    "df2.head()"
   ]
  },
  {
   "cell_type": "markdown",
   "metadata": {},
   "source": [
    "### Yksi tapa etsiä outliereita (z-score)"
   ]
  },
  {
   "cell_type": "code",
   "execution_count": 269,
   "metadata": {
    "collapsed": true,
    "jupyter": {
     "outputs_hidden": true
    }
   },
   "outputs": [
    {
     "data": {
      "text/html": [
       "<div>\n",
       "<style scoped>\n",
       "    .dataframe tbody tr th:only-of-type {\n",
       "        vertical-align: middle;\n",
       "    }\n",
       "\n",
       "    .dataframe tbody tr th {\n",
       "        vertical-align: top;\n",
       "    }\n",
       "\n",
       "    .dataframe thead th {\n",
       "        text-align: right;\n",
       "    }\n",
       "</style>\n",
       "<table border=\"1\" class=\"dataframe\">\n",
       "  <thead>\n",
       "    <tr style=\"text-align: right;\">\n",
       "      <th></th>\n",
       "      <th>x</th>\n",
       "      <th>y</th>\n",
       "    </tr>\n",
       "  </thead>\n",
       "  <tbody>\n",
       "    <tr>\n",
       "      <th>0</th>\n",
       "      <td>2762.0</td>\n",
       "      <td>-257.0</td>\n",
       "    </tr>\n",
       "    <tr>\n",
       "      <th>1</th>\n",
       "      <td>2870.0</td>\n",
       "      <td>-344.0</td>\n",
       "    </tr>\n",
       "    <tr>\n",
       "      <th>2</th>\n",
       "      <td>2916.0</td>\n",
       "      <td>-344.0</td>\n",
       "    </tr>\n",
       "    <tr>\n",
       "      <th>3</th>\n",
       "      <td>2894.0</td>\n",
       "      <td>-254.0</td>\n",
       "    </tr>\n",
       "    <tr>\n",
       "      <th>4</th>\n",
       "      <td>2888.0</td>\n",
       "      <td>-188.0</td>\n",
       "    </tr>\n",
       "    <tr>\n",
       "      <th>...</th>\n",
       "      <td>...</td>\n",
       "      <td>...</td>\n",
       "    </tr>\n",
       "    <tr>\n",
       "      <th>583869</th>\n",
       "      <td>2766.0</td>\n",
       "      <td>-339.0</td>\n",
       "    </tr>\n",
       "    <tr>\n",
       "      <th>583870</th>\n",
       "      <td>2772.0</td>\n",
       "      <td>-354.0</td>\n",
       "    </tr>\n",
       "    <tr>\n",
       "      <th>583871</th>\n",
       "      <td>2776.0</td>\n",
       "      <td>-370.0</td>\n",
       "    </tr>\n",
       "    <tr>\n",
       "      <th>583872</th>\n",
       "      <td>2775.0</td>\n",
       "      <td>-363.0</td>\n",
       "    </tr>\n",
       "    <tr>\n",
       "      <th>583873</th>\n",
       "      <td>2773.0</td>\n",
       "      <td>-369.0</td>\n",
       "    </tr>\n",
       "  </tbody>\n",
       "</table>\n",
       "<p>583874 rows × 2 columns</p>\n",
       "</div>"
      ],
      "text/plain": [
       "             x      y\n",
       "0       2762.0 -257.0\n",
       "1       2870.0 -344.0\n",
       "2       2916.0 -344.0\n",
       "3       2894.0 -254.0\n",
       "4       2888.0 -188.0\n",
       "...        ...    ...\n",
       "583869  2766.0 -339.0\n",
       "583870  2772.0 -354.0\n",
       "583871  2776.0 -370.0\n",
       "583872  2775.0 -363.0\n",
       "583873  2773.0 -369.0\n",
       "\n",
       "[583874 rows x 2 columns]"
      ]
     },
     "execution_count": 269,
     "metadata": {},
     "output_type": "execute_result"
    }
   ],
   "source": [
    "import numpy as np\n",
    "df_clean = df2[np.abs(df2-df2.mean()) <= (2*df2.std())]\n",
    "df_clean"
   ]
  },
  {
   "cell_type": "code",
   "execution_count": 270,
   "metadata": {
    "jupyter": {
     "source_hidden": true
    }
   },
   "outputs": [
    {
     "data": {
      "text/plain": [
       "{'x': [0, 583874], 'y': [0, 583874]}"
      ]
     },
     "execution_count": 270,
     "metadata": {},
     "output_type": "execute_result"
    }
   ],
   "source": [
    "outliers = {}\n",
    "for i in range(df_clean.shape[1]):\n",
    "    min_t = df_clean[df_clean.columns[i]].mean() - (3 * df_clean[df_clean.columns[i]].std())\n",
    "    max_t = df_clean[df_clean.columns[i]].mean() + (3 * df_clean[df_clean.columns[i]].std())\n",
    "    count = 0\n",
    "    for j in df_clean[df_clean.columns[i]]:\n",
    "        if j < min_t or j > max_t:\n",
    "            count += 1\n",
    "    outliers[df_clean.columns[i]] = [count,df_clean.shape[0]-count]\n",
    "outliers"
   ]
  },
  {
   "cell_type": "markdown",
   "metadata": {},
   "source": [
    "### Toinen tapa etsiä outliereita (z-score)"
   ]
  },
  {
   "cell_type": "code",
   "execution_count": 272,
   "metadata": {},
   "outputs": [],
   "source": [
    "df_clean = df2"
   ]
  },
  {
   "cell_type": "code",
   "execution_count": 273,
   "metadata": {},
   "outputs": [
    {
     "name": "stdout",
     "output_type": "stream",
     "text": [
      "count    583874.000000\n",
      "mean       2003.069119\n",
      "std         889.159799\n",
      "min       -2260.000000\n",
      "25%        1333.000000\n",
      "50%        1790.000000\n",
      "75%        2783.000000\n",
      "max        7993.000000\n",
      "Name: x, dtype: float64\n",
      "-------------------- \n",
      " count    583874.000000\n",
      "mean        532.659543\n",
      "std        1067.793043\n",
      "min       -5191.000000\n",
      "25%        -184.000000\n",
      "50%         -91.000000\n",
      "75%        1357.000000\n",
      "max        6194.000000\n",
      "Name: y, dtype: float64\n"
     ]
    }
   ],
   "source": [
    "print(df_clean['x'].describe())\n",
    "print(\"-\"*20,\"\\n\",df_clean['y'].describe())"
   ]
  },
  {
   "cell_type": "code",
   "execution_count": 274,
   "metadata": {
    "jupyter": {
     "source_hidden": true
    }
   },
   "outputs": [
    {
     "name": "stdout",
     "output_type": "stream",
     "text": [
      "4670.548516200846\n",
      "-664.4102774712574\n"
     ]
    }
   ],
   "source": [
    "# Every data point that lies beyond the upper limit and lower limit will be an outlier\n",
    "upper = df_clean['x'].mean() + 3*df_clean['x'].std()\n",
    "lower = df_clean['x'].mean() -3*df_clean['x'].std()\n",
    "\n",
    "print(upper)\n",
    "print(lower)"
   ]
  },
  {
   "cell_type": "code",
   "execution_count": 275,
   "metadata": {},
   "outputs": [
    {
     "name": "stderr",
     "output_type": "stream",
     "text": [
      "<ipython-input-275-f59d0525eeb2>:5: SettingWithCopyWarning: \n",
      "A value is trying to be set on a copy of a slice from a DataFrame.\n",
      "Try using .loc[row_indexer,col_indexer] = value instead\n",
      "\n",
      "See the caveats in the documentation: https://pandas.pydata.org/pandas-docs/stable/user_guide/indexing.html#returning-a-view-versus-a-copy\n",
      "  df_clean['zscore'] = (df_clean['x'] - df_clean['x'].mean() ) / df_clean['x'].std()\n"
     ]
    },
    {
     "data": {
      "text/html": [
       "<div>\n",
       "<style scoped>\n",
       "    .dataframe tbody tr th:only-of-type {\n",
       "        vertical-align: middle;\n",
       "    }\n",
       "\n",
       "    .dataframe tbody tr th {\n",
       "        vertical-align: top;\n",
       "    }\n",
       "\n",
       "    .dataframe thead th {\n",
       "        text-align: right;\n",
       "    }\n",
       "</style>\n",
       "<table border=\"1\" class=\"dataframe\">\n",
       "  <thead>\n",
       "    <tr style=\"text-align: right;\">\n",
       "      <th></th>\n",
       "      <th>x</th>\n",
       "      <th>y</th>\n",
       "      <th>zscore</th>\n",
       "    </tr>\n",
       "  </thead>\n",
       "  <tbody>\n",
       "    <tr>\n",
       "      <th>0</th>\n",
       "      <td>2762</td>\n",
       "      <td>-257</td>\n",
       "      <td>0.853537</td>\n",
       "    </tr>\n",
       "    <tr>\n",
       "      <th>1</th>\n",
       "      <td>2870</td>\n",
       "      <td>-344</td>\n",
       "      <td>0.975000</td>\n",
       "    </tr>\n",
       "    <tr>\n",
       "      <th>2</th>\n",
       "      <td>2916</td>\n",
       "      <td>-344</td>\n",
       "      <td>1.026734</td>\n",
       "    </tr>\n",
       "    <tr>\n",
       "      <th>3</th>\n",
       "      <td>2894</td>\n",
       "      <td>-254</td>\n",
       "      <td>1.001992</td>\n",
       "    </tr>\n",
       "    <tr>\n",
       "      <th>4</th>\n",
       "      <td>2888</td>\n",
       "      <td>-188</td>\n",
       "      <td>0.995244</td>\n",
       "    </tr>\n",
       "    <tr>\n",
       "      <th>...</th>\n",
       "      <td>...</td>\n",
       "      <td>...</td>\n",
       "      <td>...</td>\n",
       "    </tr>\n",
       "    <tr>\n",
       "      <th>583869</th>\n",
       "      <td>2766</td>\n",
       "      <td>-339</td>\n",
       "      <td>0.858036</td>\n",
       "    </tr>\n",
       "    <tr>\n",
       "      <th>583870</th>\n",
       "      <td>2772</td>\n",
       "      <td>-354</td>\n",
       "      <td>0.864784</td>\n",
       "    </tr>\n",
       "    <tr>\n",
       "      <th>583871</th>\n",
       "      <td>2776</td>\n",
       "      <td>-370</td>\n",
       "      <td>0.869282</td>\n",
       "    </tr>\n",
       "    <tr>\n",
       "      <th>583872</th>\n",
       "      <td>2775</td>\n",
       "      <td>-363</td>\n",
       "      <td>0.868158</td>\n",
       "    </tr>\n",
       "    <tr>\n",
       "      <th>583873</th>\n",
       "      <td>2773</td>\n",
       "      <td>-369</td>\n",
       "      <td>0.865908</td>\n",
       "    </tr>\n",
       "  </tbody>\n",
       "</table>\n",
       "<p>582990 rows × 3 columns</p>\n",
       "</div>"
      ],
      "text/plain": [
       "           x    y    zscore\n",
       "0       2762 -257  0.853537\n",
       "1       2870 -344  0.975000\n",
       "2       2916 -344  1.026734\n",
       "3       2894 -254  1.001992\n",
       "4       2888 -188  0.995244\n",
       "...      ...  ...       ...\n",
       "583869  2766 -339  0.858036\n",
       "583870  2772 -354  0.864784\n",
       "583871  2776 -370  0.869282\n",
       "583872  2775 -363  0.868158\n",
       "583873  2773 -369  0.865908\n",
       "\n",
       "[582990 rows x 3 columns]"
      ]
     },
     "execution_count": 275,
     "metadata": {},
     "output_type": "execute_result"
    }
   ],
   "source": [
    "# Pick data points that fall under these limits.\n",
    "#df_clean['zscore'] = df_clean[(df_clean['x']<upper) & (df_clean['x']>lower)]\n",
    "\n",
    "# Z- score that tells about how far data is away from standard deviation\n",
    "df_clean['zscore'] = (df_clean['x'] - df_clean['x'].mean() ) / df_clean['x'].std()\n",
    "\n",
    "# This can be done with zscore function\n",
    "df_clean = df_clean[(df_clean.zscore>-3) & (df_clean.zscore<3)]\n",
    "df_clean"
   ]
  },
  {
   "cell_type": "code",
   "execution_count": 276,
   "metadata": {},
   "outputs": [
    {
     "name": "stdout",
     "output_type": "stream",
     "text": [
      "Empty DataFrame\n",
      "Columns: [x, y, zscore]\n",
      "Index: []\n",
      "Empty DataFrame\n",
      "Columns: [x, y, zscore]\n",
      "Index: []\n"
     ]
    }
   ],
   "source": [
    "# Pick only the ones in 3 std\n",
    "print(df_clean[df_clean['zscore']>3])\n",
    "print(df_clean[df_clean['zscore']<-3])"
   ]
  },
  {
   "cell_type": "code",
   "execution_count": 277,
   "metadata": {},
   "outputs": [
    {
     "name": "stdout",
     "output_type": "stream",
     "text": [
      "x         2007.746744\n",
      "y          530.812372\n",
      "zscore       0.005261\n",
      "dtype: float64\n",
      "x          881.244058\n",
      "y         1067.406602\n",
      "zscore       0.991098\n",
      "dtype: float64\n"
     ]
    }
   ],
   "source": [
    "print(np.mean(df_clean))\n",
    "print(np.std(df_clean))"
   ]
  },
  {
   "cell_type": "markdown",
   "metadata": {},
   "source": [
    "### Outlierien jälkeen"
   ]
  },
  {
   "cell_type": "code",
   "execution_count": 1,
   "metadata": {},
   "outputs": [
    {
     "ename": "NameError",
     "evalue": "name 'draw_histogram' is not defined",
     "output_type": "error",
     "traceback": [
      "\u001b[1;31m---------------------------------------------------------------------------\u001b[0m",
      "\u001b[1;31mNameError\u001b[0m                                 Traceback (most recent call last)",
      "\u001b[1;32m<ipython-input-1-29327ef70300>\u001b[0m in \u001b[0;36m<module>\u001b[1;34m\u001b[0m\n\u001b[1;32m----> 1\u001b[1;33m \u001b[0mdraw_histogram\u001b[0m\u001b[1;33m(\u001b[0m\u001b[0mdf_clean\u001b[0m\u001b[1;33m[\u001b[0m\u001b[1;34m'x'\u001b[0m\u001b[1;33m]\u001b[0m\u001b[1;33m,\u001b[0m \u001b[0mdf_clean\u001b[0m\u001b[1;33m[\u001b[0m\u001b[1;34m'y'\u001b[0m\u001b[1;33m]\u001b[0m\u001b[1;33m,\u001b[0m \u001b[1;36m100\u001b[0m\u001b[1;33m)\u001b[0m\u001b[1;33m\u001b[0m\u001b[1;33m\u001b[0m\u001b[0m\n\u001b[0m",
      "\u001b[1;31mNameError\u001b[0m: name 'draw_histogram' is not defined"
     ]
    }
   ],
   "source": [
    "draw_histogram(df_clean['x'], df_clean['y'], 100)"
   ]
  },
  {
   "cell_type": "code",
   "execution_count": 248,
   "metadata": {
    "collapsed": true,
    "jupyter": {
     "outputs_hidden": true,
     "source_hidden": true
    }
   },
   "outputs": [
    {
     "name": "stdout",
     "output_type": "stream",
     "text": [
      "x mean:  2007.7467435118956\n",
      "y mean:  2007.7467435118956\n",
      "x std:  881.2440579789109\n",
      "y std:  1067.4066022666534\n"
     ]
    },
    {
     "data": {
      "image/png": "[encoded data removed]",
      "text/plain": [
       "<Figure size 1080x720 with 1 Axes>"
      ]
     },
     "metadata": {
      "needs_background": "light"
     },
     "output_type": "display_data"
    }
   ],
   "source": [
    "import matplotlib.pyplot as plt\n",
    "from scipy.stats import norm\n",
    "import seaborn as sns\n",
    "\n",
    "\n",
    "plt.figure(figsize=(15,10))\n",
    "# mean of distribution\n",
    "mu = np.mean(df_clean['x'])\n",
    "mu2 = np.mean(df_clean['x'])\n",
    "print(\"x mean: \", mu)\n",
    "print(\"y mean: \", mu2)\n",
    "\n",
    "# standard deviation of distribution\n",
    "sigma = np.std(df_clean['x'])\n",
    "sigma2 = np.std(df_clean['y'])\n",
    "print(\"x std: \", sigma)\n",
    "print(\"y std: \", sigma2)\n",
    "\n",
    "# bins\n",
    "num_bins = 10\n",
    "\n",
    "# the histogram of the data\n",
    "n, bins, patches = plt.hist(df_clean['x'], num_bins, density=1, facecolor='orange', alpha=0.5, label='x')\n",
    "n2, bins2, patches2 = plt.hist(df_clean['y'], num_bins, density=1, facecolor='blue', alpha=0.5, label='y')\n",
    "\n",
    "# add a 'best fit' line\n",
    "y = norm.pdf(bins, mu, sigma)\n",
    "y2 = norm.pdf(bins2, mu2, sigma2)\n",
    "\n",
    "# This is what it norm.pdf does\n",
    "#y = ((1 / (np.sqrt(2 * np.pi) * sigma)) * np.exp(-0.5 * (1 / sigma * (bins - mu))**2))\n",
    "#y2 = ((1 / (np.sqrt(2 * np.pi) * sigma2)) * np.exp(-0.5 * (1 / sigma2 * (bins2 - mu2))**2))\n",
    "\n",
    "plt.plot(bins, y, 'r', alpha=0.8, label='x')\n",
    "plt.plot(bins2, y2, 'b', alpha=0.8, label='y')\n",
    "\n",
    "plt.title(\"Histogrammi lmao (bins %s)\" % num_bins)\n",
    "plt.xlabel(\"Arvo\")\n",
    "plt.ylabel(\"Tiheys\")\n",
    "plt.legend()\n",
    "# Tweak spacing to prevent clipping of ylabel\n",
    "fig.tight_layout()\n",
    "plt.show()"
   ]
  },
  {
   "cell_type": "code",
   "execution_count": 178,
   "metadata": {},
   "outputs": [
    {
     "data": {
      "text/plain": [
       "<AxesSubplot:ylabel='Density'>"
      ]
     },
     "execution_count": 178,
     "metadata": {},
     "output_type": "execute_result"
    },
    {
     "data": {
      "image/png": "[encoded data removed]",
      "text/plain": [
       "<Figure size 432x288 with 1 Axes>"
      ]
     },
     "metadata": {
      "needs_background": "light"
     },
     "output_type": "display_data"
    }
   ],
   "source": [
    "#fig, ax = plt.subplots(figsize =(10, 7)) \n",
    "#plt.scatter(df_clean['x'], df_clean['y'])\n",
    "#plt.xlim(df_clean.min(), df_clean.max())\n",
    "#plt.ylim(df_clean.min(), df_clean.max())\n",
    "kwargs = dict(histtype='stepfilled', alpha=0.5, bins=40)\n",
    "\n",
    "'''x = df_clean['x'].tolist()\n",
    "y = df_clean['y'].tolist()\n",
    "names = ['x','y']'''\n",
    "\n",
    "#plt.hist([x, y], label=names)\n",
    "#plt.hist(df_clean['x'], **kwargs, label=\"x\")\n",
    "#plt.hist(df_clean['y'], **kwargs, label=\"y\")\n",
    "sns.kdeplot(y, shade=True, color=\"r\")\n",
    "sns.kdeplot(y2, shade=True, color=\"b\")"
   ]
  },
  {
   "cell_type": "code",
   "execution_count": null,
   "metadata": {},
   "outputs": [],
   "source": []
  }
 ],
 "metadata": {
  "kernelspec": {
   "display_name": "Python 3",
   "language": "python",
   "name": "python3"
  },
  "language_info": {
   "codemirror_mode": {
    "name": "ipython",
    "version": 3
   },
   "file_extension": ".py",
   "mimetype": "text/x-python",
   "name": "python",
   "nbconvert_exporter": "python",
   "pygments_lexer": "ipython3",
   "version": "3.8.3"
  }
 },
 "nbformat": 4,
 "nbformat_minor": 4
}
