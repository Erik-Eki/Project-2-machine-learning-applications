{
 "cells": [
  {
   "cell_type": "code",
   "execution_count": 4,
   "metadata": {},
   "outputs": [],
   "source": [
    "import pandas as pd"
   ]
  },
  {
   "cell_type": "markdown",
   "metadata": {},
   "source": [
    "# XY koordinaatit gridiin\n",
    "- HUOM! x ja y koordinaattien tulee olla normalisoituja\n",
    "- k = karkeisuus\n",
    "- Tehtyihin grideihin voi viitata .loc[0.1]\n",
    "- max 1000x1000 grid - jos haluut isomman nii pitaa tuota y_cut muuntokohtaa muokata"
   ]
  },
  {
   "cell_type": "code",
   "execution_count": 4,
   "metadata": {},
   "outputs": [],
   "source": [
    "def xy_to_grid(data,x,y,k):\n",
    "    \n",
    "    x_cut = pd.cut(data.x, k,labels=False)\n",
    "    y_cut = pd.cut(data.y, k,labels=False)\n",
    "    \n",
    "    # Laitetaan saadut arvot dataframeen\n",
    "    data['x_grid'], data['y_grid'] = x_cut.values, y_cut.values\n",
    "    return data"
   ]
  },
  {
   "cell_type": "code",
   "execution_count": null,
   "metadata": {},
   "outputs": [],
   "source": []
  }
 ],
 "metadata": {
  "kernelspec": {
   "display_name": "Python 3",
   "language": "python",
   "name": "python3"
  },
  "language_info": {
   "codemirror_mode": {
    "name": "ipython",
    "version": 3
   },
   "file_extension": ".py",
   "mimetype": "text/x-python",
   "name": "python",
   "nbconvert_exporter": "python",
   "pygments_lexer": "ipython3",
   "version": "3.7.6"
  }
 },
 "nbformat": 4,
 "nbformat_minor": 4
}
