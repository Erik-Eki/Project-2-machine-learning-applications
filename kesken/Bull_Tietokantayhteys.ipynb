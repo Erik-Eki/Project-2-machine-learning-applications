{
 "cells": [
  {
   "cell_type": "code",
   "execution_count": 132,
   "metadata": {},
   "outputs": [
    {
     "name": "stdout",
     "output_type": "stream",
     "text": [
      "Requirement already satisfied: mysql-connector in /opt/conda/lib/python3.7/site-packages (2.2.9)\n"
     ]
    }
   ],
   "source": [
    "import pandas as pd\n",
    "import mysql.connector\n",
    "\n",
    "mydb = mysql.connector.connect(\n",
    "  host=\"172.28.200.50\",\n",
    "  port=3306,\n",
    "  user=\"root\",\n",
    "  passwd=\"insert-password-here\",\n",
    "  database=\"iiwari_org\"\n",
    ")"
   ]
  },
  {
   "cell_type": "code",
   "execution_count": 133,
   "metadata": {},
   "outputs": [
    {
     "name": "stdout",
     "output_type": "stream",
     "text": [
      "            node_id                            timestamp     x    y    z  q\n",
      "0     -2.393100e+18  b'2020-06-24 12:20:08.533016+00:00'  2762 -257  100  0\n",
      "1     -2.393100e+18  b'2020-06-24 12:20:08.620015+00:00'  2870 -344  100  0\n",
      "2     -2.393100e+18  b'2020-06-24 12:20:09.622827+00:00'  2916 -344  100  0\n",
      "3     -2.393100e+18  b'2020-06-24 12:20:09.622846+00:00'  2894 -254  100  0\n",
      "4     -2.393100e+18  b'2020-06-24 12:20:10.116102+00:00'  2888 -188  100  0\n",
      "...             ...                                  ...   ...  ...  ... ..\n",
      "19995 -2.393100e+18  b'2020-07-01 08:24:31.793147+00:00'  1760 -139  100  0\n",
      "19996 -2.393100e+18  b'2020-07-01 08:24:41.794495+00:00'  1758 -133  100  0\n",
      "19997 -2.393100e+18  b'2020-07-01 08:24:51.793193+00:00'  1749 -120  100  0\n",
      "19998 -2.393100e+18  b'2020-07-01 08:25:01.793223+00:00'  1748 -123  100  0\n",
      "19999 -2.393100e+18  b'2020-07-01 08:25:10.793708+00:00'  1754 -118  100  0\n",
      "\n",
      "[20000 rows x 6 columns]\n"
     ]
    }
   ],
   "source": [
    "# Check database contents\n",
    "mycursor = mydb.cursor(dictionary=True)\n",
    "mycursor.execute(\"SELECT node_id, timestamp, x,y,z,q FROM SensorData LIMIT 20000;\" );\n",
    "df = pd.DataFrame(mycursor.fetchall())\n",
    "print(df)"
   ]
  },
  {
   "cell_type": "code",
   "execution_count": null,
   "metadata": {},
   "outputs": [],
   "source": []
  },
  {
   "cell_type": "code",
   "execution_count": null,
   "metadata": {},
   "outputs": [],
   "source": []
  },
  {
   "cell_type": "code",
   "execution_count": null,
   "metadata": {},
   "outputs": [],
   "source": []
  },
  {
   "cell_type": "code",
   "execution_count": null,
   "metadata": {},
   "outputs": [],
   "source": []
  },
  {
   "cell_type": "code",
   "execution_count": null,
   "metadata": {},
   "outputs": [],
   "source": []
  }
 ],
 "metadata": {
  "kernelspec": {
   "display_name": "Python 3",
   "language": "python",
   "name": "python3"
  },
  "language_info": {
   "codemirror_mode": {
    "name": "ipython",
    "version": 3
   },
   "file_extension": ".py",
   "mimetype": "text/x-python",
   "name": "python",
   "nbconvert_exporter": "python",
   "pygments_lexer": "ipython3",
   "version": "3.7.6"
  }
 },
 "nbformat": 4,
 "nbformat_minor": 4
}
