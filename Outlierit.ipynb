{
 "cells": [
  {
   "cell_type": "markdown",
   "metadata": {},
   "source": [
    "# Outlierit\n",
    "\n",
    "Lukee väliaikaisesti kansiosta datan, yhdistää .csv tiedostot yhteen pandasin dataframeen"
   ]
  },
  {
   "cell_type": "code",
   "execution_count": 1,
   "metadata": {},
   "outputs": [
    {
     "data": {
      "text/html": [
       "<div>\n",
       "<style scoped>\n",
       "    .dataframe tbody tr th:only-of-type {\n",
       "        vertical-align: middle;\n",
       "    }\n",
       "\n",
       "    .dataframe tbody tr th {\n",
       "        vertical-align: top;\n",
       "    }\n",
       "\n",
       "    .dataframe thead th {\n",
       "        text-align: right;\n",
       "    }\n",
       "</style>\n",
       "<table border=\"1\" class=\"dataframe\">\n",
       "  <thead>\n",
       "    <tr style=\"text-align: right;\">\n",
       "      <th></th>\n",
       "      <th>node_id</th>\n",
       "      <th>timestamp</th>\n",
       "      <th>x</th>\n",
       "      <th>y</th>\n",
       "      <th>z</th>\n",
       "      <th>q</th>\n",
       "    </tr>\n",
       "  </thead>\n",
       "  <tbody>\n",
       "    <tr>\n",
       "      <th>0</th>\n",
       "      <td>-2393099149039893833</td>\n",
       "      <td>2020-06-24 12:20:08.533016+00:00</td>\n",
       "      <td>2762</td>\n",
       "      <td>-257</td>\n",
       "      <td>100</td>\n",
       "      <td>0</td>\n",
       "    </tr>\n",
       "    <tr>\n",
       "      <th>1</th>\n",
       "      <td>-2393099149039893833</td>\n",
       "      <td>2020-06-24 12:20:08.620015+00:00</td>\n",
       "      <td>2870</td>\n",
       "      <td>-344</td>\n",
       "      <td>100</td>\n",
       "      <td>0</td>\n",
       "    </tr>\n",
       "    <tr>\n",
       "      <th>2</th>\n",
       "      <td>-2393099149039893833</td>\n",
       "      <td>2020-06-24 12:20:09.622827+00:00</td>\n",
       "      <td>2916</td>\n",
       "      <td>-344</td>\n",
       "      <td>100</td>\n",
       "      <td>0</td>\n",
       "    </tr>\n",
       "    <tr>\n",
       "      <th>3</th>\n",
       "      <td>-2393099149039893833</td>\n",
       "      <td>2020-06-24 12:20:09.622846+00:00</td>\n",
       "      <td>2894</td>\n",
       "      <td>-254</td>\n",
       "      <td>100</td>\n",
       "      <td>0</td>\n",
       "    </tr>\n",
       "    <tr>\n",
       "      <th>4</th>\n",
       "      <td>-2393099149039893833</td>\n",
       "      <td>2020-06-24 12:20:10.116102+00:00</td>\n",
       "      <td>2888</td>\n",
       "      <td>-188</td>\n",
       "      <td>100</td>\n",
       "      <td>0</td>\n",
       "    </tr>\n",
       "    <tr>\n",
       "      <th>...</th>\n",
       "      <td>...</td>\n",
       "      <td>...</td>\n",
       "      <td>...</td>\n",
       "      <td>...</td>\n",
       "      <td>...</td>\n",
       "      <td>...</td>\n",
       "    </tr>\n",
       "    <tr>\n",
       "      <th>13890901</th>\n",
       "      <td>4996252679627069957</td>\n",
       "      <td>2020-06-01 03:00:05.469336+00:00</td>\n",
       "      <td>635</td>\n",
       "      <td>1064</td>\n",
       "      <td>0</td>\n",
       "      <td>0</td>\n",
       "    </tr>\n",
       "    <tr>\n",
       "      <th>13890902</th>\n",
       "      <td>4996252679627069957</td>\n",
       "      <td>2020-06-01 03:00:06.47926+00:00</td>\n",
       "      <td>681</td>\n",
       "      <td>760</td>\n",
       "      <td>0</td>\n",
       "      <td>0</td>\n",
       "    </tr>\n",
       "    <tr>\n",
       "      <th>13890903</th>\n",
       "      <td>4996252679627069957</td>\n",
       "      <td>2020-06-01 03:00:08.507118+00:00</td>\n",
       "      <td>622</td>\n",
       "      <td>991</td>\n",
       "      <td>0</td>\n",
       "      <td>0</td>\n",
       "    </tr>\n",
       "    <tr>\n",
       "      <th>13890904</th>\n",
       "      <td>4996252679627069957</td>\n",
       "      <td>2020-06-01 03:00:09.547553+00:00</td>\n",
       "      <td>644</td>\n",
       "      <td>1066</td>\n",
       "      <td>0</td>\n",
       "      <td>0</td>\n",
       "    </tr>\n",
       "    <tr>\n",
       "      <th>13890905</th>\n",
       "      <td>4996252679627069957</td>\n",
       "      <td>2020-06-01 03:00:10.968327+00:00</td>\n",
       "      <td>634</td>\n",
       "      <td>1054</td>\n",
       "      <td>0</td>\n",
       "      <td>0</td>\n",
       "    </tr>\n",
       "  </tbody>\n",
       "</table>\n",
       "<p>13890906 rows × 6 columns</p>\n",
       "</div>"
      ],
      "text/plain": [
       "                      node_id                         timestamp     x     y  \\\n",
       "0        -2393099149039893833  2020-06-24 12:20:08.533016+00:00  2762  -257   \n",
       "1        -2393099149039893833  2020-06-24 12:20:08.620015+00:00  2870  -344   \n",
       "2        -2393099149039893833  2020-06-24 12:20:09.622827+00:00  2916  -344   \n",
       "3        -2393099149039893833  2020-06-24 12:20:09.622846+00:00  2894  -254   \n",
       "4        -2393099149039893833  2020-06-24 12:20:10.116102+00:00  2888  -188   \n",
       "...                       ...                               ...   ...   ...   \n",
       "13890901  4996252679627069957  2020-06-01 03:00:05.469336+00:00   635  1064   \n",
       "13890902  4996252679627069957   2020-06-01 03:00:06.47926+00:00   681   760   \n",
       "13890903  4996252679627069957  2020-06-01 03:00:08.507118+00:00   622   991   \n",
       "13890904  4996252679627069957  2020-06-01 03:00:09.547553+00:00   644  1066   \n",
       "13890905  4996252679627069957  2020-06-01 03:00:10.968327+00:00   634  1054   \n",
       "\n",
       "            z  q  \n",
       "0         100  0  \n",
       "1         100  0  \n",
       "2         100  0  \n",
       "3         100  0  \n",
       "4         100  0  \n",
       "...       ... ..  \n",
       "13890901    0  0  \n",
       "13890902    0  0  \n",
       "13890903    0  0  \n",
       "13890904    0  0  \n",
       "13890905    0  0  \n",
       "\n",
       "[13890906 rows x 6 columns]"
      ]
     },
     "execution_count": 1,
     "metadata": {},
     "output_type": "execute_result"
    }
   ],
   "source": [
    "import pandas as pd\n",
    "import glob\n",
    "path = r'./data' # use your path\n",
    "all_files = glob.glob(path + \"/*.csv\")\n",
    "\n",
    "li = []\n",
    "\n",
    "for filename in all_files:\n",
    "    df = pd.read_csv(filename)\n",
    "    li.append(df)\n",
    "\n",
    "df = pd.concat(li, axis=0, ignore_index=True)\n",
    "df"
   ]
  },
  {
   "cell_type": "markdown",
   "metadata": {},
   "source": [
    "Tarkistetaan onko outouksia"
   ]
  },
  {
   "cell_type": "code",
   "execution_count": 30,
   "metadata": {},
   "outputs": [
    {
     "name": "stdout",
     "output_type": "stream",
     "text": [
      "node_id      0\n",
      "timestamp    0\n",
      "x            0\n",
      "y            0\n",
      "z            0\n",
      "q            0\n",
      "dtype: int64\n"
     ]
    }
   ],
   "source": [
    "missing_count = df.isnull().sum()\n",
    "print(missing_count)"
   ]
  },
  {
   "cell_type": "code",
   "execution_count": 89,
   "metadata": {},
   "outputs": [
    {
     "name": "stdout",
     "output_type": "stream",
     "text": [
      "uniques in x 10532\n",
      "uniques in y 7899\n",
      "uniques in z 3\n",
      "uniques in q 1\n"
     ]
    }
   ],
   "source": [
    "print(\"uniques in x\",len(df['x'].unique()))\n",
    "print(\"uniques in y\",len(df['y'].unique()))\n",
    "print(\"uniques in z\",len(df['z'].unique()))\n",
    "print(\"uniques in q\",len(df['q'].unique()))"
   ]
  },
  {
   "cell_type": "code",
   "execution_count": 90,
   "metadata": {},
   "outputs": [
    {
     "name": "stdout",
     "output_type": "stream",
     "text": [
      "uniques in z [100 400   0]\n",
      "uniques in q [0]\n"
     ]
    }
   ],
   "source": [
    "print(\"uniques in z\",df['z'].unique())\n",
    "print(\"uniques in q\",df['q'].unique())"
   ]
  },
  {
   "cell_type": "markdown",
   "metadata": {},
   "source": [
    "- q eli signaalin laatu ei vaihtele yhtään.\n",
    "- z eli z-akseli (ylös päin), muuttuu nollasta sataan ja neljäänsataan"
   ]
  },
  {
   "cell_type": "code",
   "execution_count": null,
   "metadata": {
    "jupyter": {
     "source_hidden": true
    }
   },
   "outputs": [],
   "source": [
    "from scipy.stats import zscore\n",
    "import numpy as np\n",
    "z = np.abs(zscore(df))\n",
    "print(z)"
   ]
  },
  {
   "cell_type": "markdown",
   "metadata": {},
   "source": [
    "### Otetaan käyttöön vain ensimmäinen node"
   ]
  },
  {
   "cell_type": "code",
   "execution_count": 10,
   "metadata": {},
   "outputs": [
    {
     "name": "stdout",
     "output_type": "stream",
     "text": [
      "Number of nodes: 32\n",
      "First node: -2393099149039893833\n"
     ]
    },
    {
     "data": {
      "text/html": [
       "<div>\n",
       "<style scoped>\n",
       "    .dataframe tbody tr th:only-of-type {\n",
       "        vertical-align: middle;\n",
       "    }\n",
       "\n",
       "    .dataframe tbody tr th {\n",
       "        vertical-align: top;\n",
       "    }\n",
       "\n",
       "    .dataframe thead th {\n",
       "        text-align: right;\n",
       "    }\n",
       "</style>\n",
       "<table border=\"1\" class=\"dataframe\">\n",
       "  <thead>\n",
       "    <tr style=\"text-align: right;\">\n",
       "      <th></th>\n",
       "      <th>node_id</th>\n",
       "      <th>timestamp</th>\n",
       "      <th>x</th>\n",
       "      <th>y</th>\n",
       "      <th>z</th>\n",
       "      <th>q</th>\n",
       "    </tr>\n",
       "  </thead>\n",
       "  <tbody>\n",
       "    <tr>\n",
       "      <th>0</th>\n",
       "      <td>-2393099149039893833</td>\n",
       "      <td>2020-06-24 12:20:08.533016+00:00</td>\n",
       "      <td>2762</td>\n",
       "      <td>-257</td>\n",
       "      <td>100</td>\n",
       "      <td>0</td>\n",
       "    </tr>\n",
       "    <tr>\n",
       "      <th>1</th>\n",
       "      <td>-2393099149039893833</td>\n",
       "      <td>2020-06-24 12:20:08.620015+00:00</td>\n",
       "      <td>2870</td>\n",
       "      <td>-344</td>\n",
       "      <td>100</td>\n",
       "      <td>0</td>\n",
       "    </tr>\n",
       "    <tr>\n",
       "      <th>2</th>\n",
       "      <td>-2393099149039893833</td>\n",
       "      <td>2020-06-24 12:20:09.622827+00:00</td>\n",
       "      <td>2916</td>\n",
       "      <td>-344</td>\n",
       "      <td>100</td>\n",
       "      <td>0</td>\n",
       "    </tr>\n",
       "    <tr>\n",
       "      <th>3</th>\n",
       "      <td>-2393099149039893833</td>\n",
       "      <td>2020-06-24 12:20:09.622846+00:00</td>\n",
       "      <td>2894</td>\n",
       "      <td>-254</td>\n",
       "      <td>100</td>\n",
       "      <td>0</td>\n",
       "    </tr>\n",
       "    <tr>\n",
       "      <th>4</th>\n",
       "      <td>-2393099149039893833</td>\n",
       "      <td>2020-06-24 12:20:10.116102+00:00</td>\n",
       "      <td>2888</td>\n",
       "      <td>-188</td>\n",
       "      <td>100</td>\n",
       "      <td>0</td>\n",
       "    </tr>\n",
       "    <tr>\n",
       "      <th>...</th>\n",
       "      <td>...</td>\n",
       "      <td>...</td>\n",
       "      <td>...</td>\n",
       "      <td>...</td>\n",
       "      <td>...</td>\n",
       "      <td>...</td>\n",
       "    </tr>\n",
       "    <tr>\n",
       "      <th>583869</th>\n",
       "      <td>-2393099149039893833</td>\n",
       "      <td>2020-10-23 06:57:02.988595+00:00</td>\n",
       "      <td>2766</td>\n",
       "      <td>-339</td>\n",
       "      <td>100</td>\n",
       "      <td>0</td>\n",
       "    </tr>\n",
       "    <tr>\n",
       "      <th>583870</th>\n",
       "      <td>-2393099149039893833</td>\n",
       "      <td>2020-10-23 06:57:21.988764+00:00</td>\n",
       "      <td>2772</td>\n",
       "      <td>-354</td>\n",
       "      <td>100</td>\n",
       "      <td>0</td>\n",
       "    </tr>\n",
       "    <tr>\n",
       "      <th>583871</th>\n",
       "      <td>-2393099149039893833</td>\n",
       "      <td>2020-10-23 06:57:31.988804+00:00</td>\n",
       "      <td>2776</td>\n",
       "      <td>-370</td>\n",
       "      <td>100</td>\n",
       "      <td>0</td>\n",
       "    </tr>\n",
       "    <tr>\n",
       "      <th>583872</th>\n",
       "      <td>-2393099149039893833</td>\n",
       "      <td>2020-10-23 06:57:41.988742+00:00</td>\n",
       "      <td>2775</td>\n",
       "      <td>-363</td>\n",
       "      <td>100</td>\n",
       "      <td>0</td>\n",
       "    </tr>\n",
       "    <tr>\n",
       "      <th>583873</th>\n",
       "      <td>-2393099149039893833</td>\n",
       "      <td>2020-10-23 06:57:50.988798+00:00</td>\n",
       "      <td>2773</td>\n",
       "      <td>-369</td>\n",
       "      <td>100</td>\n",
       "      <td>0</td>\n",
       "    </tr>\n",
       "  </tbody>\n",
       "</table>\n",
       "<p>583874 rows × 6 columns</p>\n",
       "</div>"
      ],
      "text/plain": [
       "                    node_id                         timestamp     x    y    z  \\\n",
       "0      -2393099149039893833  2020-06-24 12:20:08.533016+00:00  2762 -257  100   \n",
       "1      -2393099149039893833  2020-06-24 12:20:08.620015+00:00  2870 -344  100   \n",
       "2      -2393099149039893833  2020-06-24 12:20:09.622827+00:00  2916 -344  100   \n",
       "3      -2393099149039893833  2020-06-24 12:20:09.622846+00:00  2894 -254  100   \n",
       "4      -2393099149039893833  2020-06-24 12:20:10.116102+00:00  2888 -188  100   \n",
       "...                     ...                               ...   ...  ...  ...   \n",
       "583869 -2393099149039893833  2020-10-23 06:57:02.988595+00:00  2766 -339  100   \n",
       "583870 -2393099149039893833  2020-10-23 06:57:21.988764+00:00  2772 -354  100   \n",
       "583871 -2393099149039893833  2020-10-23 06:57:31.988804+00:00  2776 -370  100   \n",
       "583872 -2393099149039893833  2020-10-23 06:57:41.988742+00:00  2775 -363  100   \n",
       "583873 -2393099149039893833  2020-10-23 06:57:50.988798+00:00  2773 -369  100   \n",
       "\n",
       "        q  \n",
       "0       0  \n",
       "1       0  \n",
       "2       0  \n",
       "3       0  \n",
       "4       0  \n",
       "...    ..  \n",
       "583869  0  \n",
       "583870  0  \n",
       "583871  0  \n",
       "583872  0  \n",
       "583873  0  \n",
       "\n",
       "[583874 rows x 6 columns]"
      ]
     },
     "execution_count": 10,
     "metadata": {},
     "output_type": "execute_result"
    }
   ],
   "source": [
    "print(\"Number of nodes: %s\" % len(df[\"node_id\"].unique()))\n",
    "\n",
    "print(\"First node: %s\" % df[\"node_id\"].unique()[0])\n",
    "node = df[\"node_id\"].unique()[0]\n",
    "\n",
    "df1 = df[df[\"node_id\"] == node]\n",
    "df1"
   ]
  },
  {
   "cell_type": "code",
   "execution_count": 23,
   "metadata": {},
   "outputs": [
    {
     "name": "stdout",
     "output_type": "stream",
     "text": [
      "x 5055\n",
      "y 4514\n",
      "z 1\n",
      "q 1\n"
     ]
    }
   ],
   "source": [
    "print(\"x\",len(df1[\"x\"].unique()))\n",
    "print(\"y\",len(df1[\"y\"].unique()))\n",
    "print(\"z\",len(df1[\"z\"].unique()))\n",
    "print(\"q\",len(df1[\"q\"].unique()))"
   ]
  },
  {
   "cell_type": "code",
   "execution_count": 24,
   "metadata": {},
   "outputs": [
    {
     "name": "stdout",
     "output_type": "stream",
     "text": [
      "x [0.85353784 0.97500092 1.0267352  ... 0.86928305 0.86815839 0.86590908]\n",
      "y [0.73952553 0.82100207 0.82100207 ... 0.84535137 0.83879579 0.84441486]\n"
     ]
    }
   ],
   "source": [
    "from scipy.stats import zscore\n",
    "import numpy as np\n",
    "print(\"x\",np.abs(zscore(df1['x'])))\n",
    "print(\"y\",np.abs(zscore(df1['y'])))"
   ]
  },
  {
   "cell_type": "code",
   "execution_count": 75,
   "metadata": {},
   "outputs": [
    {
     "data": {
      "text/html": [
       "<div>\n",
       "<style scoped>\n",
       "    .dataframe tbody tr th:only-of-type {\n",
       "        vertical-align: middle;\n",
       "    }\n",
       "\n",
       "    .dataframe tbody tr th {\n",
       "        vertical-align: top;\n",
       "    }\n",
       "\n",
       "    .dataframe thead th {\n",
       "        text-align: right;\n",
       "    }\n",
       "</style>\n",
       "<table border=\"1\" class=\"dataframe\">\n",
       "  <thead>\n",
       "    <tr style=\"text-align: right;\">\n",
       "      <th></th>\n",
       "      <th>x</th>\n",
       "      <th>y</th>\n",
       "    </tr>\n",
       "  </thead>\n",
       "  <tbody>\n",
       "    <tr>\n",
       "      <th>0</th>\n",
       "      <td>2762</td>\n",
       "      <td>-257</td>\n",
       "    </tr>\n",
       "    <tr>\n",
       "      <th>1</th>\n",
       "      <td>2870</td>\n",
       "      <td>-344</td>\n",
       "    </tr>\n",
       "    <tr>\n",
       "      <th>2</th>\n",
       "      <td>2916</td>\n",
       "      <td>-344</td>\n",
       "    </tr>\n",
       "    <tr>\n",
       "      <th>3</th>\n",
       "      <td>2894</td>\n",
       "      <td>-254</td>\n",
       "    </tr>\n",
       "    <tr>\n",
       "      <th>4</th>\n",
       "      <td>2888</td>\n",
       "      <td>-188</td>\n",
       "    </tr>\n",
       "  </tbody>\n",
       "</table>\n",
       "</div>"
      ],
      "text/plain": [
       "      x    y\n",
       "0  2762 -257\n",
       "1  2870 -344\n",
       "2  2916 -344\n",
       "3  2894 -254\n",
       "4  2888 -188"
      ]
     },
     "execution_count": 75,
     "metadata": {},
     "output_type": "execute_result"
    }
   ],
   "source": [
    "df2 = df1[[\"x\",\"y\"]]\n",
    "df2.head()"
   ]
  },
  {
   "cell_type": "markdown",
   "metadata": {},
   "source": [
    "### Poista kaikki rivit, joilla on poikkeavuuksia vähintään yhdessä sarakkeessa\n",
    "\n",
    "- Jokaiselle sarakkeelle se laskee ensin sarakkeen jokaisen arvon Z-pistemäärän suhteessa sarakkeen keskiarvoon ja keskihajontaan.\n",
    "- Sitten on Z-pisteiden absoluuttinen arvo, koska suunta ei ole väliä, vain jos se on kynnyksen alapuolella.\n",
    "- kaikki (akseli = 1) varmistaa, että jokainen rivi, kaikki sarakkeet täyttävät rajoituksen.\n",
    "- Lopuksi tämän ehdon tulosta käytetään datakehyksen indeksointiin."
   ]
  },
  {
   "cell_type": "code",
   "execution_count": 125,
   "metadata": {},
   "outputs": [
    {
     "name": "stdout",
     "output_type": "stream",
     "text": [
      "Data with outliers:  583874\n",
      "Ouliers removed:     580111\n",
      "Amount of outliers:  3763\n"
     ]
    },
    {
     "data": {
      "text/html": [
       "<div>\n",
       "<style scoped>\n",
       "    .dataframe tbody tr th:only-of-type {\n",
       "        vertical-align: middle;\n",
       "    }\n",
       "\n",
       "    .dataframe tbody tr th {\n",
       "        vertical-align: top;\n",
       "    }\n",
       "\n",
       "    .dataframe thead th {\n",
       "        text-align: right;\n",
       "    }\n",
       "</style>\n",
       "<table border=\"1\" class=\"dataframe\">\n",
       "  <thead>\n",
       "    <tr style=\"text-align: right;\">\n",
       "      <th></th>\n",
       "      <th>x</th>\n",
       "      <th>y</th>\n",
       "    </tr>\n",
       "  </thead>\n",
       "  <tbody>\n",
       "    <tr>\n",
       "      <th>66</th>\n",
       "      <td>-246</td>\n",
       "      <td>2581</td>\n",
       "    </tr>\n",
       "    <tr>\n",
       "      <th>67</th>\n",
       "      <td>-1498</td>\n",
       "      <td>5255</td>\n",
       "    </tr>\n",
       "    <tr>\n",
       "      <th>68</th>\n",
       "      <td>390</td>\n",
       "      <td>3496</td>\n",
       "    </tr>\n",
       "    <tr>\n",
       "      <th>434</th>\n",
       "      <td>1398</td>\n",
       "      <td>3276</td>\n",
       "    </tr>\n",
       "    <tr>\n",
       "      <th>440</th>\n",
       "      <td>774</td>\n",
       "      <td>3225</td>\n",
       "    </tr>\n",
       "    <tr>\n",
       "      <th>...</th>\n",
       "      <td>...</td>\n",
       "      <td>...</td>\n",
       "    </tr>\n",
       "    <tr>\n",
       "      <th>581191</th>\n",
       "      <td>-717</td>\n",
       "      <td>1765</td>\n",
       "    </tr>\n",
       "    <tr>\n",
       "      <th>581611</th>\n",
       "      <td>-249</td>\n",
       "      <td>2467</td>\n",
       "    </tr>\n",
       "    <tr>\n",
       "      <th>581632</th>\n",
       "      <td>-281</td>\n",
       "      <td>2470</td>\n",
       "    </tr>\n",
       "    <tr>\n",
       "      <th>581633</th>\n",
       "      <td>-225</td>\n",
       "      <td>2457</td>\n",
       "    </tr>\n",
       "    <tr>\n",
       "      <th>581883</th>\n",
       "      <td>-603</td>\n",
       "      <td>1650</td>\n",
       "    </tr>\n",
       "  </tbody>\n",
       "</table>\n",
       "<p>3763 rows × 2 columns</p>\n",
       "</div>"
      ],
      "text/plain": [
       "           x     y\n",
       "66      -246  2581\n",
       "67     -1498  5255\n",
       "68       390  3496\n",
       "434     1398  3276\n",
       "440      774  3225\n",
       "...      ...   ...\n",
       "581191  -717  1765\n",
       "581611  -249  2467\n",
       "581632  -281  2470\n",
       "581633  -225  2457\n",
       "581883  -603  1650\n",
       "\n",
       "[3763 rows x 2 columns]"
      ]
     },
     "execution_count": 125,
     "metadata": {},
     "output_type": "execute_result"
    }
   ],
   "source": [
    "from scipy.stats import zscore\n",
    "import numpy as np\n",
    "#np.abs(zscore(df1['x']))\n",
    "df_clean = df2[(np.abs(zscore(df2)) <= 2.5).all(axis=1)]\n",
    "#Pidä vain ne rivit, jotka ovat +3 - -3 keskihajonnan sisällä.\n",
    "\n",
    "# pd.concat lisää kaksi DataFrame-kehystä yhteen liittämällä ne peräkkäin.\n",
    "# jos on päällekkäisyyksiä, se kaapataan drop_duplicates:illa\n",
    "# drop_duplicates oletusarvoisesti jättää ensimmäisen havainnon ja poistaa kaikki muut havainnot.\n",
    "# Tässä tapauksessa haluamme, että jokainen kaksoiskappale poistetaan. Siksi keep = False -parametri\n",
    "potato = pd.concat([df2, df_clean, df_clean]).drop_duplicates(keep=False)\n",
    "\n",
    "print(\"Data with outliers: \", len(df2))\n",
    "print(\"Ouliers removed:    \", len(df2) - len(potato))\n",
    "print(\"Amount of outliers: \",  len(potato))\n",
    "potato"
   ]
  },
  {
   "cell_type": "markdown",
   "metadata": {},
   "source": [
    "Huom. toistuvaan df2:een. Vain yhden df2: n avulla mitä tahansa riviä df2: ssa, joka ei ole df1, ei pidetä kaksoiskappaleena ja se säilyy. Tämä ratkaisu, jossa on vain yksi df2, toimii vain, kun df2 on df1: n osajoukko. Jos kuitenkin liitämme df2: n kahdesti, se on taattu kopio ja se poistetaan myöhemmin."
   ]
  },
  {
   "cell_type": "markdown",
   "metadata": {},
   "source": [
    "#### Toinen ratkaisu"
   ]
  },
  {
   "cell_type": "code",
   "execution_count": 120,
   "metadata": {},
   "outputs": [],
   "source": [
    "df_clean = df2[np.abs(df2-df2.mean()) <= (2*df2.std())]\n",
    "#Pidä vain ne rivit, jotka ovat +3 - -3 keskihajonnan sisällä.\n",
    "\n",
    "# Sama, mutta toisinpäin\n",
    "#df2[~(np.abs(df2-df2.mean()) > (3*df2.std()))]"
   ]
  },
  {
   "cell_type": "markdown",
   "metadata": {},
   "source": [
    "## Plottaus"
   ]
  },
  {
   "cell_type": "code",
   "execution_count": 126,
   "metadata": {},
   "outputs": [
    {
     "data": {
      "text/plain": [
       "<function matplotlib.pyplot.show(close=None, block=None)>"
      ]
     },
     "execution_count": 126,
     "metadata": {},
     "output_type": "execute_result"
    },
    {
     "data": {
      "image/png": "[encoded data removed]",
      "text/plain": [
       "<Figure size 432x288 with 1 Axes>"
      ]
     },
     "metadata": {
      "needs_background": "light"
     },
     "output_type": "display_data"
    }
   ],
   "source": [
    "import matplotlib.pyplot as plt\n",
    "\n",
    "plt.plot(df_clean[\"x\"], df_clean[\"y\"], color=\"red\", marker='o', linestyle='dashed', linewidth=0.2, markersize=3)\n",
    "plt.plot(potato[\"x\"], potato[\"y\"], color=\"blue\", marker='x', linestyle='dashed', linewidth=0.2, markersize=3)\n",
    "plt.show"
   ]
  },
  {
   "cell_type": "code",
   "execution_count": 132,
   "metadata": {},
   "outputs": [
    {
     "data": {
      "text/plain": [
       "<function matplotlib.pyplot.show(close=None, block=None)>"
      ]
     },
     "execution_count": 132,
     "metadata": {},
     "output_type": "execute_result"
    },
    {
     "data": {
      "image/png": "[encoded data removed]",
      "text/plain": [
       "<Figure size 432x288 with 1 Axes>"
      ]
     },
     "metadata": {
      "needs_background": "light"
     },
     "output_type": "display_data"
    }
   ],
   "source": [
    "plt.plot(df_clean[\"x\"], df_clean[\"y\"], color=\"firebrick\", marker='o', linestyle='dashed', linewidth=0.2, markersize=3)\n",
    "plt.show"
   ]
  },
  {
   "cell_type": "code",
   "execution_count": null,
   "metadata": {},
   "outputs": [],
   "source": [
    "test = df2[(np.abs(zscore(df2)) <= 3).all(axis=1)]\n",
    "#Pidä vain ne rivit, jotka ovat +3 - -3 keskihajonnan sisällä.\n",
    "\n",
    "# pd.concat lisää kaksi DataFrame-kehystä yhteen liittämällä ne peräkkäin.\n",
    "# jos on päällekkäisyyksiä, se kaapataan drop_duplicates:illa\n",
    "# drop_duplicates oletusarvoisesti jättää ensimmäisen havainnon ja poistaa kaikki muut havainnot.\n",
    "# Tässä tapauksessa haluamme, että jokainen kaksoiskappale poistetaan. Siksi keep = False -parametri\n",
    "potato = pd.concat([df2, test, test]).drop_duplicates(keep=False)\n",
    "\n",
    "print(\"Data with outliers: \", len(df2))\n",
    "print(\"Ouliers removed:    \", len(df2) - len(potato))\n",
    "print(\"Amount of outliers: \",  len(potato))\n",
    "potato"
   ]
  },
  {
   "cell_type": "markdown",
   "metadata": {},
   "source": [
    "---"
   ]
  },
  {
   "cell_type": "code",
   "execution_count": null,
   "metadata": {},
   "outputs": [],
   "source": []
  }
 ],
 "metadata": {
  "kernelspec": {
   "display_name": "Python 3",
   "language": "python",
   "name": "python3"
  },
  "language_info": {
   "codemirror_mode": {
    "name": "ipython",
    "version": 3
   },
   "file_extension": ".py",
   "mimetype": "text/x-python",
   "name": "python",
   "nbconvert_exporter": "python",
   "pygments_lexer": "ipython3",
   "version": "3.8.3"
  }
 },
 "nbformat": 4,
 "nbformat_minor": 4
}
