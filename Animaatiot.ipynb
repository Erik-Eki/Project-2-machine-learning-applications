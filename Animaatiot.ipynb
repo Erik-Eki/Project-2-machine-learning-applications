{
 "cells": [
  {
   "cell_type": "code",
   "execution_count": null,
   "metadata": {},
   "outputs": [],
   "source": [
    "import numpy as np\n",
    "import matplotlib.pyplot as plt\n",
    "import matplotlib.animation as animation\n",
    "\n",
    "# Suositus 1 node ja esim 1 päivän plot\n",
    "x = day1plot.x\n",
    "y = day1plot.y\n",
    "\n",
    "fig, ax = plt.subplots()\n",
    "line, = ax.plot(x, y, color='k')\n",
    "\n",
    "def update(num, x, y, line):\n",
    "    line.set_data(x[:num], y[:num])\n",
    "    line.axes.axis([-2000, 6000, -2000, 5000])\n",
    "    return line,\n",
    "\n",
    "ani = animation.FuncAnimation(fig, update, len(x), fargs=[x, y, line],\n",
    "                              interval=25, blit=True)\n",
    "ani.save('test.gif')\n"
   ]
  }
 ],
 "metadata": {
  "kernelspec": {
   "display_name": "Python 3",
   "language": "python",
   "name": "python3"
  },
  "language_info": {
   "codemirror_mode": {
    "name": "ipython",
    "version": 3
   },
   "file_extension": ".py",
   "mimetype": "text/x-python",
   "name": "python",
   "nbconvert_exporter": "python",
   "pygments_lexer": "ipython3",
   "version": "3.7.6"
  }
 },
 "nbformat": 4,
 "nbformat_minor": 4
}
