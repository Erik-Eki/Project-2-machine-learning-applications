{
 "cells": [
  {
   "cell_type": "code",
   "execution_count": 1,
   "metadata": {},
   "outputs": [],
   "source": [
    "import sys\n",
    "import pandas as pd\n",
    "sys.path.insert(0, './Moduulit')\n",
    "pd.options.mode.chained_assignment = None\n",
    "\n",
    "# Importtaus tässä muodossa\n",
    "from database_connection import database_query\n",
    "from outliers import find_outliers, draw_histogram\n",
    "from clean_dataframe import clean_dataframe\n",
    "from write_df_to_database import write_df_to_mariadb\n",
    "from xy_diskretisointi import xy_to_grid\n",
    "from isolation_forest import *\n",
    "from reittien_erottelu import *\n",
    "from sisään_uloskäynnit import *\n",
    "from clean_velocities import *\n",
    "from plot_lapimenoajat import *\n",
    "from horrostila import *\n",
    "from nopeudet import *"
   ]
  },
  {
   "cell_type": "code",
   "execution_count": 2,
   "metadata": {},
   "outputs": [
    {
     "data": {
      "text/html": [
       "<div>\n",
       "<style scoped>\n",
       "    .dataframe tbody tr th:only-of-type {\n",
       "        vertical-align: middle;\n",
       "    }\n",
       "\n",
       "    .dataframe tbody tr th {\n",
       "        vertical-align: top;\n",
       "    }\n",
       "\n",
       "    .dataframe thead th {\n",
       "        text-align: right;\n",
       "    }\n",
       "</style>\n",
       "<table border=\"1\" class=\"dataframe\">\n",
       "  <thead>\n",
       "    <tr style=\"text-align: right;\">\n",
       "      <th></th>\n",
       "      <th>ajokerta</th>\n",
       "      <th>node_id</th>\n",
       "      <th>timestamp</th>\n",
       "      <th>x</th>\n",
       "      <th>y</th>\n",
       "      <th>grid_id</th>\n",
       "      <th>kesto</th>\n",
       "      <th>dayofweek</th>\n",
       "      <th>current_hour</th>\n",
       "    </tr>\n",
       "  </thead>\n",
       "  <tbody>\n",
       "    <tr>\n",
       "      <th>0</th>\n",
       "      <td>2</td>\n",
       "      <td>1</td>\n",
       "      <td>2020-06-25 15:21:46</td>\n",
       "      <td>21</td>\n",
       "      <td>11</td>\n",
       "      <td>351</td>\n",
       "      <td>754.002</td>\n",
       "      <td>3</td>\n",
       "      <td>8</td>\n",
       "    </tr>\n",
       "    <tr>\n",
       "      <th>1</th>\n",
       "      <td>2</td>\n",
       "      <td>1</td>\n",
       "      <td>2020-06-25 15:21:47</td>\n",
       "      <td>21</td>\n",
       "      <td>11</td>\n",
       "      <td>351</td>\n",
       "      <td>754.002</td>\n",
       "      <td>3</td>\n",
       "      <td>8</td>\n",
       "    </tr>\n",
       "    <tr>\n",
       "      <th>2</th>\n",
       "      <td>2</td>\n",
       "      <td>1</td>\n",
       "      <td>2020-06-25 15:21:47</td>\n",
       "      <td>21</td>\n",
       "      <td>11</td>\n",
       "      <td>351</td>\n",
       "      <td>754.002</td>\n",
       "      <td>3</td>\n",
       "      <td>8</td>\n",
       "    </tr>\n",
       "    <tr>\n",
       "      <th>3</th>\n",
       "      <td>2</td>\n",
       "      <td>1</td>\n",
       "      <td>2020-06-25 15:21:47</td>\n",
       "      <td>21</td>\n",
       "      <td>11</td>\n",
       "      <td>351</td>\n",
       "      <td>754.002</td>\n",
       "      <td>3</td>\n",
       "      <td>8</td>\n",
       "    </tr>\n",
       "    <tr>\n",
       "      <th>4</th>\n",
       "      <td>2</td>\n",
       "      <td>1</td>\n",
       "      <td>2020-06-25 15:21:50</td>\n",
       "      <td>20</td>\n",
       "      <td>11</td>\n",
       "      <td>350</td>\n",
       "      <td>754.002</td>\n",
       "      <td>3</td>\n",
       "      <td>8</td>\n",
       "    </tr>\n",
       "    <tr>\n",
       "      <th>...</th>\n",
       "      <td>...</td>\n",
       "      <td>...</td>\n",
       "      <td>...</td>\n",
       "      <td>...</td>\n",
       "      <td>...</td>\n",
       "      <td>...</td>\n",
       "      <td>...</td>\n",
       "      <td>...</td>\n",
       "      <td>...</td>\n",
       "    </tr>\n",
       "    <tr>\n",
       "      <th>2553108</th>\n",
       "      <td>8096</td>\n",
       "      <td>31</td>\n",
       "      <td>2020-09-22 14:41:04</td>\n",
       "      <td>14</td>\n",
       "      <td>12</td>\n",
       "      <td>374</td>\n",
       "      <td>95.533</td>\n",
       "      <td>1</td>\n",
       "      <td>7</td>\n",
       "    </tr>\n",
       "    <tr>\n",
       "      <th>2553109</th>\n",
       "      <td>8096</td>\n",
       "      <td>31</td>\n",
       "      <td>2020-09-22 14:41:05</td>\n",
       "      <td>14</td>\n",
       "      <td>12</td>\n",
       "      <td>374</td>\n",
       "      <td>95.533</td>\n",
       "      <td>1</td>\n",
       "      <td>7</td>\n",
       "    </tr>\n",
       "    <tr>\n",
       "      <th>2553110</th>\n",
       "      <td>8096</td>\n",
       "      <td>31</td>\n",
       "      <td>2020-09-22 14:41:06</td>\n",
       "      <td>14</td>\n",
       "      <td>12</td>\n",
       "      <td>374</td>\n",
       "      <td>95.533</td>\n",
       "      <td>1</td>\n",
       "      <td>7</td>\n",
       "    </tr>\n",
       "    <tr>\n",
       "      <th>2553111</th>\n",
       "      <td>8096</td>\n",
       "      <td>31</td>\n",
       "      <td>2020-09-22 14:41:11</td>\n",
       "      <td>0</td>\n",
       "      <td>21</td>\n",
       "      <td>630</td>\n",
       "      <td>95.533</td>\n",
       "      <td>1</td>\n",
       "      <td>7</td>\n",
       "    </tr>\n",
       "    <tr>\n",
       "      <th>2553112</th>\n",
       "      <td>8096</td>\n",
       "      <td>31</td>\n",
       "      <td>2020-09-22 14:41:11</td>\n",
       "      <td>0</td>\n",
       "      <td>19</td>\n",
       "      <td>570</td>\n",
       "      <td>95.533</td>\n",
       "      <td>1</td>\n",
       "      <td>7</td>\n",
       "    </tr>\n",
       "  </tbody>\n",
       "</table>\n",
       "<p>2553113 rows × 9 columns</p>\n",
       "</div>"
      ],
      "text/plain": [
       "         ajokerta  node_id           timestamp   x   y  grid_id    kesto  \\\n",
       "0               2        1 2020-06-25 15:21:46  21  11      351  754.002   \n",
       "1               2        1 2020-06-25 15:21:47  21  11      351  754.002   \n",
       "2               2        1 2020-06-25 15:21:47  21  11      351  754.002   \n",
       "3               2        1 2020-06-25 15:21:47  21  11      351  754.002   \n",
       "4               2        1 2020-06-25 15:21:50  20  11      350  754.002   \n",
       "...           ...      ...                 ...  ..  ..      ...      ...   \n",
       "2553108      8096       31 2020-09-22 14:41:04  14  12      374   95.533   \n",
       "2553109      8096       31 2020-09-22 14:41:05  14  12      374   95.533   \n",
       "2553110      8096       31 2020-09-22 14:41:06  14  12      374   95.533   \n",
       "2553111      8096       31 2020-09-22 14:41:11   0  21      630   95.533   \n",
       "2553112      8096       31 2020-09-22 14:41:11   0  19      570   95.533   \n",
       "\n",
       "         dayofweek  current_hour  \n",
       "0                3             8  \n",
       "1                3             8  \n",
       "2                3             8  \n",
       "3                3             8  \n",
       "4                3             8  \n",
       "...            ...           ...  \n",
       "2553108          1             7  \n",
       "2553109          1             7  \n",
       "2553110          1             7  \n",
       "2553111          1             7  \n",
       "2553112          1             7  \n",
       "\n",
       "[2553113 rows x 9 columns]"
      ]
     },
     "execution_count": 2,
     "metadata": {},
     "output_type": "execute_result"
    }
   ],
   "source": [
    "df = database_query(\"SELECT * FROM REITIT\")\n",
    "df"
   ]
  },
  {
   "cell_type": "code",
   "execution_count": 3,
   "metadata": {},
   "outputs": [
    {
     "data": {
      "text/plain": [
       "<matplotlib.axes._subplots.AxesSubplot at 0x7fe040cdea50>"
      ]
     },
     "execution_count": 3,
     "metadata": {},
     "output_type": "execute_result"
    },
    {
     "data": {
      "image/png": "[encoded data removed]",
      "text/plain": [
       "<Figure size 432x288 with 1 Axes>"
      ]
     },
     "metadata": {},
     "output_type": "display_data"
    }
   ],
   "source": [
    "plot_h =df.groupby([\"current_hour\"])['ajokerta'].nunique()\n",
    "plt.ylabel(\"ajokerrat\")\n",
    "plt.title(\"Ajokertojen määrät tiettyinä kellonaikoina\")\n",
    "plot_h.plot(kind = 'bar')"
   ]
  },
  {
   "cell_type": "code",
   "execution_count": 4,
   "metadata": {},
   "outputs": [
    {
     "data": {
      "image/png": "[encoded data removed]",
      "text/plain": [
       "<Figure size 432x288 with 1 Axes>"
      ]
     },
     "metadata": {},
     "output_type": "display_data"
    }
   ],
   "source": [
    "keskiarvot = (df.groupby (['current_hour'])[\"kesto\"].count() / len(df['kesto'])) * 60 #Lasketaan keskiarvot aikaikkunoitten sisällä sekä muutetaan saadut luvut minuuteiksi\n",
    "plot_df_keskiarvo = (keskiarvot)\n",
    "plt.ylabel(\"min\")\n",
    "plt.title(\"Läpimenoaikojen keskiarvot tiettyihin kellonaikohin\")\n",
    "plot_df_keskiarvo.plot(kind = 'bar')\n",
    "plt.show()"
   ]
  },
  {
   "cell_type": "code",
   "execution_count": 5,
   "metadata": {},
   "outputs": [
    {
     "data": {
      "text/plain": [
       "<matplotlib.axes._subplots.AxesSubplot at 0x7fe00b2d5210>"
      ]
     },
     "execution_count": 5,
     "metadata": {},
     "output_type": "execute_result"
    },
    {
     "data": {
      "image/png": "[encoded data removed]",
      "text/plain": [
       "<Figure size 432x288 with 1 Axes>"
      ]
     },
     "metadata": {},
     "output_type": "display_data"
    }
   ],
   "source": [
    "plot_pv =df.groupby([\"dayofweek\"])['ajokerta'].nunique()\n",
    "plt.title(\"Ajokertojen määrät tiettyinä päivinä\")\n",
    "plt.ylabel(\"ajokerrat\")\n",
    "\n",
    "plot_pv.plot(kind = 'bar')"
   ]
  },
  {
   "cell_type": "code",
   "execution_count": 6,
   "metadata": {},
   "outputs": [
    {
     "data": {
      "image/png": "[encoded data removed]",
      "text/plain": [
       "<Figure size 432x288 with 1 Axes>"
      ]
     },
     "metadata": {},
     "output_type": "display_data"
    }
   ],
   "source": [
    "keskiarvot_pv = (df.groupby (['dayofweek'])['kesto'].count() / len(df['kesto'])) * 60\n",
    "plot_df_keskiarvo_pv = (keskiarvot_pv)\n",
    "plt.ylabel(\"min\")\n",
    "plt.title(\"Läpimenoaikojen keskiarvot tiettyinä päivinä\")\n",
    "plot_df_keskiarvo_pv.plot(kind = 'bar')\n",
    "plt.show()"
   ]
  },
  {
   "cell_type": "code",
   "execution_count": null,
   "metadata": {},
   "outputs": [],
   "source": []
  },
  {
   "cell_type": "code",
   "execution_count": null,
   "metadata": {},
   "outputs": [],
   "source": []
  }
 ],
 "metadata": {
  "kernelspec": {
   "display_name": "Python 3",
   "language": "python",
   "name": "python3"
  },
  "language_info": {
   "codemirror_mode": {
    "name": "ipython",
    "version": 3
   },
   "file_extension": ".py",
   "mimetype": "text/x-python",
   "name": "python",
   "nbconvert_exporter": "python",
   "pygments_lexer": "ipython3",
   "version": "3.7.6"
  }
 },
 "nbformat": 4,
 "nbformat_minor": 4
}
