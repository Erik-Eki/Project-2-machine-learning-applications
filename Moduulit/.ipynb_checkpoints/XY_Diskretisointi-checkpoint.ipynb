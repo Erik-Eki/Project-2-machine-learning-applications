{
 "cells": [
  {
   "cell_type": "code",
   "execution_count": 4,
   "metadata": {},
   "outputs": [],
   "source": [
    "import pandas as pd"
   ]
  },
  {
   "cell_type": "markdown",
   "metadata": {},
   "source": [
    "# XY koordinaatit gridiin\n",
    "- HUOM! x ja y koordinaattien tulee olla normalisoituja\n",
    "- k = karkeisuus\n",
    "- Tehtyihin grideihin voi viitata .loc[0.1]"
   ]
  },
  {
   "cell_type": "code",
   "execution_count": 3,
   "metadata": {},
   "outputs": [],
   "source": [
    "def xy_to_grid(data,x,y,k):\n",
    "    \n",
    "    x_cut = pd.cut(data.x, k,labels=False)\n",
    "    y_cut = pd.cut(data.y, k,labels=False)\n",
    "    \n",
    "    # Tehdaan leikatuista arvoista liukuluku muatoa (0.1)\n",
    "    #xy_values = x_cut.values + (y_cut.values*0.1)\n",
    "    x_grid = x_cut.values\n",
    "    y_grid = y_cut.values\n",
    "    \n",
    "    # Laitetaan saadut liukuluvut dataframen indekseiksi\n",
    "    data['x_grid'],data['y_grid'] = x_grid, y_grid\n",
    "    return data"
   ]
  },
  {
   "cell_type": "code",
   "execution_count": null,
   "metadata": {},
   "outputs": [],
   "source": []
  }
 ],
 "metadata": {
  "kernelspec": {
   "display_name": "Python 3",
   "language": "python",
   "name": "python3"
  },
  "language_info": {
   "codemirror_mode": {
    "name": "ipython",
    "version": 3
   },
   "file_extension": ".py",
   "mimetype": "text/x-python",
   "name": "python",
   "nbconvert_exporter": "python",
   "pygments_lexer": "ipython3",
   "version": "3.7.6"
  }
 },
 "nbformat": 4,
 "nbformat_minor": 4
}
