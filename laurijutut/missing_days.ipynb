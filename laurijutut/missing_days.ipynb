{
 "cells": [
  {
   "cell_type": "code",
   "execution_count": 80,
   "metadata": {},
   "outputs": [],
   "source": [
    "import sys\n",
    "import pandas as pd\n",
    "from datetime import datetime\n",
    "sys.path.insert(0, './Moduulit')\n",
    "pd.options.mode.chained_assignment = None\n",
    "# Importtaus tässä muodossa\n",
    "from database_connection import database_query\n",
    "from outliers import find_outliers, draw_histogram\n",
    "from clean_dataframe import clean_dataframe\n",
    "from write_df_to_database import write_df_to_mariadb\n",
    "from xy_diskretisointi import xy_to_grid\n",
    "from isolation_forest import *\n",
    "from sisään_uloskäynnit import *\n",
    "from clean_velocities import *\n",
    "\n",
    "# tai from ... import *\n",
    "\n",
    "\n",
    "# Jos datasetti on \"df\"\n",
    "\n",
    "# Esim. find_outliers(df)\n",
    "# Esim. draw_histogram(df['x'], df['y'], 20) <-- kolmas meinaa bins arvoa, eli histogrammin \"rakeisuutta\""
   ]
  },
  {
   "cell_type": "code",
   "execution_count": 81,
   "metadata": {},
   "outputs": [
    {
     "data": {
      "text/html": [
       "<div>\n",
       "<style scoped>\n",
       "    .dataframe tbody tr th:only-of-type {\n",
       "        vertical-align: middle;\n",
       "    }\n",
       "\n",
       "    .dataframe tbody tr th {\n",
       "        vertical-align: top;\n",
       "    }\n",
       "\n",
       "    .dataframe thead th {\n",
       "        text-align: right;\n",
       "    }\n",
       "</style>\n",
       "<table border=\"1\" class=\"dataframe\">\n",
       "  <thead>\n",
       "    <tr style=\"text-align: right;\">\n",
       "      <th></th>\n",
       "      <th>Unnamed: 0</th>\n",
       "      <th>node_id</th>\n",
       "      <th>timestamp</th>\n",
       "      <th>x</th>\n",
       "      <th>y</th>\n",
       "      <th>z</th>\n",
       "      <th>q</th>\n",
       "    </tr>\n",
       "  </thead>\n",
       "  <tbody>\n",
       "    <tr>\n",
       "      <th>0</th>\n",
       "      <td>0</td>\n",
       "      <td>b'-2393099149039893833'</td>\n",
       "      <td>b'2020-06-24 12:20:08.533016+00:00'</td>\n",
       "      <td>2762</td>\n",
       "      <td>-257</td>\n",
       "      <td>100</td>\n",
       "      <td>0</td>\n",
       "    </tr>\n",
       "    <tr>\n",
       "      <th>1</th>\n",
       "      <td>1</td>\n",
       "      <td>b'-2393099149039893833'</td>\n",
       "      <td>b'2020-06-24 12:20:08.620015+00:00'</td>\n",
       "      <td>2870</td>\n",
       "      <td>-344</td>\n",
       "      <td>100</td>\n",
       "      <td>0</td>\n",
       "    </tr>\n",
       "    <tr>\n",
       "      <th>2</th>\n",
       "      <td>2</td>\n",
       "      <td>b'-2393099149039893833'</td>\n",
       "      <td>b'2020-06-24 12:20:09.622827+00:00'</td>\n",
       "      <td>2916</td>\n",
       "      <td>-344</td>\n",
       "      <td>100</td>\n",
       "      <td>0</td>\n",
       "    </tr>\n",
       "    <tr>\n",
       "      <th>3</th>\n",
       "      <td>3</td>\n",
       "      <td>b'-2393099149039893833'</td>\n",
       "      <td>b'2020-06-24 12:20:09.622846+00:00'</td>\n",
       "      <td>2894</td>\n",
       "      <td>-254</td>\n",
       "      <td>100</td>\n",
       "      <td>0</td>\n",
       "    </tr>\n",
       "    <tr>\n",
       "      <th>4</th>\n",
       "      <td>4</td>\n",
       "      <td>b'-2393099149039893833'</td>\n",
       "      <td>b'2020-06-24 12:20:10.116102+00:00'</td>\n",
       "      <td>2888</td>\n",
       "      <td>-188</td>\n",
       "      <td>100</td>\n",
       "      <td>0</td>\n",
       "    </tr>\n",
       "    <tr>\n",
       "      <th>...</th>\n",
       "      <td>...</td>\n",
       "      <td>...</td>\n",
       "      <td>...</td>\n",
       "      <td>...</td>\n",
       "      <td>...</td>\n",
       "      <td>...</td>\n",
       "      <td>...</td>\n",
       "    </tr>\n",
       "    <tr>\n",
       "      <th>13890901</th>\n",
       "      <td>13890901</td>\n",
       "      <td>b'4996252679627069957'</td>\n",
       "      <td>b'2020-06-01 03:00:05.469336+00:00'</td>\n",
       "      <td>635</td>\n",
       "      <td>1064</td>\n",
       "      <td>0</td>\n",
       "      <td>0</td>\n",
       "    </tr>\n",
       "    <tr>\n",
       "      <th>13890902</th>\n",
       "      <td>13890902</td>\n",
       "      <td>b'4996252679627069957'</td>\n",
       "      <td>b'2020-06-01 03:00:06.47926+00:00'</td>\n",
       "      <td>681</td>\n",
       "      <td>760</td>\n",
       "      <td>0</td>\n",
       "      <td>0</td>\n",
       "    </tr>\n",
       "    <tr>\n",
       "      <th>13890903</th>\n",
       "      <td>13890903</td>\n",
       "      <td>b'4996252679627069957'</td>\n",
       "      <td>b'2020-06-01 03:00:08.507118+00:00'</td>\n",
       "      <td>622</td>\n",
       "      <td>991</td>\n",
       "      <td>0</td>\n",
       "      <td>0</td>\n",
       "    </tr>\n",
       "    <tr>\n",
       "      <th>13890904</th>\n",
       "      <td>13890904</td>\n",
       "      <td>b'4996252679627069957'</td>\n",
       "      <td>b'2020-06-01 03:00:09.547553+00:00'</td>\n",
       "      <td>644</td>\n",
       "      <td>1066</td>\n",
       "      <td>0</td>\n",
       "      <td>0</td>\n",
       "    </tr>\n",
       "    <tr>\n",
       "      <th>13890905</th>\n",
       "      <td>13890905</td>\n",
       "      <td>b'4996252679627069957'</td>\n",
       "      <td>b'2020-06-01 03:00:10.968327+00:00'</td>\n",
       "      <td>634</td>\n",
       "      <td>1054</td>\n",
       "      <td>0</td>\n",
       "      <td>0</td>\n",
       "    </tr>\n",
       "  </tbody>\n",
       "</table>\n",
       "<p>13890906 rows × 7 columns</p>\n",
       "</div>"
      ],
      "text/plain": [
       "          Unnamed: 0                  node_id  \\\n",
       "0                  0  b'-2393099149039893833'   \n",
       "1                  1  b'-2393099149039893833'   \n",
       "2                  2  b'-2393099149039893833'   \n",
       "3                  3  b'-2393099149039893833'   \n",
       "4                  4  b'-2393099149039893833'   \n",
       "...              ...                      ...   \n",
       "13890901    13890901   b'4996252679627069957'   \n",
       "13890902    13890902   b'4996252679627069957'   \n",
       "13890903    13890903   b'4996252679627069957'   \n",
       "13890904    13890904   b'4996252679627069957'   \n",
       "13890905    13890905   b'4996252679627069957'   \n",
       "\n",
       "                                    timestamp     x     y    z  q  \n",
       "0         b'2020-06-24 12:20:08.533016+00:00'  2762  -257  100  0  \n",
       "1         b'2020-06-24 12:20:08.620015+00:00'  2870  -344  100  0  \n",
       "2         b'2020-06-24 12:20:09.622827+00:00'  2916  -344  100  0  \n",
       "3         b'2020-06-24 12:20:09.622846+00:00'  2894  -254  100  0  \n",
       "4         b'2020-06-24 12:20:10.116102+00:00'  2888  -188  100  0  \n",
       "...                                       ...   ...   ...  ... ..  \n",
       "13890901  b'2020-06-01 03:00:05.469336+00:00'   635  1064    0  0  \n",
       "13890902   b'2020-06-01 03:00:06.47926+00:00'   681   760    0  0  \n",
       "13890903  b'2020-06-01 03:00:08.507118+00:00'   622   991    0  0  \n",
       "13890904  b'2020-06-01 03:00:09.547553+00:00'   644  1066    0  0  \n",
       "13890905  b'2020-06-01 03:00:10.968327+00:00'   634  1054    0  0  \n",
       "\n",
       "[13890906 rows x 7 columns]"
      ]
     },
     "execution_count": 81,
     "metadata": {},
     "output_type": "execute_result"
    }
   ],
   "source": [
    "\n",
    "df = pd.read_csv('/home/jovyan/work/projekti-2-team-fox/laurijutut/projekti2.csv')\n",
    "df"
   ]
  },
  {
   "cell_type": "code",
   "execution_count": 82,
   "metadata": {},
   "outputs": [
    {
     "name": "stdout",
     "output_type": "stream",
     "text": [
      "CPU times: user 10.8 s, sys: 276 ms, total: 11.1 s\n",
      "Wall time: 11.1 s\n"
     ]
    }
   ],
   "source": [
    "%%time\n",
    "df = df.sort_values(by='timestamp', ascending=True)"
   ]
  },
  {
   "cell_type": "code",
   "execution_count": 83,
   "metadata": {},
   "outputs": [
    {
     "name": "stdout",
     "output_type": "stream",
     "text": [
      "CPU times: user 2min 19s, sys: 4.32 s, total: 2min 24s\n",
      "Wall time: 2min 23s\n"
     ]
    }
   ],
   "source": [
    "%%time\n",
    "df_new = clean_dataframe(df)"
   ]
  },
  {
   "cell_type": "code",
   "execution_count": 84,
   "metadata": {},
   "outputs": [],
   "source": [
    "df_new = df_new.reset_index(drop=True)"
   ]
  },
  {
   "cell_type": "code",
   "execution_count": 145,
   "metadata": {},
   "outputs": [],
   "source": [
    "dfdf = df_new"
   ]
  },
  {
   "cell_type": "code",
   "execution_count": 86,
   "metadata": {},
   "outputs": [
    {
     "data": {
      "text/html": [
       "<div>\n",
       "<style scoped>\n",
       "    .dataframe tbody tr th:only-of-type {\n",
       "        vertical-align: middle;\n",
       "    }\n",
       "\n",
       "    .dataframe tbody tr th {\n",
       "        vertical-align: top;\n",
       "    }\n",
       "\n",
       "    .dataframe thead th {\n",
       "        text-align: right;\n",
       "    }\n",
       "</style>\n",
       "<table border=\"1\" class=\"dataframe\">\n",
       "  <thead>\n",
       "    <tr style=\"text-align: right;\">\n",
       "      <th></th>\n",
       "      <th>index</th>\n",
       "      <th>Unnamed: 0</th>\n",
       "      <th>node_id</th>\n",
       "      <th>timestamp</th>\n",
       "      <th>x</th>\n",
       "      <th>y</th>\n",
       "    </tr>\n",
       "  </thead>\n",
       "  <tbody>\n",
       "    <tr>\n",
       "      <th>0</th>\n",
       "      <td>12502166</td>\n",
       "      <td>12502166</td>\n",
       "      <td>1</td>\n",
       "      <td>2020-05-05 20:48:36.098</td>\n",
       "      <td>250</td>\n",
       "      <td>528</td>\n",
       "    </tr>\n",
       "    <tr>\n",
       "      <th>1</th>\n",
       "      <td>12502167</td>\n",
       "      <td>12502167</td>\n",
       "      <td>1</td>\n",
       "      <td>2020-05-05 20:48:40.096</td>\n",
       "      <td>228</td>\n",
       "      <td>528</td>\n",
       "    </tr>\n",
       "    <tr>\n",
       "      <th>2</th>\n",
       "      <td>12502168</td>\n",
       "      <td>12502168</td>\n",
       "      <td>1</td>\n",
       "      <td>2020-05-05 20:50:13.096</td>\n",
       "      <td>212</td>\n",
       "      <td>540</td>\n",
       "    </tr>\n",
       "    <tr>\n",
       "      <th>3</th>\n",
       "      <td>12502169</td>\n",
       "      <td>12502169</td>\n",
       "      <td>1</td>\n",
       "      <td>2020-05-05 20:50:15.096</td>\n",
       "      <td>209</td>\n",
       "      <td>533</td>\n",
       "    </tr>\n",
       "    <tr>\n",
       "      <th>4</th>\n",
       "      <td>12502170</td>\n",
       "      <td>12502170</td>\n",
       "      <td>1</td>\n",
       "      <td>2020-05-05 20:50:17.099</td>\n",
       "      <td>186</td>\n",
       "      <td>528</td>\n",
       "    </tr>\n",
       "    <tr>\n",
       "      <th>...</th>\n",
       "      <td>...</td>\n",
       "      <td>...</td>\n",
       "      <td>...</td>\n",
       "      <td>...</td>\n",
       "      <td>...</td>\n",
       "      <td>...</td>\n",
       "    </tr>\n",
       "    <tr>\n",
       "      <th>11824669</th>\n",
       "      <td>5262600</td>\n",
       "      <td>5262600</td>\n",
       "      <td>4</td>\n",
       "      <td>2020-10-23 09:57:49.372</td>\n",
       "      <td>187</td>\n",
       "      <td>3999</td>\n",
       "    </tr>\n",
       "    <tr>\n",
       "      <th>11824670</th>\n",
       "      <td>11869220</td>\n",
       "      <td>11869220</td>\n",
       "      <td>14</td>\n",
       "      <td>2020-10-23 09:57:49.989</td>\n",
       "      <td>2790</td>\n",
       "      <td>-300</td>\n",
       "    </tr>\n",
       "    <tr>\n",
       "      <th>11824671</th>\n",
       "      <td>583873</td>\n",
       "      <td>583873</td>\n",
       "      <td>24</td>\n",
       "      <td>2020-10-23 09:57:50.989</td>\n",
       "      <td>2773</td>\n",
       "      <td>-369</td>\n",
       "    </tr>\n",
       "    <tr>\n",
       "      <th>11824672</th>\n",
       "      <td>1210149</td>\n",
       "      <td>1210149</td>\n",
       "      <td>26</td>\n",
       "      <td>2020-10-23 09:57:54.758</td>\n",
       "      <td>1301</td>\n",
       "      <td>-9</td>\n",
       "    </tr>\n",
       "    <tr>\n",
       "      <th>11824673</th>\n",
       "      <td>6012291</td>\n",
       "      <td>6012291</td>\n",
       "      <td>5</td>\n",
       "      <td>2020-10-23 09:57:56.989</td>\n",
       "      <td>1640</td>\n",
       "      <td>1589</td>\n",
       "    </tr>\n",
       "  </tbody>\n",
       "</table>\n",
       "<p>11824674 rows × 6 columns</p>\n",
       "</div>"
      ],
      "text/plain": [
       "             index  Unnamed: 0  node_id               timestamp     x     y\n",
       "0         12502166    12502166        1 2020-05-05 20:48:36.098   250   528\n",
       "1         12502167    12502167        1 2020-05-05 20:48:40.096   228   528\n",
       "2         12502168    12502168        1 2020-05-05 20:50:13.096   212   540\n",
       "3         12502169    12502169        1 2020-05-05 20:50:15.096   209   533\n",
       "4         12502170    12502170        1 2020-05-05 20:50:17.099   186   528\n",
       "...            ...         ...      ...                     ...   ...   ...\n",
       "11824669   5262600     5262600        4 2020-10-23 09:57:49.372   187  3999\n",
       "11824670  11869220    11869220       14 2020-10-23 09:57:49.989  2790  -300\n",
       "11824671    583873      583873       24 2020-10-23 09:57:50.989  2773  -369\n",
       "11824672   1210149     1210149       26 2020-10-23 09:57:54.758  1301    -9\n",
       "11824673   6012291     6012291        5 2020-10-23 09:57:56.989  1640  1589\n",
       "\n",
       "[11824674 rows x 6 columns]"
      ]
     },
     "execution_count": 86,
     "metadata": {},
     "output_type": "execute_result"
    }
   ],
   "source": [
    "dfdf"
   ]
  },
  {
   "cell_type": "code",
   "execution_count": 164,
   "metadata": {},
   "outputs": [],
   "source": [
    "dfdf.timestamp = dfdf['timestamp'].dt.normalize()\n",
    "muuttuja  = dfdf.timestamp.value_counts().sort_index()\n"
   ]
  },
  {
   "cell_type": "code",
   "execution_count": 180,
   "metadata": {},
   "outputs": [
    {
     "data": {
      "text/plain": [
       "149"
      ]
     },
     "execution_count": 180,
     "metadata": {},
     "output_type": "execute_result"
    }
   ],
   "source": [
    "muuttuja.index.value_counts().sum()"
   ]
  },
  {
   "cell_type": "code",
   "execution_count": null,
   "metadata": {},
   "outputs": [],
   "source": []
  },
  {
   "cell_type": "code",
   "execution_count": 152,
   "metadata": {},
   "outputs": [],
   "source": []
  },
  {
   "cell_type": "code",
   "execution_count": 179,
   "metadata": {},
   "outputs": [
    {
     "data": {
      "text/plain": [
       "172"
      ]
     },
     "execution_count": 179,
     "metadata": {},
     "output_type": "execute_result"
    }
   ],
   "source": [
    "days = pd.date_range(start='5/5/2020', end='23/10/2020')\n",
    "days.value_counts().sum()\n"
   ]
  },
  {
   "cell_type": "code",
   "execution_count": 166,
   "metadata": {},
   "outputs": [],
   "source": [
    "uusi = muuttuja.reindex(days)"
   ]
  },
  {
   "cell_type": "code",
   "execution_count": 167,
   "metadata": {},
   "outputs": [
    {
     "data": {
      "text/plain": [
       "2020-05-05      129.0\n",
       "2020-05-06        NaN\n",
       "2020-05-07        NaN\n",
       "2020-05-08        NaN\n",
       "2020-05-09        NaN\n",
       "               ...   \n",
       "2020-10-19    44850.0\n",
       "2020-10-20    45441.0\n",
       "2020-10-21    53531.0\n",
       "2020-10-22    48846.0\n",
       "2020-10-23     4751.0\n",
       "Freq: D, Name: timestamp, Length: 172, dtype: float64"
      ]
     },
     "execution_count": 167,
     "metadata": {},
     "output_type": "execute_result"
    }
   ],
   "source": [
    "uusi\n"
   ]
  },
  {
   "cell_type": "code",
   "execution_count": 181,
   "metadata": {},
   "outputs": [
    {
     "data": {
      "text/plain": [
       "23"
      ]
     },
     "execution_count": 181,
     "metadata": {},
     "output_type": "execute_result"
    }
   ],
   "source": [
    "uusi.isnull().sum()"
   ]
  },
  {
   "cell_type": "code",
   "execution_count": 176,
   "metadata": {},
   "outputs": [
    {
     "data": {
      "text/plain": [
       "Text(0.5, 1.0, 'Kaupassa liikehdintä ja puuttuvat päivät')"
      ]
     },
     "execution_count": 176,
     "metadata": {},
     "output_type": "execute_result"
    },
    {
     "data": {
      "image/png": "[encoded data removed]",
      "text/plain": [
       "<Figure size 1440x720 with 1 Axes>"
      ]
     },
     "metadata": {
      "needs_background": "light"
     },
     "output_type": "display_data"
    }
   ],
   "source": [
    "plt.figure(figsize=(20,10))\n",
    "cmap = plt.cm.tab10\n",
    "colors = cmap(np.arange(len(df)) % cmap.N)\n",
    "plt.bar(uusi.index, uusi, color=colors)\n",
    "plt.title('Kaupassa liikehdintä ja puuttuvat päivät')"
   ]
  },
  {
   "cell_type": "code",
   "execution_count": null,
   "metadata": {},
   "outputs": [],
   "source": [
    "def missing_days(df):\n",
    "    \n",
    "    "
   ]
  }
 ],
 "metadata": {
  "kernelspec": {
   "display_name": "Python 3",
   "language": "python",
   "name": "python3"
  },
  "language_info": {
   "codemirror_mode": {
    "name": "ipython",
    "version": 3
   },
   "file_extension": ".py",
   "mimetype": "text/x-python",
   "name": "python",
   "nbconvert_exporter": "python",
   "pygments_lexer": "ipython3",
   "version": "3.7.6"
  }
 },
 "nbformat": 4,
 "nbformat_minor": 4
}
