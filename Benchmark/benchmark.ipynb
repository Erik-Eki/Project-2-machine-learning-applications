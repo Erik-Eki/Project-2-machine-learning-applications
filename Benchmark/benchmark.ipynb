{
 "cells": [
  {
   "cell_type": "code",
   "execution_count": 8,
   "metadata": {},
   "outputs": [],
   "source": [
    "### Processors: 12 × Intel® Core™ i7-10710U CPU @ 1.10GHz\n",
    "### Memory: 15,5 GiB of RAM"
   ]
  },
  {
   "cell_type": "code",
   "execution_count": 1,
   "metadata": {},
   "outputs": [],
   "source": [
    "import psycopg2\n",
    "import pandas as pd\n",
    "import time\n",
    "import seaborn as sns \n",
    "sns.set_palette(\"muted\");\n",
    "sns.set();\n",
    "import matplotlib.pyplot as plt\n",
    "import numpy as np\n",
    "import mysql.connector\n",
    "from influxdb import InfluxDBClient\n",
    "\n",
    "Databases = []\n",
    "connections = []"
   ]
  },
  {
   "cell_type": "markdown",
   "metadata": {},
   "source": [
    "#### Huom! Jos tulee virhekoodeja, kun yrität yhdistää tietokantoihin. Konttien host-osoite saattaa muuttua, jos kontti on sammunut jossakin välissä.\n",
    "#### Docker inspect -kontin_nimi-"
   ]
  },
  {
   "cell_type": "code",
   "execution_count": 2,
   "metadata": {},
   "outputs": [],
   "source": [
    "yugabyte = psycopg2.connect(host=\"172.19.0.1\", \n",
    "                            port=\"5433\", \n",
    "                            dbname=\"iiwari_org\", \n",
    "                            user=\"yugabyte\",\n",
    "                            password=\"yugabyte\")\n",
    "Databases.append(\"YugabyteDB\")\n",
    "connections.append(yugabyte)\n",
    "\n",
    "# query = \"SELECT * FROM SensorData limit 80\"\n",
    "# start = time.time()\n",
    "# cursor = yugabyte.cursor()\n",
    "# cursor.execute(query)\n",
    "# df = pd.DataFrame(cursor.fetchall())\n",
    "# print(time.time() -start)\n",
    "# df"
   ]
  },
  {
   "cell_type": "markdown",
   "metadata": {},
   "source": [
    "#### CockroachDB Connection"
   ]
  },
  {
   "cell_type": "code",
   "execution_count": 3,
   "metadata": {},
   "outputs": [],
   "source": [
    "\n",
    "cockroach = psycopg2.connect(\n",
    "                database=\"iiwari\",\n",
    "                user='roach',\n",
    "                host='172.18.0.1',\n",
    "                port=\"26257\"\n",
    ")\n",
    "\n",
    "Databases.append(\"CockroachDB\")\n",
    "connections.append(cockroach)\n",
    "\n",
    "# query = \"SELECT * FROM SensorData limit 80\"\n",
    "# start = time.time()\n",
    "# cursor = cockroach.cursor()\n",
    "# cursor.execute(query)\n",
    "# df = pd.DataFrame(cursor.fetchall())\n",
    "# print(time.time() -start)\n",
    "# df"
   ]
  },
  {
   "cell_type": "markdown",
   "metadata": {},
   "source": [
    "### TimescaleDB Connection"
   ]
  },
  {
   "cell_type": "code",
   "execution_count": 4,
   "metadata": {},
   "outputs": [],
   "source": [
    "# Luodaan yhteys\n",
    "timescaledb = psycopg2.connect(user = \"postgres\",\n",
    "                              password = \"password\",\n",
    "                              host = \"172.17.0.3\",\n",
    "                              port = \"5432\",\n",
    "                              dbname = \"iiwari\")\n",
    "\n",
    "# Koko höskän luonti\n",
    "# real    10m26,917s\n",
    "# user    0m2,250s\n",
    "# sys     0m5,637s\n",
    "\n",
    "Databases.append(\"TimescaleDB\")\n",
    "connections.append(timescaledb)\n",
    "\n",
    "# start = time.time()\n",
    "# query =\"SELECT * FROM SensorData limit 80\"\n",
    "# cursor = timescaledb.cursor()\n",
    "# cursor.execute(query)\n",
    "# df = pd.DataFrame(cursor.fetchall())\n",
    "# print(time.time() -start)\n",
    "# df"
   ]
  },
  {
   "cell_type": "markdown",
   "metadata": {},
   "source": [
    "### MariaDB Connection"
   ]
  },
  {
   "cell_type": "code",
   "execution_count": 5,
   "metadata": {},
   "outputs": [],
   "source": [
    "# En muistanut kellottaa, mutta populoinnissa meni noin.30min\n",
    "\n",
    "mariadb = mysql.connector.connect(\n",
    "    host=\"172.17.0.4\",\n",
    "    user=\"root\",\n",
    "    passwd=\"insert-password-here\",\n",
    "    database=\"iiwari_org\"\n",
    ")\n",
    "\n",
    "Databases.append(\"MariaDB\")\n",
    "connections.append(mariadb)\n",
    "\n",
    "# query = \"SELECT * FROM SensorData limit 80\"\n",
    "# cursor = mariadb.cursor()\n",
    "# cursor.execute(query)\n",
    "# df = pd.DataFrame(cursor.fetchall())\n",
    "# cursor.close()\n",
    "# df"
   ]
  },
  {
   "cell_type": "markdown",
   "metadata": {},
   "source": [
    "#### InfluxDB Connection"
   ]
  },
  {
   "cell_type": "code",
   "execution_count": 6,
   "metadata": {},
   "outputs": [],
   "source": [
    "\n",
    "# koko höskän luonti\n",
    "# real    119m57,521s\n",
    "# user    0m3,748s\n",
    "# sys     0m7,392s\n",
    "influxdb = InfluxDBClient(host='172.17.0.5', \n",
    "                        port=8086, \n",
    "                        username='admin', \n",
    "                        password='teamfox',\n",
    "                        database=\"iiwari_org\")\n",
    "\n",
    "Databases.append(\"InfluxDB\")\n",
    "connections.append(influxdb)\n",
    "\n",
    "\n",
    "query =  \"SELECT * FROM SensorData limit 80\"\n",
    "\n",
    "\n",
    "# result = influxdb.query(query)\n",
    "# cpu_points = list(result.get_points())\n",
    "# df = pd.DataFrame(list(cpu_points))\n",
    "# df"
   ]
  },
  {
   "cell_type": "code",
   "execution_count": 12,
   "metadata": {},
   "outputs": [],
   "source": [
    "\n",
    "def speed_test(connection):\n",
    "    times = []\n",
    "    start = time.time()\n",
    "    query = \"SELECT * FROM SensorData limit 1400000\"\n",
    "    if connection == influxdb:\n",
    "        result = influxdb.query(query)\n",
    "        cpu_points = list(result.get_points())\n",
    "        # df = pd.DataFrame(list(cpu_points))\n",
    "    else:\n",
    "        cursor = connection.cursor()\n",
    "        cursor.execute(query)\n",
    "        cursor.fetchall()\n",
    "    times.append(time.time()-start)\n",
    "#         print(time.time() - start)\n",
    "    \n",
    "    return times\n",
    "\n",
    "def scalability_test(connection):\n",
    "    times = []\n",
    "    start = time.time()\n",
    "    for rows in range(0, 8000000, 1000000):\n",
    "        query = \"SELECT * FROM SensorData limit \" + str(rows)+\";\"\n",
    "        start = time.time()\n",
    "        if connection == influxdb:\n",
    "            pass\n",
    "        else:\n",
    "            cursor = connection.cursor()\n",
    "\n",
    "            cursor.execute(query)\n",
    "            cursor.fetchall()\n",
    "        times.append(time.time()-start)\n",
    "#         print(time.time()-start)\n",
    "\n",
    "    return times\n",
    "\n",
    "def speed_test_and_to_dataframe(connection):\n",
    "    times = []\n",
    "    query = \"SELECT * FROM SensorData limit 1400000\"\n",
    "    \n",
    "    if connection == influxdb:\n",
    "        result = influxdb.query(query)\n",
    "        cpu_points = list(result.get_points())\n",
    "        start = time.time()\n",
    "        df = pd.DataFrame(list(cpu_points))\n",
    "        times.append(time.time()-start)\n",
    "    else:\n",
    "        cursor = connection.cursor()\n",
    "        cursor.execute(query)\n",
    "        start = time.time()\n",
    "        df = pd.DataFrame(cursor.fetchall())\n",
    "        times.append(time.time()-start)\n",
    "    return times\n",
    "\n",
    "def speed_test_condition(connection):\n",
    "    times = []\n",
    "    start = time.time()\n",
    "    query = \"SELECT * FROM SensorData WHERE z = 0 and x != 250\"\n",
    "    if connection == influxdb:\n",
    "        result = influxdb.query(query)\n",
    "        cpu_points = list(result.get_points())\n",
    "        df = pd.DataFrame(list(cpu_points))\n",
    "    else:\n",
    "        cursor = connection.cursor()\n",
    "        cursor.execute(query)\n",
    "        df = pd.DataFrame(cursor.fetchall())\n",
    "    times.append(time.time()-start)\n",
    "\n",
    "    return times\n",
    "\n",
    "db_speed_times = []\n",
    "db_scalability_times = []\n",
    "db_to_dataframe_tiems = []\n",
    "db_speed_condition_times = []\n",
    "\n",
    "for connection in connections:    \n",
    "    db_speed_times.append(speed_test(connection))\n",
    "    db_scalability_times.append(scalability_test(connection))\n",
    "    db_to_dataframe_tiems.append(speed_test_and_to_dataframe(connection))\n",
    "    db_speed_condition_times.append(speed_test_condition(connection))"
   ]
  },
  {
   "cell_type": "code",
   "execution_count": 34,
   "metadata": {},
   "outputs": [
    {
     "data": {
      "image/png": "[encoded data removed]",
      "text/plain": [
       "<Figure size 1656x576 with 3 Axes>"
      ]
     },
     "metadata": {},
     "output_type": "display_data"
    }
   ],
   "source": [
    "\n",
    "def get_graphs(db_speed_times, db_to_dataframe_tiems, db_speed_condition_times, db_scalability_times, Databases):\n",
    "\n",
    "    fig, axes = plt.subplots(1,3, figsize=(23,8), squeeze=False)\n",
    "\n",
    "    asd = {}\n",
    "    sdf = {}\n",
    "    for db in range(len(Databases)):\n",
    "        asd.update(pd.DataFrame({Databases[db]:db_speed_times[db]}, index = [\"Query\"]))\n",
    "        sdf.update(pd.DataFrame({Databases[db]:db_to_dataframe_tiems[db]},  index = [\"Create Dataframe\"]))\n",
    "\n",
    "    dd = pd.DataFrame(asd)\n",
    "    dd = dd.append(pd.DataFrame(sdf))\n",
    "    dd.T.plot(kind=\"bar\", stacked = True, ax=axes[0,0]).set_title(\"SELECT * FROM SensorData limit 1,400,000\")\n",
    "    axes[0][0].legend(loc=9)\n",
    "    plt.setp(axes[0,0].get_xticklabels(), rotation=0)\n",
    "    \n",
    "    lll = {}\n",
    "    for db in range(len(Databases)):\n",
    "        lll.update(pd.DataFrame({Databases[db]:db_speed_condition_times[db]}))\n",
    "    cond = pd.DataFrame(lll)\n",
    "    cond.T.plot(kind=\"bar\", ax=axes[0,1], legend=None).set_title(\"SELECT * FROM SensorData WHERE z = 0 and x != 250\")\n",
    "\n",
    "#     plt.ylabel(\"Time s\")\n",
    "    plt.setp(axes[0,1].get_xticklabels(), rotation=0)\n",
    "    \n",
    "    sca = {}\n",
    "    for db in range(len(Databases)):\n",
    "        sca.update(pd.DataFrame({Databases[db]:db_scalability_times[db]}))\n",
    "        sss = pd.DataFrame(sca)\n",
    "    a = sss.plot(kind=\"line\", ax=axes[0,2]).set_title(\"SELECT * FROM SensorData LIMIT\")\n",
    "    plt.ylabel(\"Time s\")\n",
    "    plt.xlabel(\"Rows * 1,000,000\")\n",
    "    plt.setp(axes[0:], ylabel='Time s')\n",
    "    return plt.show()\n",
    "\n",
    "get_graphs(db_speed_times, db_to_dataframe_tiems, db_speed_condition_times, db_scalability_times, Databases)"
   ]
  },
  {
   "cell_type": "markdown",
   "metadata": {},
   "source": [
    "### Aijempia koodeja"
   ]
  },
  {
   "cell_type": "code",
   "execution_count": null,
   "metadata": {},
   "outputs": [],
   "source": [
    "### Aikaisempi versio\n",
    "def plot_benchmarks(db_scalability_times, db_speed_times, db_to_dataframe_tiems, db_speed_condition_times, Databases):\n",
    "    Databases = [\"TimescaleSB\", \"MariaDB\", \"InfluxDB\"]\n",
    "    fig, axes = plt.subplots(2,2, figsize=(16, 11))\n",
    "    for i in range(len(db_scalability_times)):\n",
    "        \n",
    "        sns.lineplot(ax=axes[0][0],x=[x for x in range(len(db_speed_times[i]))], y=db_speed_times[i]).set_title(\"SELECT * FROM SensorData limit 14,000,000\")\n",
    "        axes[0][0].set_ylabel(\"Time s\")\n",
    "        axes[0][0].xaxis.set_major_locator(plt.MultipleLocator(1))\n",
    "        axes[0][0].set_xlabel(\"Number of iterations\")\n",
    "        \n",
    "        sns.lineplot(ax=axes[0][1],x=[x for x in range(len(db_to_dataframe_tiems[i]))], y=db_to_dataframe_tiems[i]).set_title(\"SELECT * FROM SensorData limit 14,000,000 + dataframe\")\n",
    "        axes[0][1].set_ylabel(\"Time s\")\n",
    "        axes[0][1].xaxis.set_major_locator(plt.MultipleLocator(1))\n",
    "        axes[0][1].set_xlabel(\"Number of iterations\")\n",
    "        \n",
    "        sns.lineplot(ax=axes[1][0],x=[x for x in range(len(db_speed_condition_times[i]))], y=db_speed_condition_times[i]).set_title(\"SELECT * FROM SensorData WHERE node_id = 3200 + dataframe\")\n",
    "        axes[1][0].set_ylabel(\"Time s\")\n",
    "        axes[1][0].xaxis.set_major_locator(plt.MultipleLocator(1))\n",
    "        axes[1][0].set_xlabel(\"Number of iterations\")\n",
    "        \n",
    "\n",
    "        sns.lineplot(ax=axes[1][1],x=[x for x in range(len(db_scalability_times[i]))], y=db_scalability_times[i]).set_title(\"SELECT * FROM SensorData LIMIT\")\n",
    "        axes[1][1].xaxis.set_major_locator(plt.MultipleLocator(1))\n",
    "        axes[1][1].set_ylabel(\"Time s\")\n",
    "        axes[1][1].set_xlabel(\"Number of rows *100,000\")\n",
    "    \n",
    "    plt.suptitle('Benchmarks ',fontsize=20)\n",
    "    axes[0][0].legend(title='Database', loc='upper center', labels=Databases)\n",
    "    axes[0][1].legend(title='Database', loc='upper center', labels=Databases)\n",
    "    axes[1][0].legend(title='Database', loc='upper center', labels=Databases)\n",
    "    axes[1][1].legend(title='Database', loc='upper center', labels=Databases)\n",
    "\n",
    "    plt.show()\n",
    "    \n",
    "plot_benchmarks(db_scalability_times, db_speed_times, db_to_dataframe_tiems, db_speed_condition_times, Databases)"
   ]
  },
  {
   "cell_type": "code",
   "execution_count": null,
   "metadata": {},
   "outputs": [],
   "source": [
    "Databases = [\"TimescaleSB\", \"MariaDB\", \"InfluxDB\"]\n",
    "def stacked_graphs(Databases, db_speed_times, db_to_dataframe_tiems):\n",
    "    \n",
    "    df = pd.DataFrame()\n",
    "    asd = {}\n",
    "    sdf = {}\n",
    "    for db in range(len(Databases)):\n",
    "        asd.update(pd.DataFrame({Databases[db]:db_speed_times[db]}, index = [\"Query\"]))\n",
    "        sdf.update(pd.DataFrame({Databases[db]:db_to_dataframe_tiems[db]},  index = [\"Query + Dataframe\"]))\n",
    "\n",
    "    dd = pd.DataFrame(asd)\n",
    "    dd = dd.append(pd.DataFrame(sdf))\n",
    "    return dd.T.plot(kind=\"bar\", stacked = True, figsize=(7,5)).set_ylabel(\"Time\")\n",
    "stacked_graphs(Databases, db_speed_times, db_to_dataframe_tiems);"
   ]
  },
  {
   "cell_type": "code",
   "execution_count": null,
   "metadata": {},
   "outputs": [],
   "source": [
    "db_speed_times"
   ]
  },
  {
   "cell_type": "code",
   "execution_count": null,
   "metadata": {},
   "outputs": [],
   "source": [
    "speed_and_dataframe_times"
   ]
  },
  {
   "cell_type": "code",
   "execution_count": null,
   "metadata": {},
   "outputs": [],
   "source": [
    "db_speed_times"
   ]
  },
  {
   "cell_type": "code",
   "execution_count": null,
   "metadata": {},
   "outputs": [],
   "source": []
  }
 ],
 "metadata": {
  "kernelspec": {
   "display_name": "Python 3",
   "language": "python",
   "name": "python3"
  },
  "language_info": {
   "codemirror_mode": {
    "name": "ipython",
    "version": 3
   },
   "file_extension": ".py",
   "mimetype": "text/x-python",
   "name": "python",
   "nbconvert_exporter": "python",
   "pygments_lexer": "ipython3",
   "version": "3.8.5"
  }
 },
 "nbformat": 4,
 "nbformat_minor": 4
}
