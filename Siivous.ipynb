{
 "cells": [
  {
   "cell_type": "code",
   "execution_count": 1,
   "metadata": {},
   "outputs": [],
   "source": [
    "%reload_ext autoreload\n",
    "%autoreload 2\n",
    "\n",
    "import sys\n",
    "import pandas as pd\n",
    "sys.path.insert(0, './Moduulit')\n",
    "pd.options.mode.chained_assignment = None\n",
    "\n",
    "# Importtaus tässä muodossa\n",
    "from database_connection import database_query\n",
    "from outliers import find_outliers, draw_histogram\n",
    "from clean_dataframe import clean_dataframe\n",
    "from draw_node_amount import *\n",
    "from write_df_to_database import write_df_to_mariadb\n",
    "from xy_diskretisointi import xy_to_grid\n",
    "from isolation_forest import *\n",
    "from reittien_erottelu import *\n",
    "from sisään_uloskäynnit import *\n",
    "from nopeudet import *\n",
    "from LOF import *\n",
    "from clean_velocities import *\n",
    "from draw_route_grid import *"
   ]
  },
  {
   "cell_type": "markdown",
   "metadata": {},
   "source": [
    "### Read data from database\n",
    "###### "
   ]
  },
  {
   "cell_type": "code",
   "execution_count": null,
   "metadata": {},
   "outputs": [],
   "source": [
    "%%time\n",
    "df = database_query(\"SELECT * FROM SensorData LIMIT 100000000\")\n",
    "alussa = len(df)\n",
    "df"
   ]
  },
  {
   "cell_type": "markdown",
   "metadata": {},
   "source": [
    "### Find and delete outliers\n",
    "###### https://gitlab.dclabra.fi/ryhm-fox/projekti-2-team-fox/-/blob/master/Dokumentaatio/Datan%20Siivous/Z-score%20Outlierit.md\n"
   ]
  },
  {
   "cell_type": "code",
   "execution_count": null,
   "metadata": {},
   "outputs": [],
   "source": [
    "%%time\n",
    "df = find_outliers(df)\n",
    "outlierit = len(df)"
   ]
  },
  {
   "cell_type": "markdown",
   "metadata": {},
   "source": [
    "### Edit timestamps in right form, add hour and weekday columns, and remove useless columns\n",
    "###### https://gitlab.dclabra.fi/ryhm-fox/projekti-2-team-fox/-/blob/master/Dokumentaatio/Datan%20Siivous/clean_dataframe.md\n"
   ]
  },
  {
   "cell_type": "code",
   "execution_count": null,
   "metadata": {},
   "outputs": [],
   "source": [
    "%%time\n",
    "df = clean_dataframe(df)\n",
    "aukiolot = len(df)"
   ]
  },
  {
   "cell_type": "markdown",
   "metadata": {},
   "source": [
    "# LocalOutlierFactor"
   ]
  },
  {
   "cell_type": "code",
   "execution_count": null,
   "metadata": {},
   "outputs": [],
   "source": [
    "%%time\n",
    "df2, outlierit = LOF(df, 10, 10)\n",
    "# Draw the deleted and kept points\n",
    "draw_LOF(df2, outlierit)\n",
    "# Do some stuff to calculate the amount dropped.\n",
    "df3 = df[~df.isin(df2)].dropna()\n",
    "df1 = df3.copy()\n",
    "df_len_LOF = len(df1)"
   ]
  },
  {
   "cell_type": "code",
   "execution_count": 31,
   "metadata": {},
   "outputs": [
    {
     "data": {
      "text/html": [
       "<div>\n",
       "<style scoped>\n",
       "    .dataframe tbody tr th:only-of-type {\n",
       "        vertical-align: middle;\n",
       "    }\n",
       "\n",
       "    .dataframe tbody tr th {\n",
       "        vertical-align: top;\n",
       "    }\n",
       "\n",
       "    .dataframe thead th {\n",
       "        text-align: right;\n",
       "    }\n",
       "</style>\n",
       "<table border=\"1\" class=\"dataframe\">\n",
       "  <thead>\n",
       "    <tr style=\"text-align: right;\">\n",
       "      <th></th>\n",
       "      <th>node_id</th>\n",
       "      <th>timestamp</th>\n",
       "      <th>x</th>\n",
       "      <th>y</th>\n",
       "      <th>dayofweek</th>\n",
       "      <th>current_hour</th>\n",
       "    </tr>\n",
       "  </thead>\n",
       "  <tbody>\n",
       "    <tr>\n",
       "      <th>28</th>\n",
       "      <td>1</td>\n",
       "      <td>2020-06-24 15:20:56.088</td>\n",
       "      <td>3560.0</td>\n",
       "      <td>2009.0</td>\n",
       "      <td>2</td>\n",
       "      <td>8</td>\n",
       "    </tr>\n",
       "    <tr>\n",
       "      <th>29</th>\n",
       "      <td>1</td>\n",
       "      <td>2020-06-24 15:20:59.798</td>\n",
       "      <td>3559.0</td>\n",
       "      <td>2250.0</td>\n",
       "      <td>2</td>\n",
       "      <td>8</td>\n",
       "    </tr>\n",
       "    <tr>\n",
       "      <th>30</th>\n",
       "      <td>1</td>\n",
       "      <td>2020-06-24 15:21:11.232</td>\n",
       "      <td>3152.0</td>\n",
       "      <td>2963.0</td>\n",
       "      <td>2</td>\n",
       "      <td>8</td>\n",
       "    </tr>\n",
       "    <tr>\n",
       "      <th>31</th>\n",
       "      <td>1</td>\n",
       "      <td>2020-06-24 15:21:12.231</td>\n",
       "      <td>3013.0</td>\n",
       "      <td>2793.0</td>\n",
       "      <td>2</td>\n",
       "      <td>8</td>\n",
       "    </tr>\n",
       "    <tr>\n",
       "      <th>32</th>\n",
       "      <td>1</td>\n",
       "      <td>2020-06-24 15:21:13.512</td>\n",
       "      <td>2923.0</td>\n",
       "      <td>2740.0</td>\n",
       "      <td>2</td>\n",
       "      <td>8</td>\n",
       "    </tr>\n",
       "    <tr>\n",
       "      <th>...</th>\n",
       "      <td>...</td>\n",
       "      <td>...</td>\n",
       "      <td>...</td>\n",
       "      <td>...</td>\n",
       "      <td>...</td>\n",
       "      <td>...</td>\n",
       "    </tr>\n",
       "    <tr>\n",
       "      <th>9725298</th>\n",
       "      <td>31</td>\n",
       "      <td>2020-09-30 12:24:13.062</td>\n",
       "      <td>2711.0</td>\n",
       "      <td>-311.0</td>\n",
       "      <td>2</td>\n",
       "      <td>5</td>\n",
       "    </tr>\n",
       "    <tr>\n",
       "      <th>9725299</th>\n",
       "      <td>31</td>\n",
       "      <td>2020-09-30 12:24:50.062</td>\n",
       "      <td>2718.0</td>\n",
       "      <td>-318.0</td>\n",
       "      <td>2</td>\n",
       "      <td>5</td>\n",
       "    </tr>\n",
       "    <tr>\n",
       "      <th>9725300</th>\n",
       "      <td>31</td>\n",
       "      <td>2020-09-30 12:25:36.062</td>\n",
       "      <td>2721.0</td>\n",
       "      <td>-324.0</td>\n",
       "      <td>2</td>\n",
       "      <td>5</td>\n",
       "    </tr>\n",
       "    <tr>\n",
       "      <th>9725301</th>\n",
       "      <td>31</td>\n",
       "      <td>2020-09-30 12:26:03.062</td>\n",
       "      <td>2719.0</td>\n",
       "      <td>-323.0</td>\n",
       "      <td>2</td>\n",
       "      <td>5</td>\n",
       "    </tr>\n",
       "    <tr>\n",
       "      <th>9725302</th>\n",
       "      <td>31</td>\n",
       "      <td>2020-09-30 14:17:55.062</td>\n",
       "      <td>2719.0</td>\n",
       "      <td>-323.0</td>\n",
       "      <td>2</td>\n",
       "      <td>7</td>\n",
       "    </tr>\n",
       "  </tbody>\n",
       "</table>\n",
       "<p>9709786 rows × 6 columns</p>\n",
       "</div>"
      ],
      "text/plain": [
       "         node_id               timestamp       x       y  dayofweek  \\\n",
       "28             1 2020-06-24 15:20:56.088  3560.0  2009.0          2   \n",
       "29             1 2020-06-24 15:20:59.798  3559.0  2250.0          2   \n",
       "30             1 2020-06-24 15:21:11.232  3152.0  2963.0          2   \n",
       "31             1 2020-06-24 15:21:12.231  3013.0  2793.0          2   \n",
       "32             1 2020-06-24 15:21:13.512  2923.0  2740.0          2   \n",
       "...          ...                     ...     ...     ...        ...   \n",
       "9725298       31 2020-09-30 12:24:13.062  2711.0  -311.0          2   \n",
       "9725299       31 2020-09-30 12:24:50.062  2718.0  -318.0          2   \n",
       "9725300       31 2020-09-30 12:25:36.062  2721.0  -324.0          2   \n",
       "9725301       31 2020-09-30 12:26:03.062  2719.0  -323.0          2   \n",
       "9725302       31 2020-09-30 14:17:55.062  2719.0  -323.0          2   \n",
       "\n",
       "         current_hour  \n",
       "28                  8  \n",
       "29                  8  \n",
       "30                  8  \n",
       "31                  8  \n",
       "32                  8  \n",
       "...               ...  \n",
       "9725298             5  \n",
       "9725299             5  \n",
       "9725300             5  \n",
       "9725301             5  \n",
       "9725302             7  \n",
       "\n",
       "[9709786 rows x 6 columns]"
      ]
     },
     "execution_count": 31,
     "metadata": {},
     "output_type": "execute_result"
    }
   ],
   "source": [
    "df1 = df3.copy()\n",
    "df1"
   ]
  },
  {
   "cell_type": "markdown",
   "metadata": {},
   "source": [
    "### Calculate and dd distance column"
   ]
  },
  {
   "cell_type": "code",
   "execution_count": 5,
   "metadata": {},
   "outputs": [
    {
     "name": "stdout",
     "output_type": "stream",
     "text": [
      "CPU times: user 1.78 s, sys: 720 ms, total: 2.5 s\n",
      "Wall time: 2.5 s\n"
     ]
    }
   ],
   "source": [
    "%%time\n",
    "df = nopeudet(df)\n",
    "nopeus = len(df)"
   ]
  },
  {
   "cell_type": "code",
   "execution_count": null,
   "metadata": {},
   "outputs": [],
   "source": [
    "%%time\n",
    "df2 = velocity.clean_vel(df1, 'x', 'y')\n",
    "nopeus = len(df2)\n",
    "draw_vel(df1,df2, 'x', 'y')\n",
    "df2"
   ]
  },
  {
   "cell_type": "code",
   "execution_count": null,
   "metadata": {},
   "outputs": [],
   "source": [
    "df = df2"
   ]
  },
  {
   "cell_type": "markdown",
   "metadata": {},
   "source": [
    "### Set distance to match gridsize"
   ]
  },
  {
   "cell_type": "code",
   "execution_count": null,
   "metadata": {},
   "outputs": [],
   "source": [
    "%%time\n",
    "grid_size = 40\n",
    "x_cut = pd.cut(df['distance'], grid_size,labels=False)\n",
    "# Laitetaan saadut arvot dataframeen\n",
    "df['distance'] = x_cut.values"
   ]
  },
  {
   "cell_type": "markdown",
   "metadata": {},
   "source": [
    "### Discretize x- and y-coordinates, and get grid_id based on discretized coordinates.\n",
    "###### https://gitlab.dclabra.fi/ryhm-fox/projekti-2-team-fox/-/blob/master/Dokumentaatio/Grid/XY_Diskretisointi.md"
   ]
  },
  {
   "cell_type": "code",
   "execution_count": null,
   "metadata": {},
   "outputs": [],
   "source": [
    "df = xy_to_grid(df, df.x, df.y, grid_size)\n",
    "df"
   ]
  },
  {
   "cell_type": "markdown",
   "metadata": {},
   "source": [
    "### Get entry- and cashier area coordinates. Get grid_ids based on those coordinates.\n",
    "###### https://gitlab.dclabra.fi/ryhm-fox/projekti-2-team-fox/-/blob/master/Dokumentaatio/Data-analyysi/Sis%C3%A4%C3%A4n_ja_ulosk%C3%A4ynnit.md"
   ]
  },
  {
   "cell_type": "code",
   "execution_count": null,
   "metadata": {},
   "outputs": [],
   "source": [
    "in_x, in_y = sisään(df, 'x_grid', 'y_grid')\n",
    "out_x, out_y = ulos(df, 'x_grid', 'y_grid')\n",
    "\n",
    "draw_exits(df, in_x, in_y, out_x, out_y, \"x_grid\", \"y_grid\")\n",
    "\n",
    "# Muokataan sisäänkäynnin ja kassojen sijainnit ID-muotoon.\n",
    "in_ID = xy_to_ID(in_x,in_y, grid_size)\n",
    "out_ID = xy_to_ID(out_x,out_y, grid_size)\n",
    "\n",
    "# Haetaan uniikit id:t\n",
    "u_in_ID = in_ID.unique()\n",
    "u_out_ID = out_ID.unique()\n",
    "\n",
    "\n",
    "# # Voidaan tarkistaa sijaintien oikeellisuus\n",
    "# sns.scatterplot(x=\"x_grid\", y=\"y_grid\", data = df)\n",
    "# sns.scatterplot(x=in_x, y=in_y)\n",
    "# sns.scatterplot(x=out_x, y=out_y)\n",
    "# hmax= sns.kdeplot(df.x_grid, df.y_grid, cmap=\"afmhot\", shade=True, alpha = 0.7)\n",
    "# hmax.collections[3].set_alpha(0)\n",
    "# plt.show()"
   ]
  },
  {
   "cell_type": "markdown",
   "metadata": {},
   "source": [
    "### Separate shopping routes from each other\n",
    "###### https://gitlab.dclabra.fi/ryhm-fox/projekti-2-team-fox/-/blob/master/Dokumentaatio/Reitit/Reittien_erottelu.md"
   ]
  },
  {
   "cell_type": "code",
   "execution_count": null,
   "metadata": {},
   "outputs": [],
   "source": [
    "reitit = erottele_reitit(df, u_in_ID, u_out_ID)\n",
    "reitit = poista_lyhyet_reitit(reitit, grid_size)\n",
    "df2 = reitit_dataframeksi(reitit)\n",
    "erottelu=len(df2)"
   ]
  },
  {
   "cell_type": "markdown",
   "metadata": {},
   "source": [
    "### Draw routes"
   ]
  },
  {
   "cell_type": "code",
   "execution_count": null,
   "metadata": {},
   "outputs": [],
   "source": [
    "draw_route_grid(df2, 'ajokerta')"
   ]
  },
  {
   "cell_type": "markdown",
   "metadata": {},
   "source": [
    "### Remove datapoints from cashier- and entry area. Remove those shopping trips, which were shopping longer than 2 hours. "
   ]
  },
  {
   "cell_type": "code",
   "execution_count": null,
   "metadata": {},
   "outputs": [],
   "source": [
    "# poistetaan kassa- ja sisääntuloalueella olevat datapisteet\n",
    "df = df[~df[\"grid_id\"].isin(u_in_ID)]\n",
    "df = df[~df[\"grid_id\"].isin(u_out_ID)]\n",
    "\n",
    "alueet = len(df)\n",
    "\n",
    "# poistetaan reitit, joiden kesto ei ole järkevä\n",
    "df[\"kesto\"] = df[\"kesto\"].dt.total_seconds()\n",
    "df = df[df[\"kesto\"] < 7200]\n",
    "df = df[df[\"kesto\"] > 0]\n",
    "\n",
    "kestot = len(df)\n",
    "\n",
    "pd.DataFrame.from_dict([{\"Alussa\":alussa, \"Z-Score\":outlierit, \"Aukioloajat\":aukiolot,\"Nopeus\":nopeus, \"Reittien erottelu\":erottelu, \"Kauppa-alue\":alueet, \"Väärät kestot\":kestot}]).T.plot.bar(figsize=(12,8), rot=360, ylabel=\"milj.\", title=\"Datan määrä eri operaatioiden jälkeen.\")\n",
    "df"
   ]
  },
  {
   "cell_type": "code",
   "execution_count": 11,
   "metadata": {},
   "outputs": [
    {
     "data": {
      "text/html": [
       "<div>\n",
       "<style scoped>\n",
       "    .dataframe tbody tr th:only-of-type {\n",
       "        vertical-align: middle;\n",
       "    }\n",
       "\n",
       "    .dataframe tbody tr th {\n",
       "        vertical-align: top;\n",
       "    }\n",
       "\n",
       "    .dataframe thead th {\n",
       "        text-align: right;\n",
       "    }\n",
       "</style>\n",
       "<table border=\"1\" class=\"dataframe\">\n",
       "  <thead>\n",
       "    <tr style=\"text-align: right;\">\n",
       "      <th></th>\n",
       "      <th>ajokerta</th>\n",
       "      <th>node_id</th>\n",
       "      <th>timestamp</th>\n",
       "      <th>x</th>\n",
       "      <th>y</th>\n",
       "      <th>grid_id</th>\n",
       "      <th>distance</th>\n",
       "      <th>kesto</th>\n",
       "      <th>dayofweek</th>\n",
       "      <th>current_hour</th>\n",
       "    </tr>\n",
       "  </thead>\n",
       "  <tbody>\n",
       "    <tr>\n",
       "      <th>9</th>\n",
       "      <td>2</td>\n",
       "      <td>1</td>\n",
       "      <td>2020-06-25 15:21:46.646</td>\n",
       "      <td>28</td>\n",
       "      <td>15</td>\n",
       "      <td>628</td>\n",
       "      <td>0</td>\n",
       "      <td>6812.007</td>\n",
       "      <td>3</td>\n",
       "      <td>8</td>\n",
       "    </tr>\n",
       "    <tr>\n",
       "      <th>10</th>\n",
       "      <td>2</td>\n",
       "      <td>1</td>\n",
       "      <td>2020-06-25 15:21:47.645</td>\n",
       "      <td>28</td>\n",
       "      <td>15</td>\n",
       "      <td>628</td>\n",
       "      <td>0</td>\n",
       "      <td>6812.007</td>\n",
       "      <td>3</td>\n",
       "      <td>8</td>\n",
       "    </tr>\n",
       "    <tr>\n",
       "      <th>11</th>\n",
       "      <td>2</td>\n",
       "      <td>1</td>\n",
       "      <td>2020-06-25 15:21:47.645</td>\n",
       "      <td>28</td>\n",
       "      <td>15</td>\n",
       "      <td>628</td>\n",
       "      <td>0</td>\n",
       "      <td>6812.007</td>\n",
       "      <td>3</td>\n",
       "      <td>8</td>\n",
       "    </tr>\n",
       "    <tr>\n",
       "      <th>12</th>\n",
       "      <td>2</td>\n",
       "      <td>1</td>\n",
       "      <td>2020-06-25 15:21:47.647</td>\n",
       "      <td>28</td>\n",
       "      <td>15</td>\n",
       "      <td>628</td>\n",
       "      <td>0</td>\n",
       "      <td>6812.007</td>\n",
       "      <td>3</td>\n",
       "      <td>8</td>\n",
       "    </tr>\n",
       "    <tr>\n",
       "      <th>13</th>\n",
       "      <td>2</td>\n",
       "      <td>1</td>\n",
       "      <td>2020-06-25 15:21:50.645</td>\n",
       "      <td>26</td>\n",
       "      <td>15</td>\n",
       "      <td>626</td>\n",
       "      <td>1</td>\n",
       "      <td>6812.007</td>\n",
       "      <td>3</td>\n",
       "      <td>8</td>\n",
       "    </tr>\n",
       "    <tr>\n",
       "      <th>...</th>\n",
       "      <td>...</td>\n",
       "      <td>...</td>\n",
       "      <td>...</td>\n",
       "      <td>...</td>\n",
       "      <td>...</td>\n",
       "      <td>...</td>\n",
       "      <td>...</td>\n",
       "      <td>...</td>\n",
       "      <td>...</td>\n",
       "      <td>...</td>\n",
       "    </tr>\n",
       "    <tr>\n",
       "      <th>72</th>\n",
       "      <td>9442</td>\n",
       "      <td>31</td>\n",
       "      <td>2020-09-22 14:41:04.037</td>\n",
       "      <td>19</td>\n",
       "      <td>16</td>\n",
       "      <td>659</td>\n",
       "      <td>0</td>\n",
       "      <td>97.531</td>\n",
       "      <td>1</td>\n",
       "      <td>7</td>\n",
       "    </tr>\n",
       "    <tr>\n",
       "      <th>73</th>\n",
       "      <td>9442</td>\n",
       "      <td>31</td>\n",
       "      <td>2020-09-22 14:41:05.038</td>\n",
       "      <td>19</td>\n",
       "      <td>16</td>\n",
       "      <td>659</td>\n",
       "      <td>0</td>\n",
       "      <td>97.531</td>\n",
       "      <td>1</td>\n",
       "      <td>7</td>\n",
       "    </tr>\n",
       "    <tr>\n",
       "      <th>75</th>\n",
       "      <td>9442</td>\n",
       "      <td>31</td>\n",
       "      <td>2020-09-22 14:41:06.037</td>\n",
       "      <td>18</td>\n",
       "      <td>16</td>\n",
       "      <td>658</td>\n",
       "      <td>0</td>\n",
       "      <td>97.531</td>\n",
       "      <td>1</td>\n",
       "      <td>7</td>\n",
       "    </tr>\n",
       "    <tr>\n",
       "      <th>84</th>\n",
       "      <td>9442</td>\n",
       "      <td>31</td>\n",
       "      <td>2020-09-22 14:41:11.570</td>\n",
       "      <td>1</td>\n",
       "      <td>28</td>\n",
       "      <td>1121</td>\n",
       "      <td>21</td>\n",
       "      <td>97.531</td>\n",
       "      <td>1</td>\n",
       "      <td>7</td>\n",
       "    </tr>\n",
       "    <tr>\n",
       "      <th>85</th>\n",
       "      <td>9442</td>\n",
       "      <td>31</td>\n",
       "      <td>2020-09-22 14:41:11.570</td>\n",
       "      <td>0</td>\n",
       "      <td>25</td>\n",
       "      <td>1000</td>\n",
       "      <td>3</td>\n",
       "      <td>97.531</td>\n",
       "      <td>1</td>\n",
       "      <td>7</td>\n",
       "    </tr>\n",
       "  </tbody>\n",
       "</table>\n",
       "<p>2799091 rows × 10 columns</p>\n",
       "</div>"
      ],
      "text/plain": [
       "    ajokerta  node_id               timestamp   x   y  grid_id  distance  \\\n",
       "9          2        1 2020-06-25 15:21:46.646  28  15      628         0   \n",
       "10         2        1 2020-06-25 15:21:47.645  28  15      628         0   \n",
       "11         2        1 2020-06-25 15:21:47.645  28  15      628         0   \n",
       "12         2        1 2020-06-25 15:21:47.647  28  15      628         0   \n",
       "13         2        1 2020-06-25 15:21:50.645  26  15      626         1   \n",
       "..       ...      ...                     ...  ..  ..      ...       ...   \n",
       "72      9442       31 2020-09-22 14:41:04.037  19  16      659         0   \n",
       "73      9442       31 2020-09-22 14:41:05.038  19  16      659         0   \n",
       "75      9442       31 2020-09-22 14:41:06.037  18  16      658         0   \n",
       "84      9442       31 2020-09-22 14:41:11.570   1  28     1121        21   \n",
       "85      9442       31 2020-09-22 14:41:11.570   0  25     1000         3   \n",
       "\n",
       "       kesto  dayofweek  current_hour  \n",
       "9   6812.007          3             8  \n",
       "10  6812.007          3             8  \n",
       "11  6812.007          3             8  \n",
       "12  6812.007          3             8  \n",
       "13  6812.007          3             8  \n",
       "..       ...        ...           ...  \n",
       "72    97.531          1             7  \n",
       "73    97.531          1             7  \n",
       "75    97.531          1             7  \n",
       "84    97.531          1             7  \n",
       "85    97.531          1             7  \n",
       "\n",
       "[2799091 rows x 10 columns]"
      ]
     },
     "execution_count": 11,
     "metadata": {},
     "output_type": "execute_result"
    }
   ],
   "source": [
    "df"
   ]
  },
  {
   "cell_type": "markdown",
   "metadata": {},
   "source": [
    "### Save cleaned shopping trips to database\n",
    "###### https://gitlab.dclabra.fi/ryhm-fox/projekti-2-team-fox/-/blob/master/Dokumentaatio/write_df_to_dataframe.md"
   ]
  },
  {
   "cell_type": "code",
   "execution_count": null,
   "metadata": {},
   "outputs": [],
   "source": [
    "for i in df.ajokerta.unique():\n",
    "    print(df[df[\"ajokerta\"] == i].distance.sum()/ df[df[\"ajokerta\"] == i].kesto.mean())\n",
    "# df\n",
    "df.ajokerta.unique()"
   ]
  },
  {
   "cell_type": "code",
   "execution_count": 12,
   "metadata": {},
   "outputs": [
    {
     "name": "stdout",
     "output_type": "stream",
     "text": [
      "Existing table found. Prepairing to Drop Table named REITIT...\n"
     ]
    },
    {
     "name": "stdin",
     "output_type": "stream",
     "text": [
      "Continue? yes/no:  yes\n"
     ]
    },
    {
     "name": "stdout",
     "output_type": "stream",
     "text": [
      "Done! Prepairing to write dataframe to REITIT\n",
      "Writing data 1 / 14\n",
      "Writing data 2 / 14\n",
      "Writing data 3 / 14\n",
      "Writing data 4 / 14\n",
      "Writing data 5 / 14\n",
      "Writing data 6 / 14\n",
      "Writing data 7 / 14\n",
      "Writing data 8 / 14\n",
      "Writing data 9 / 14\n",
      "Writing data 10 / 14\n",
      "Writing data 11 / 14\n",
      "Writing data 12 / 14\n",
      "Writing data 13 / 14\n",
      "Writing data 14 / 14\n",
      "Done!\n"
     ]
    }
   ],
   "source": [
    "write_df_to_mariadb(df, \"REITIT\")"
   ]
  },
  {
   "cell_type": "code",
   "execution_count": null,
   "metadata": {},
   "outputs": [],
   "source": []
  }
 ],
 "metadata": {
  "kernelspec": {
   "display_name": "Python 3",
   "language": "python",
   "name": "python3"
  },
  "language_info": {
   "codemirror_mode": {
    "name": "ipython",
    "version": 3
   },
   "file_extension": ".py",
   "mimetype": "text/x-python",
   "name": "python",
   "nbconvert_exporter": "python",
   "pygments_lexer": "ipython3",
   "version": "3.7.6"
  }
 },
 "nbformat": 4,
 "nbformat_minor": 4
}
