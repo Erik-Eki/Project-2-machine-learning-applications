{
 "cells": [
  {
   "cell_type": "markdown",
   "metadata": {},
   "source": [
    "# Outlierit\n",
    "\n",
    "Lukee väliaikaisesti kansiosta datan, yhdistää .csv tiedostot yhteen pandasin dataframeen"
   ]
  },
  {
   "cell_type": "markdown",
   "metadata": {},
   "source": [
    "Tarkistetaan onko outouksia\n",
    "\n",
    "## Datasetin nimi pitää muuttaa nimeltään \"df\""
   ]
  },
  {
   "cell_type": "code",
   "execution_count": 2,
   "metadata": {},
   "outputs": [
    {
     "name": "stdout",
     "output_type": "stream",
     "text": [
      "node_id      0\n",
      "timestamp    0\n",
      "x            0\n",
      "y            0\n",
      "z            0\n",
      "q            0\n",
      "dtype: int64\n"
     ]
    }
   ],
   "source": [
    "missing_count = df.isnull().sum()\n",
    "print(missing_count)"
   ]
  },
  {
   "cell_type": "code",
   "execution_count": 3,
   "metadata": {},
   "outputs": [
    {
     "name": "stdout",
     "output_type": "stream",
     "text": [
      "uniques in x 10527\n",
      "uniques in y 7879\n",
      "uniques in z 3\n",
      "uniques in q 1\n"
     ]
    }
   ],
   "source": [
    "print(\"uniques in x\",len(df['x'].unique()))\n",
    "print(\"uniques in y\",len(df['y'].unique()))\n",
    "print(\"uniques in z\",len(df['z'].unique()))\n",
    "print(\"uniques in q\",len(df['q'].unique()))"
   ]
  },
  {
   "cell_type": "code",
   "execution_count": 4,
   "metadata": {},
   "outputs": [
    {
     "name": "stdout",
     "output_type": "stream",
     "text": [
      "uniques in z [100 400   0]\n",
      "uniques in q [0]\n"
     ]
    }
   ],
   "source": [
    "print(\"uniques in z\",df['z'].unique())\n",
    "print(\"uniques in q\",df['q'].unique())"
   ]
  },
  {
   "cell_type": "markdown",
   "metadata": {},
   "source": [
    "- q eli signaalin laatu ei vaihtele yhtään.\n",
    "- z eli z-akseli (ylös päin), muuttuu nollasta sataan ja neljäänsataan"
   ]
  },
  {
   "cell_type": "code",
   "execution_count": null,
   "metadata": {
    "jupyter": {
     "source_hidden": true
    }
   },
   "outputs": [],
   "source": [
    "from scipy.stats import zscore\n",
    "import numpy as np\n",
    "z = np.abs(zscore(df))\n",
    "print(z)"
   ]
  },
  {
   "cell_type": "markdown",
   "metadata": {},
   "source": [
    "### Otetaan käyttöön vain ensimmäinen node"
   ]
  },
  {
   "cell_type": "code",
   "execution_count": 5,
   "metadata": {},
   "outputs": [
    {
     "name": "stdout",
     "output_type": "stream",
     "text": [
      "Number of nodes: 31\n",
      "First node: -2393099149039893844\n"
     ]
    },
    {
     "data": {
      "text/html": [
       "<div>\n",
       "<style scoped>\n",
       "    .dataframe tbody tr th:only-of-type {\n",
       "        vertical-align: middle;\n",
       "    }\n",
       "\n",
       "    .dataframe tbody tr th {\n",
       "        vertical-align: top;\n",
       "    }\n",
       "\n",
       "    .dataframe thead th {\n",
       "        text-align: right;\n",
       "    }\n",
       "</style>\n",
       "<table border=\"1\" class=\"dataframe\">\n",
       "  <thead>\n",
       "    <tr style=\"text-align: right;\">\n",
       "      <th></th>\n",
       "      <th>node_id</th>\n",
       "      <th>timestamp</th>\n",
       "      <th>x</th>\n",
       "      <th>y</th>\n",
       "      <th>z</th>\n",
       "      <th>q</th>\n",
       "    </tr>\n",
       "  </thead>\n",
       "  <tbody>\n",
       "    <tr>\n",
       "      <th>0</th>\n",
       "      <td>-2393099149039893844</td>\n",
       "      <td>2020-06-24 12:20:09.111215+00:00</td>\n",
       "      <td>2827</td>\n",
       "      <td>-230</td>\n",
       "      <td>100</td>\n",
       "      <td>0</td>\n",
       "    </tr>\n",
       "    <tr>\n",
       "      <th>1</th>\n",
       "      <td>-2393099149039893844</td>\n",
       "      <td>2020-06-24 12:20:09.622861+00:00</td>\n",
       "      <td>2918</td>\n",
       "      <td>-201</td>\n",
       "      <td>100</td>\n",
       "      <td>0</td>\n",
       "    </tr>\n",
       "    <tr>\n",
       "      <th>2</th>\n",
       "      <td>-2393099149039893844</td>\n",
       "      <td>2020-06-24 12:20:09.962124+00:00</td>\n",
       "      <td>2910</td>\n",
       "      <td>-222</td>\n",
       "      <td>100</td>\n",
       "      <td>0</td>\n",
       "    </tr>\n",
       "    <tr>\n",
       "      <th>3</th>\n",
       "      <td>-2393099149039893844</td>\n",
       "      <td>2020-06-24 12:20:10.870449+00:00</td>\n",
       "      <td>2925</td>\n",
       "      <td>-102</td>\n",
       "      <td>100</td>\n",
       "      <td>0</td>\n",
       "    </tr>\n",
       "    <tr>\n",
       "      <th>4</th>\n",
       "      <td>-2393099149039893844</td>\n",
       "      <td>2020-06-24 12:20:11.234591+00:00</td>\n",
       "      <td>2912</td>\n",
       "      <td>-93</td>\n",
       "      <td>100</td>\n",
       "      <td>0</td>\n",
       "    </tr>\n",
       "    <tr>\n",
       "      <th>...</th>\n",
       "      <td>...</td>\n",
       "      <td>...</td>\n",
       "      <td>...</td>\n",
       "      <td>...</td>\n",
       "      <td>...</td>\n",
       "      <td>...</td>\n",
       "    </tr>\n",
       "    <tr>\n",
       "      <th>257194</th>\n",
       "      <td>-2393099149039893844</td>\n",
       "      <td>2020-08-14 06:32:14.425895+00:00</td>\n",
       "      <td>1654</td>\n",
       "      <td>-20</td>\n",
       "      <td>100</td>\n",
       "      <td>0</td>\n",
       "    </tr>\n",
       "    <tr>\n",
       "      <th>257195</th>\n",
       "      <td>-2393099149039893844</td>\n",
       "      <td>2020-08-14 06:38:19.425952+00:00</td>\n",
       "      <td>1638</td>\n",
       "      <td>-22</td>\n",
       "      <td>100</td>\n",
       "      <td>0</td>\n",
       "    </tr>\n",
       "    <tr>\n",
       "      <th>257196</th>\n",
       "      <td>-2393099149039893844</td>\n",
       "      <td>2020-08-14 06:43:59.425925+00:00</td>\n",
       "      <td>1651</td>\n",
       "      <td>-19</td>\n",
       "      <td>100</td>\n",
       "      <td>0</td>\n",
       "    </tr>\n",
       "    <tr>\n",
       "      <th>257197</th>\n",
       "      <td>-2393099149039893844</td>\n",
       "      <td>2020-08-14 06:44:07.426025+00:00</td>\n",
       "      <td>1658</td>\n",
       "      <td>-13</td>\n",
       "      <td>100</td>\n",
       "      <td>0</td>\n",
       "    </tr>\n",
       "    <tr>\n",
       "      <th>257198</th>\n",
       "      <td>-2393099149039893844</td>\n",
       "      <td>2020-08-14 07:11:00.426188+00:00</td>\n",
       "      <td>1668</td>\n",
       "      <td>-7</td>\n",
       "      <td>100</td>\n",
       "      <td>0</td>\n",
       "    </tr>\n",
       "  </tbody>\n",
       "</table>\n",
       "<p>257199 rows × 6 columns</p>\n",
       "</div>"
      ],
      "text/plain": [
       "                    node_id                         timestamp     x    y    z  \\\n",
       "0      -2393099149039893844  2020-06-24 12:20:09.111215+00:00  2827 -230  100   \n",
       "1      -2393099149039893844  2020-06-24 12:20:09.622861+00:00  2918 -201  100   \n",
       "2      -2393099149039893844  2020-06-24 12:20:09.962124+00:00  2910 -222  100   \n",
       "3      -2393099149039893844  2020-06-24 12:20:10.870449+00:00  2925 -102  100   \n",
       "4      -2393099149039893844  2020-06-24 12:20:11.234591+00:00  2912  -93  100   \n",
       "...                     ...                               ...   ...  ...  ...   \n",
       "257194 -2393099149039893844  2020-08-14 06:32:14.425895+00:00  1654  -20  100   \n",
       "257195 -2393099149039893844  2020-08-14 06:38:19.425952+00:00  1638  -22  100   \n",
       "257196 -2393099149039893844  2020-08-14 06:43:59.425925+00:00  1651  -19  100   \n",
       "257197 -2393099149039893844  2020-08-14 06:44:07.426025+00:00  1658  -13  100   \n",
       "257198 -2393099149039893844  2020-08-14 07:11:00.426188+00:00  1668   -7  100   \n",
       "\n",
       "        q  \n",
       "0       0  \n",
       "1       0  \n",
       "2       0  \n",
       "3       0  \n",
       "4       0  \n",
       "...    ..  \n",
       "257194  0  \n",
       "257195  0  \n",
       "257196  0  \n",
       "257197  0  \n",
       "257198  0  \n",
       "\n",
       "[257199 rows x 6 columns]"
      ]
     },
     "execution_count": 5,
     "metadata": {},
     "output_type": "execute_result"
    }
   ],
   "source": [
    "print(\"Number of nodes: %s\" % len(df[\"node_id\"].unique()))\n",
    "\n",
    "print(\"First node: %s\" % df[\"node_id\"].unique()[0])\n",
    "node = df[\"node_id\"].unique()[0]\n",
    "\n",
    "df1 = df[df[\"node_id\"] == node]\n",
    "df1"
   ]
  },
  {
   "cell_type": "code",
   "execution_count": 6,
   "metadata": {},
   "outputs": [
    {
     "name": "stdout",
     "output_type": "stream",
     "text": [
      "x 4166\n",
      "y 4325\n",
      "z 1\n",
      "q 1\n"
     ]
    }
   ],
   "source": [
    "print(\"x\",len(df1[\"x\"].unique()))\n",
    "print(\"y\",len(df1[\"y\"].unique()))\n",
    "print(\"z\",len(df1[\"z\"].unique()))\n",
    "print(\"q\",len(df1[\"q\"].unique()))"
   ]
  },
  {
   "cell_type": "code",
   "execution_count": 7,
   "metadata": {},
   "outputs": [
    {
     "name": "stdout",
     "output_type": "stream",
     "text": [
      "x [1.00687384 1.11231156 1.10304231 ... 0.35570598 0.34759539 0.33600883]\n",
      "y [0.76496222 0.73668411 0.75716136 ... 0.55921463 0.55336399 0.54751334]\n"
     ]
    }
   ],
   "source": [
    "from scipy.stats import zscore\n",
    "import numpy as np\n",
    "print(\"x\",np.abs(zscore(df1['x'])))\n",
    "print(\"y\",np.abs(zscore(df1['y'])))"
   ]
  },
  {
   "cell_type": "code",
   "execution_count": 8,
   "metadata": {},
   "outputs": [
    {
     "data": {
      "text/html": [
       "<div>\n",
       "<style scoped>\n",
       "    .dataframe tbody tr th:only-of-type {\n",
       "        vertical-align: middle;\n",
       "    }\n",
       "\n",
       "    .dataframe tbody tr th {\n",
       "        vertical-align: top;\n",
       "    }\n",
       "\n",
       "    .dataframe thead th {\n",
       "        text-align: right;\n",
       "    }\n",
       "</style>\n",
       "<table border=\"1\" class=\"dataframe\">\n",
       "  <thead>\n",
       "    <tr style=\"text-align: right;\">\n",
       "      <th></th>\n",
       "      <th>x</th>\n",
       "      <th>y</th>\n",
       "    </tr>\n",
       "  </thead>\n",
       "  <tbody>\n",
       "    <tr>\n",
       "      <th>0</th>\n",
       "      <td>2827</td>\n",
       "      <td>-230</td>\n",
       "    </tr>\n",
       "    <tr>\n",
       "      <th>1</th>\n",
       "      <td>2918</td>\n",
       "      <td>-201</td>\n",
       "    </tr>\n",
       "    <tr>\n",
       "      <th>2</th>\n",
       "      <td>2910</td>\n",
       "      <td>-222</td>\n",
       "    </tr>\n",
       "    <tr>\n",
       "      <th>3</th>\n",
       "      <td>2925</td>\n",
       "      <td>-102</td>\n",
       "    </tr>\n",
       "    <tr>\n",
       "      <th>4</th>\n",
       "      <td>2912</td>\n",
       "      <td>-93</td>\n",
       "    </tr>\n",
       "  </tbody>\n",
       "</table>\n",
       "</div>"
      ],
      "text/plain": [
       "      x    y\n",
       "0  2827 -230\n",
       "1  2918 -201\n",
       "2  2910 -222\n",
       "3  2925 -102\n",
       "4  2912  -93"
      ]
     },
     "execution_count": 8,
     "metadata": {},
     "output_type": "execute_result"
    }
   ],
   "source": [
    "df2 = df1[[\"x\",\"y\"]]\n",
    "df2.head()"
   ]
  },
  {
   "cell_type": "markdown",
   "metadata": {},
   "source": [
    "### Poista kaikki rivit, joilla on poikkeavuuksia vähintään yhdessä sarakkeessa\n",
    "\n",
    "- Jokaiselle sarakkeelle se laskee ensin sarakkeen jokaisen arvon Z-pistemäärän suhteessa sarakkeen keskiarvoon ja keskihajontaan.\n",
    "- Sitten on Z-pisteiden absoluuttinen arvo, koska suunta ei ole väliä, vain jos se on kynnyksen alapuolella.\n",
    "- kaikki (akseli = 1) varmistaa, että jokainen rivi, kaikki sarakkeet täyttävät rajoituksen.\n",
    "- Lopuksi tämän ehdon tulosta käytetään datakehyksen indeksointiin."
   ]
  },
  {
   "cell_type": "code",
   "execution_count": 9,
   "metadata": {},
   "outputs": [
    {
     "name": "stdout",
     "output_type": "stream",
     "text": [
      "Data with outliers:  257199\n",
      "Ouliers removed:     255914\n",
      "Amount of outliers:  1285\n"
     ]
    },
    {
     "data": {
      "text/html": [
       "<div>\n",
       "<style scoped>\n",
       "    .dataframe tbody tr th:only-of-type {\n",
       "        vertical-align: middle;\n",
       "    }\n",
       "\n",
       "    .dataframe tbody tr th {\n",
       "        vertical-align: top;\n",
       "    }\n",
       "\n",
       "    .dataframe thead th {\n",
       "        text-align: right;\n",
       "    }\n",
       "</style>\n",
       "<table border=\"1\" class=\"dataframe\">\n",
       "  <thead>\n",
       "    <tr style=\"text-align: right;\">\n",
       "      <th></th>\n",
       "      <th>x</th>\n",
       "      <th>y</th>\n",
       "    </tr>\n",
       "  </thead>\n",
       "  <tbody>\n",
       "    <tr>\n",
       "      <th>41</th>\n",
       "      <td>3178</td>\n",
       "      <td>3132</td>\n",
       "    </tr>\n",
       "    <tr>\n",
       "      <th>287</th>\n",
       "      <td>-332</td>\n",
       "      <td>40</td>\n",
       "    </tr>\n",
       "    <tr>\n",
       "      <th>1383</th>\n",
       "      <td>3010</td>\n",
       "      <td>3458</td>\n",
       "    </tr>\n",
       "    <tr>\n",
       "      <th>1384</th>\n",
       "      <td>2979</td>\n",
       "      <td>3207</td>\n",
       "    </tr>\n",
       "    <tr>\n",
       "      <th>1387</th>\n",
       "      <td>2783</td>\n",
       "      <td>3383</td>\n",
       "    </tr>\n",
       "    <tr>\n",
       "      <th>...</th>\n",
       "      <td>...</td>\n",
       "      <td>...</td>\n",
       "    </tr>\n",
       "    <tr>\n",
       "      <th>253090</th>\n",
       "      <td>283</td>\n",
       "      <td>3124</td>\n",
       "    </tr>\n",
       "    <tr>\n",
       "      <th>256139</th>\n",
       "      <td>-231</td>\n",
       "      <td>2475</td>\n",
       "    </tr>\n",
       "    <tr>\n",
       "      <th>256140</th>\n",
       "      <td>-290</td>\n",
       "      <td>2468</td>\n",
       "    </tr>\n",
       "    <tr>\n",
       "      <th>256141</th>\n",
       "      <td>-257</td>\n",
       "      <td>2418</td>\n",
       "    </tr>\n",
       "    <tr>\n",
       "      <th>256142</th>\n",
       "      <td>-206</td>\n",
       "      <td>2383</td>\n",
       "    </tr>\n",
       "  </tbody>\n",
       "</table>\n",
       "<p>1285 rows × 2 columns</p>\n",
       "</div>"
      ],
      "text/plain": [
       "           x     y\n",
       "41      3178  3132\n",
       "287     -332    40\n",
       "1383    3010  3458\n",
       "1384    2979  3207\n",
       "1387    2783  3383\n",
       "...      ...   ...\n",
       "253090   283  3124\n",
       "256139  -231  2475\n",
       "256140  -290  2468\n",
       "256141  -257  2418\n",
       "256142  -206  2383\n",
       "\n",
       "[1285 rows x 2 columns]"
      ]
     },
     "execution_count": 9,
     "metadata": {},
     "output_type": "execute_result"
    }
   ],
   "source": [
    "from scipy.stats import zscore\n",
    "import numpy as np\n",
    "#np.abs(zscore(df1['x']))\n",
    "df_clean = df2[(np.abs(zscore(df2)) <= 2.5).all(axis=1)]\n",
    "#Pidä vain ne rivit, jotka ovat +3 - -3 keskihajonnan sisällä.\n",
    "\n",
    "# pd.concat lisää kaksi DataFrame-kehystä yhteen liittämällä ne peräkkäin.\n",
    "# jos on päällekkäisyyksiä, se kaapataan drop_duplicates:illa\n",
    "# drop_duplicates oletusarvoisesti jättää ensimmäisen havainnon ja poistaa kaikki muut havainnot.\n",
    "# Tässä tapauksessa haluamme, että jokainen kaksoiskappale poistetaan. Siksi keep = False -parametri\n",
    "potato = pd.concat([df2, df_clean, df_clean]).drop_duplicates(keep=False)\n",
    "\n",
    "print(\"Data with outliers: \", len(df2))\n",
    "print(\"Ouliers removed:    \", len(df2) - len(potato))\n",
    "print(\"Amount of outliers: \",  len(potato))\n",
    "potato"
   ]
  },
  {
   "cell_type": "markdown",
   "metadata": {},
   "source": [
    "Huom. toistuvaan df2:een. Vain yhden df2: n avulla mitä tahansa riviä df2: ssa, joka ei ole df1, ei pidetä kaksoiskappaleena ja se säilyy. Tämä ratkaisu, jossa on vain yksi df2, toimii vain, kun df2 on df1: n osajoukko. Jos kuitenkin liitämme df2: n kahdesti, se on taattu kopio ja se poistetaan myöhemmin."
   ]
  },
  {
   "cell_type": "markdown",
   "metadata": {},
   "source": [
    "#### Toinen ratkaisu"
   ]
  },
  {
   "cell_type": "code",
   "execution_count": 10,
   "metadata": {},
   "outputs": [],
   "source": [
    "df_clean = df2[np.abs(df2-df2.mean()) <= (2*df2.std())]\n",
    "#Pidä vain ne rivit, jotka ovat +3 - -3 keskihajonnan sisällä.\n",
    "\n",
    "# Sama, mutta toisinpäin\n",
    "#df2[~(np.abs(df2-df2.mean()) > (3*df2.std()))]"
   ]
  },
  {
   "cell_type": "markdown",
   "metadata": {},
   "source": [
    "## Plottaus"
   ]
  },
  {
   "cell_type": "code",
   "execution_count": 11,
   "metadata": {},
   "outputs": [
    {
     "data": {
      "text/plain": [
       "<function matplotlib.pyplot.show(close=None, block=None)>"
      ]
     },
     "execution_count": 11,
     "metadata": {},
     "output_type": "execute_result"
    },
    {
     "data": {
      "image/png": "[encoded data removed]",
      "text/plain": [
       "<Figure size 432x288 with 1 Axes>"
      ]
     },
     "metadata": {
      "needs_background": "light"
     },
     "output_type": "display_data"
    }
   ],
   "source": [
    "import matplotlib.pyplot as plt\n",
    "\n",
    "plt.plot(df_clean[\"x\"], df_clean[\"y\"], color=\"red\", marker='o', linestyle='dashed', linewidth=0.2, markersize=3)\n",
    "plt.plot(potato[\"x\"], potato[\"y\"], color=\"blue\", marker='x', linestyle='dashed', linewidth=0.2, markersize=3)\n",
    "plt.show"
   ]
  },
  {
   "cell_type": "code",
   "execution_count": 12,
   "metadata": {},
   "outputs": [
    {
     "data": {
      "text/plain": [
       "<function matplotlib.pyplot.show(close=None, block=None)>"
      ]
     },
     "execution_count": 12,
     "metadata": {},
     "output_type": "execute_result"
    },
    {
     "data": {
      "image/png": "[encoded data removed]",
      "text/plain": [
       "<Figure size 432x288 with 1 Axes>"
      ]
     },
     "metadata": {
      "needs_background": "light"
     },
     "output_type": "display_data"
    }
   ],
   "source": [
    "plt.plot(df_clean[\"x\"], df_clean[\"y\"], color=\"firebrick\", marker='o', linestyle='dashed', linewidth=0.2, markersize=3)\n",
    "plt.show"
   ]
  },
  {
   "cell_type": "code",
   "execution_count": 13,
   "metadata": {
    "collapsed": true,
    "jupyter": {
     "outputs_hidden": true
    }
   },
   "outputs": [
    {
     "name": "stdout",
     "output_type": "stream",
     "text": [
      "Data with outliers:  257199\n",
      "Ouliers removed:     257158\n",
      "Amount of outliers:  41\n"
     ]
    },
    {
     "data": {
      "text/html": [
       "<div>\n",
       "<style scoped>\n",
       "    .dataframe tbody tr th:only-of-type {\n",
       "        vertical-align: middle;\n",
       "    }\n",
       "\n",
       "    .dataframe tbody tr th {\n",
       "        vertical-align: top;\n",
       "    }\n",
       "\n",
       "    .dataframe thead th {\n",
       "        text-align: right;\n",
       "    }\n",
       "</style>\n",
       "<table border=\"1\" class=\"dataframe\">\n",
       "  <thead>\n",
       "    <tr style=\"text-align: right;\">\n",
       "      <th></th>\n",
       "      <th>x</th>\n",
       "      <th>y</th>\n",
       "    </tr>\n",
       "  </thead>\n",
       "  <tbody>\n",
       "    <tr>\n",
       "      <th>3424</th>\n",
       "      <td>1201</td>\n",
       "      <td>4031</td>\n",
       "    </tr>\n",
       "    <tr>\n",
       "      <th>4360</th>\n",
       "      <td>2563</td>\n",
       "      <td>3654</td>\n",
       "    </tr>\n",
       "    <tr>\n",
       "      <th>4385</th>\n",
       "      <td>1229</td>\n",
       "      <td>3679</td>\n",
       "    </tr>\n",
       "    <tr>\n",
       "      <th>4968</th>\n",
       "      <td>5151</td>\n",
       "      <td>4533</td>\n",
       "    </tr>\n",
       "    <tr>\n",
       "      <th>4969</th>\n",
       "      <td>4692</td>\n",
       "      <td>4186</td>\n",
       "    </tr>\n",
       "    <tr>\n",
       "      <th>7717</th>\n",
       "      <td>4235</td>\n",
       "      <td>3687</td>\n",
       "    </tr>\n",
       "    <tr>\n",
       "      <th>7718</th>\n",
       "      <td>4259</td>\n",
       "      <td>3798</td>\n",
       "    </tr>\n",
       "    <tr>\n",
       "      <th>7724</th>\n",
       "      <td>2916</td>\n",
       "      <td>3885</td>\n",
       "    </tr>\n",
       "    <tr>\n",
       "      <th>7737</th>\n",
       "      <td>1830</td>\n",
       "      <td>3790</td>\n",
       "    </tr>\n",
       "    <tr>\n",
       "      <th>8376</th>\n",
       "      <td>4625</td>\n",
       "      <td>4051</td>\n",
       "    </tr>\n",
       "    <tr>\n",
       "      <th>8393</th>\n",
       "      <td>4309</td>\n",
       "      <td>3855</td>\n",
       "    </tr>\n",
       "    <tr>\n",
       "      <th>9962</th>\n",
       "      <td>-290</td>\n",
       "      <td>4447</td>\n",
       "    </tr>\n",
       "    <tr>\n",
       "      <th>11892</th>\n",
       "      <td>4103</td>\n",
       "      <td>3971</td>\n",
       "    </tr>\n",
       "    <tr>\n",
       "      <th>11904</th>\n",
       "      <td>-19</td>\n",
       "      <td>4085</td>\n",
       "    </tr>\n",
       "    <tr>\n",
       "      <th>12379</th>\n",
       "      <td>3517</td>\n",
       "      <td>-2755</td>\n",
       "    </tr>\n",
       "    <tr>\n",
       "      <th>12802</th>\n",
       "      <td>1291</td>\n",
       "      <td>3712</td>\n",
       "    </tr>\n",
       "    <tr>\n",
       "      <th>13465</th>\n",
       "      <td>-2870</td>\n",
       "      <td>7359</td>\n",
       "    </tr>\n",
       "    <tr>\n",
       "      <th>13475</th>\n",
       "      <td>-399</td>\n",
       "      <td>4231</td>\n",
       "    </tr>\n",
       "    <tr>\n",
       "      <th>13476</th>\n",
       "      <td>-213</td>\n",
       "      <td>3796</td>\n",
       "    </tr>\n",
       "    <tr>\n",
       "      <th>14506</th>\n",
       "      <td>5108</td>\n",
       "      <td>4512</td>\n",
       "    </tr>\n",
       "    <tr>\n",
       "      <th>14511</th>\n",
       "      <td>3405</td>\n",
       "      <td>3763</td>\n",
       "    </tr>\n",
       "    <tr>\n",
       "      <th>14519</th>\n",
       "      <td>2191</td>\n",
       "      <td>3649</td>\n",
       "    </tr>\n",
       "    <tr>\n",
       "      <th>14918</th>\n",
       "      <td>3141</td>\n",
       "      <td>-2563</td>\n",
       "    </tr>\n",
       "    <tr>\n",
       "      <th>14922</th>\n",
       "      <td>3334</td>\n",
       "      <td>-3160</td>\n",
       "    </tr>\n",
       "    <tr>\n",
       "      <th>14927</th>\n",
       "      <td>3220</td>\n",
       "      <td>-2803</td>\n",
       "    </tr>\n",
       "    <tr>\n",
       "      <th>15099</th>\n",
       "      <td>5023</td>\n",
       "      <td>4406</td>\n",
       "    </tr>\n",
       "    <tr>\n",
       "      <th>15486</th>\n",
       "      <td>2604</td>\n",
       "      <td>4363</td>\n",
       "    </tr>\n",
       "    <tr>\n",
       "      <th>15520</th>\n",
       "      <td>-740</td>\n",
       "      <td>4748</td>\n",
       "    </tr>\n",
       "    <tr>\n",
       "      <th>16707</th>\n",
       "      <td>-1708</td>\n",
       "      <td>4941</td>\n",
       "    </tr>\n",
       "    <tr>\n",
       "      <th>17205</th>\n",
       "      <td>6001</td>\n",
       "      <td>5560</td>\n",
       "    </tr>\n",
       "    <tr>\n",
       "      <th>17827</th>\n",
       "      <td>3191</td>\n",
       "      <td>5000</td>\n",
       "    </tr>\n",
       "    <tr>\n",
       "      <th>18018</th>\n",
       "      <td>2815</td>\n",
       "      <td>5257</td>\n",
       "    </tr>\n",
       "    <tr>\n",
       "      <th>18022</th>\n",
       "      <td>966</td>\n",
       "      <td>3717</td>\n",
       "    </tr>\n",
       "    <tr>\n",
       "      <th>18039</th>\n",
       "      <td>929</td>\n",
       "      <td>3772</td>\n",
       "    </tr>\n",
       "    <tr>\n",
       "      <th>19099</th>\n",
       "      <td>4668</td>\n",
       "      <td>3976</td>\n",
       "    </tr>\n",
       "    <tr>\n",
       "      <th>19100</th>\n",
       "      <td>4808</td>\n",
       "      <td>4051</td>\n",
       "    </tr>\n",
       "    <tr>\n",
       "      <th>54293</th>\n",
       "      <td>-336</td>\n",
       "      <td>3811</td>\n",
       "    </tr>\n",
       "    <tr>\n",
       "      <th>54294</th>\n",
       "      <td>-267</td>\n",
       "      <td>3688</td>\n",
       "    </tr>\n",
       "    <tr>\n",
       "      <th>80386</th>\n",
       "      <td>-767</td>\n",
       "      <td>3342</td>\n",
       "    </tr>\n",
       "    <tr>\n",
       "      <th>152785</th>\n",
       "      <td>1412</td>\n",
       "      <td>3859</td>\n",
       "    </tr>\n",
       "    <tr>\n",
       "      <th>152786</th>\n",
       "      <td>1491</td>\n",
       "      <td>3756</td>\n",
       "    </tr>\n",
       "  </tbody>\n",
       "</table>\n",
       "</div>"
      ],
      "text/plain": [
       "           x     y\n",
       "3424    1201  4031\n",
       "4360    2563  3654\n",
       "4385    1229  3679\n",
       "4968    5151  4533\n",
       "4969    4692  4186\n",
       "7717    4235  3687\n",
       "7718    4259  3798\n",
       "7724    2916  3885\n",
       "7737    1830  3790\n",
       "8376    4625  4051\n",
       "8393    4309  3855\n",
       "9962    -290  4447\n",
       "11892   4103  3971\n",
       "11904    -19  4085\n",
       "12379   3517 -2755\n",
       "12802   1291  3712\n",
       "13465  -2870  7359\n",
       "13475   -399  4231\n",
       "13476   -213  3796\n",
       "14506   5108  4512\n",
       "14511   3405  3763\n",
       "14519   2191  3649\n",
       "14918   3141 -2563\n",
       "14922   3334 -3160\n",
       "14927   3220 -2803\n",
       "15099   5023  4406\n",
       "15486   2604  4363\n",
       "15520   -740  4748\n",
       "16707  -1708  4941\n",
       "17205   6001  5560\n",
       "17827   3191  5000\n",
       "18018   2815  5257\n",
       "18022    966  3717\n",
       "18039    929  3772\n",
       "19099   4668  3976\n",
       "19100   4808  4051\n",
       "54293   -336  3811\n",
       "54294   -267  3688\n",
       "80386   -767  3342\n",
       "152785  1412  3859\n",
       "152786  1491  3756"
      ]
     },
     "execution_count": 13,
     "metadata": {},
     "output_type": "execute_result"
    }
   ],
   "source": [
    "test = df2[(np.abs(zscore(df2)) <= 3).all(axis=1)]\n",
    "#Pidä vain ne rivit, jotka ovat +3 - -3 keskihajonnan sisällä.\n",
    "\n",
    "# pd.concat lisää kaksi DataFrame-kehystä yhteen liittämällä ne peräkkäin.\n",
    "# jos on päällekkäisyyksiä, se kaapataan drop_duplicates:illa\n",
    "# drop_duplicates oletusarvoisesti jättää ensimmäisen havainnon ja poistaa kaikki muut havainnot.\n",
    "# Tässä tapauksessa haluamme, että jokainen kaksoiskappale poistetaan. Siksi keep = False -parametri\n",
    "potato = pd.concat([df2, test, test]).drop_duplicates(keep=False)\n",
    "\n",
    "print(\"Data with outliers: \", len(df2))\n",
    "print(\"Ouliers removed:    \", len(df2) - len(potato))\n",
    "print(\"Amount of outliers: \",  len(potato))\n",
    "potato"
   ]
  },
  {
   "cell_type": "code",
   "execution_count": 15,
   "metadata": {},
   "outputs": [
    {
     "name": "stdout",
     "output_type": "stream",
     "text": [
      "x mean:  1957.99870139464\n",
      "y mean:  554.4904917981796\n",
      "x std:  863.068702672765\n",
      "y std:  1025.5284142192352\n"
     ]
    },
    {
     "data": {
      "image/png": "[encoded data removed]",
      "text/plain": [
       "<Figure size 1080x720 with 1 Axes>"
      ]
     },
     "metadata": {
      "needs_background": "light"
     },
     "output_type": "display_data"
    }
   ],
   "source": [
    "import matplotlib.pyplot as plt\n",
    "from scipy.stats import norm\n",
    "import seaborn as sns\n",
    "\n",
    "def draw_histogram(x, y, bin_num):\n",
    "    plt.figure(figsize=(15,10))\n",
    "    # mean of distribution\n",
    "    mu = np.mean(x)\n",
    "    mu2 = np.mean(y)\n",
    "    print(\"x mean: \", mu)\n",
    "    print(\"y mean: \", mu2)\n",
    "\n",
    "    # standard deviation of distribution\n",
    "    sigma = np.std(x)\n",
    "    sigma2 = np.std(y)\n",
    "    print(\"x std: \", sigma)\n",
    "    print(\"y std: \", sigma2)\n",
    "\n",
    "    # bins\n",
    "    num_bins = bin_num\n",
    "\n",
    "    # the histogram of the data\n",
    "    n, bins, patches = plt.hist(x, num_bins, density=1, facecolor='orange', alpha=0.5, label='x')\n",
    "    n2, bins2, patches2 = plt.hist(y, num_bins, density=1, facecolor='blue', alpha=0.5, label='y')\n",
    "\n",
    "    # add a 'best fit' line\n",
    "    y = norm.pdf(bins, mu, sigma)\n",
    "    y2 = norm.pdf(bins2, mu2, sigma2)\n",
    "\n",
    "    # This is what it norm.pdf does\n",
    "    #y = ((1 / (np.sqrt(2 * np.pi) * sigma)) * np.exp(-0.5 * (1 / sigma * (bins - mu))**2))\n",
    "    #y2 = ((1 / (np.sqrt(2 * np.pi) * sigma2)) * np.exp(-0.5 * (1 / sigma2 * (bins2 - mu2))**2))\n",
    "\n",
    "    plt.plot(bins, y, 'r', alpha=0.8, label='x')\n",
    "    plt.plot(bins2, y2, 'b', alpha=0.8, label='y')\n",
    "\n",
    "    plt.title(\"Histogrammi lmao (bins %s)\" % num_bins)\n",
    "    plt.xlabel(\"Arvo\")\n",
    "    plt.ylabel(\"Tiheys\")\n",
    "    plt.legend()\n",
    "    # Tweak spacing to prevent clipping of ylabel\n",
    "    plt.tight_layout()\n",
    "    plt.savefig('outliers.jpg')\n",
    "    plt.show()\n",
    "    \n",
    "draw_histogram(df2['x'], df2['y'], 20)"
   ]
  },
  {
   "cell_type": "markdown",
   "metadata": {},
   "source": [
    "---"
   ]
  }
 ],
 "metadata": {
  "kernelspec": {
   "display_name": "Python 3",
   "language": "python",
   "name": "python3"
  },
  "language_info": {
   "codemirror_mode": {
    "name": "ipython",
    "version": 3
   },
   "file_extension": ".py",
   "mimetype": "text/x-python",
   "name": "python",
   "nbconvert_exporter": "python",
   "pygments_lexer": "ipython3",
   "version": "3.8.3"
  }
 },
 "nbformat": 4,
 "nbformat_minor": 4
}
