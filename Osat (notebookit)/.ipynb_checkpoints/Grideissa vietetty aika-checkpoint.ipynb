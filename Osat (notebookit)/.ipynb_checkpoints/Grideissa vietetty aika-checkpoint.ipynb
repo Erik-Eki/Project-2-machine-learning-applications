{
 "cells": [
  {
   "cell_type": "code",
   "execution_count": 1,
   "metadata": {},
   "outputs": [],
   "source": [
    "import sys\n",
    "import pandas as pd\n",
    "sys.path.insert(0, './Moduulit')\n",
    "pd.options.mode.chained_assignment = None\n",
    "\n",
    "from ipywidgets import interact, interactive, fixed, interact_manual, Layout\n",
    "import ipywidgets as widgets\n",
    "\n",
    "\n",
    "# Importtaus tässä muodossa\n",
    "from database_connection import database_query\n",
    "from outliers import find_outliers, draw_histogram\n",
    "from clean_dataframe import clean_dataframe\n",
    "from draw_node_amount import *\n",
    "from write_df_to_database import write_df_to_mariadb\n",
    "from xy_diskretisointi import xy_to_grid\n",
    "from reittien_erottelu import *\n",
    "from isolation_forest import *\n",
    "from sisään_uloskäynnit import *\n",
    "from horrostila import *\n",
    "from widgets import *\n",
    "from plot_lapimenoajat import *\n",
    "from histogrammi_3D import *\n",
    "# tai from ... import *"
   ]
  },
  {
   "cell_type": "code",
   "execution_count": 2,
   "metadata": {},
   "outputs": [
    {
     "data": {
      "application/vnd.jupyter.widget-view+json": {
       "model_id": "d499cbe44ce44f0e883482761b0f7857",
       "version_major": 2,
       "version_minor": 0
      },
      "text/plain": [
       "interactive(children=(SelectMultiple(description='Node_id(s): ', index=(0,), layout=Layout(margin='0px 0px 40p…"
      ]
     },
     "metadata": {},
     "output_type": "display_data"
    }
   ],
   "source": [
    "@interact_manual\n",
    "\n",
    "def dataoptions(\n",
    "    \n",
    "    nodes = widgets.SelectMultiple(options= nodeIds,value=['All'],description='Node_id(s): ', disabled=False, layout=Layout(margin='0px 0px 40px 200px')),\n",
    "\n",
    "    start_date=widgets.DatePicker(value=pd.to_datetime('2020-06-24'),description='Starting Date', layout=Layout(margin='0px 0px 0px 0px')),                      \n",
    "    end_date=widgets.DatePicker(value=pd.to_datetime('2020-11-01 23:00:00'),description='Ending Date', layout=Layout(margin='-30px 0px 0px 400px')),\n",
    "                           \n",
    "    tuntivalitsin=widgets.SelectionRangeSlider(options=OptHours,index=[0,14],\n",
    "    description='Tunnit',disabled=False,value=[8,22], layout=Layout(margin='20px 0px 0px 0px')),\n",
    "\n",
    "   ):\n",
    "   \n",
    "    \n",
    "    def getdata():\n",
    "        \n",
    "        global df\n",
    "        import mysql.connector\n",
    "        mydb = mysql.connector.connect(\n",
    "        host=\"172.28.200.50\",\n",
    "       user=\"root\",\n",
    "        port=3306,\n",
    "      passwd=\"insert-password-here\",\n",
    "        database=\"iiwari_org\")\n",
    "        \n",
    "        mycursor = mydb.cursor(dictionary=True)\n",
    "        \n",
    "        # Paivmaarat string formaattiin\n",
    "        start_date_string = \"'{}'\".format(str(start_date))\n",
    "        end_date_string = \"'{}'\".format(str(end_date))\n",
    "        \n",
    "        \n",
    "        # Sql kysely vaihtoehdot jos valittu 'All'\n",
    "        if nodes[0] == 'All':\n",
    "            mycursor.execute(\"SELECT * FROM CleanSensorData WHERE timestamp >= {} and timestamp < {}\".format(start_date_string, end_date_string))\n",
    "            \n",
    "        # Jos vain 1 node valittu\n",
    "        elif len(nodes) == 1:\n",
    "            mycursor.execute(\"SELECT * FROM CleanSensorData WHERE node_id={} and timestamp >= {} and timestamp < {}\".format(nodes[0], start_date_string, end_date_string))\n",
    "        \n",
    "        # Monta nodea valittuna\n",
    "        else:\n",
    "            mycursor.execute(\"SELECT * FROM CleanSensorData WHERE node_id IN {} and timestamp >= {} and timestamp < {}\".format(nodes, start_date_string, end_date_string))\n",
    "            \n",
    "        df = pd.DataFrame(mycursor.fetchall())\n",
    "        \n",
    "        # Palauttaa virheilmoituksen jos dataframe on tyhja\n",
    "        if len(df) == 0:\n",
    "            return print(\"Error 01: Empty Dataset \")\n",
    "        \n",
    "        \n",
    "        # Timestamp datetime muotoon\n",
    "        df['timestamp'] = df['timestamp'].astype(str)\n",
    "        df['timestamp'] = df['timestamp'].str.slice(2, -2)\n",
    "        df['timestamp'] = df['timestamp'].astype('datetime64[ns]')\n",
    "        \n",
    "        # Sorttaa tunnit                   \n",
    "        df = df.loc[df.timestamp.dt.strftime('%-H').astype('int32') >= tuntivalitsin[0]]\n",
    "        df = df.loc[df.timestamp.dt.strftime('%-H').astype('int32') <= tuntivalitsin[1]]\n",
    "        \n",
    "        return df\n",
    "    \n",
    "    df = getdata()\n",
    "   \n",
    "    # Haetaan valittu kuvaaja, widgeteiltä saatujen arvojen perusteella #\n",
    "    return df"
   ]
  },
  {
   "cell_type": "markdown",
   "metadata": {},
   "source": [
    "# Grideissä vietetty aika\n",
    "## Otetaan ensiksi timestampistä difference sekuntteina"
   ]
  },
  {
   "cell_type": "code",
   "execution_count": 3,
   "metadata": {},
   "outputs": [
    {
     "data": {
      "text/html": [
       "<div>\n",
       "<style scoped>\n",
       "    .dataframe tbody tr th:only-of-type {\n",
       "        vertical-align: middle;\n",
       "    }\n",
       "\n",
       "    .dataframe tbody tr th {\n",
       "        vertical-align: top;\n",
       "    }\n",
       "\n",
       "    .dataframe thead th {\n",
       "        text-align: right;\n",
       "    }\n",
       "</style>\n",
       "<table border=\"1\" class=\"dataframe\">\n",
       "  <thead>\n",
       "    <tr style=\"text-align: right;\">\n",
       "      <th></th>\n",
       "      <th>node_id</th>\n",
       "      <th>timestamp</th>\n",
       "      <th>x</th>\n",
       "      <th>y</th>\n",
       "      <th>x_grid</th>\n",
       "      <th>y_grid</th>\n",
       "      <th>grid_id</th>\n",
       "      <th>time_diff</th>\n",
       "    </tr>\n",
       "  </thead>\n",
       "  <tbody>\n",
       "    <tr>\n",
       "      <th>0</th>\n",
       "      <td>19</td>\n",
       "      <td>2020-08-10 08:00:01.600</td>\n",
       "      <td>2759</td>\n",
       "      <td>-418</td>\n",
       "      <td>37</td>\n",
       "      <td>13</td>\n",
       "      <td>687</td>\n",
       "      <td>NaN</td>\n",
       "    </tr>\n",
       "    <tr>\n",
       "      <th>1</th>\n",
       "      <td>19</td>\n",
       "      <td>2020-08-10 08:00:10.600</td>\n",
       "      <td>2760</td>\n",
       "      <td>-419</td>\n",
       "      <td>37</td>\n",
       "      <td>13</td>\n",
       "      <td>687</td>\n",
       "      <td>9.0</td>\n",
       "    </tr>\n",
       "    <tr>\n",
       "      <th>2</th>\n",
       "      <td>19</td>\n",
       "      <td>2020-08-10 08:00:29.600</td>\n",
       "      <td>2762</td>\n",
       "      <td>-406</td>\n",
       "      <td>37</td>\n",
       "      <td>14</td>\n",
       "      <td>737</td>\n",
       "      <td>19.0</td>\n",
       "    </tr>\n",
       "    <tr>\n",
       "      <th>3</th>\n",
       "      <td>19</td>\n",
       "      <td>2020-08-10 08:00:39.600</td>\n",
       "      <td>2762</td>\n",
       "      <td>-408</td>\n",
       "      <td>37</td>\n",
       "      <td>14</td>\n",
       "      <td>737</td>\n",
       "      <td>10.0</td>\n",
       "    </tr>\n",
       "    <tr>\n",
       "      <th>4</th>\n",
       "      <td>19</td>\n",
       "      <td>2020-08-10 08:00:48.600</td>\n",
       "      <td>2756</td>\n",
       "      <td>-403</td>\n",
       "      <td>37</td>\n",
       "      <td>14</td>\n",
       "      <td>737</td>\n",
       "      <td>9.0</td>\n",
       "    </tr>\n",
       "  </tbody>\n",
       "</table>\n",
       "</div>"
      ],
      "text/plain": [
       "   node_id               timestamp     x    y  x_grid  y_grid  grid_id  \\\n",
       "0       19 2020-08-10 08:00:01.600  2759 -418      37      13      687   \n",
       "1       19 2020-08-10 08:00:10.600  2760 -419      37      13      687   \n",
       "2       19 2020-08-10 08:00:29.600  2762 -406      37      14      737   \n",
       "3       19 2020-08-10 08:00:39.600  2762 -408      37      14      737   \n",
       "4       19 2020-08-10 08:00:48.600  2756 -403      37      14      737   \n",
       "\n",
       "   time_diff  \n",
       "0        NaN  \n",
       "1        9.0  \n",
       "2       19.0  \n",
       "3       10.0  \n",
       "4        9.0  "
      ]
     },
     "execution_count": 3,
     "metadata": {},
     "output_type": "execute_result"
    }
   ],
   "source": [
    "df['time_diff'] = df['timestamp'].diff().dt.seconds\n",
    "df.head()"
   ]
  },
  {
   "cell_type": "markdown",
   "metadata": {},
   "source": [
    "# Groupataan grid_id:t time_diff columnin summana "
   ]
  },
  {
   "cell_type": "code",
   "execution_count": 4,
   "metadata": {},
   "outputs": [],
   "source": [
    "grid_ajat = df.groupby(['grid_id'])['time_diff'].sum()\n",
    "\n",
    "# Sortataan arvot laskevaan järjestykseen\n",
    "grid_ajat = grid_ajat.sort_values(ascending=False)"
   ]
  },
  {
   "cell_type": "markdown",
   "metadata": {},
   "source": [
    "# Scatter plotti sekä barplot 15 gridistä, joissa vietetty eniten aikaa"
   ]
  },
  {
   "cell_type": "code",
   "execution_count": 17,
   "metadata": {},
   "outputs": [
    {
     "data": {
      "text/plain": [
       "Text(0.5, 1.0, 'Grid_id ja vietetyn ajan jakauma ')"
      ]
     },
     "execution_count": 17,
     "metadata": {},
     "output_type": "execute_result"
    },
    {
     "data": {
      "image/png": "[encoded data removed]",
      "text/plain": [
       "<Figure size 432x288 with 1 Axes>"
      ]
     },
     "metadata": {},
     "output_type": "display_data"
    }
   ],
   "source": [
    "plt.scatter(grid_ajat.index, grid_ajat.values)\n",
    "plt.xlabel('Grid ID', fontsize=15)\n",
    "plt.ylabel('Aika (s)', fontsize=15)\n",
    "plt.title('Grid_id ja vietetyn ajan jakauma ')"
   ]
  },
  {
   "cell_type": "code",
   "execution_count": 23,
   "metadata": {},
   "outputs": [
    {
     "data": {
      "text/plain": [
       "[Text(0, 0.5, 'aika (s)'), Text(0.5, 0, 'grid ID')]"
      ]
     },
     "execution_count": 23,
     "metadata": {},
     "output_type": "execute_result"
    },
    {
     "data": {
      "image/png": "[encoded data removed]",
      "text/plain": [
       "<Figure size 432x288 with 1 Axes>"
      ]
     },
     "metadata": {},
     "output_type": "display_data"
    }
   ],
   "source": [
    "snsbar1 = sns.barplot(grid_ajat.index[:15], grid_ajat.values[:15],palette='gist_rainbow')\n",
    "snsbar1.set(xlabel='grid ID',ylabel='aika (s)')"
   ]
  },
  {
   "cell_type": "markdown",
   "metadata": {},
   "source": [
    "# Plotataan nämä 15 grid_id:tä\n",
    "## Ensin otetaan kyseiset 15 grid_id x_grid ja y_grid arvot talteen"
   ]
  },
  {
   "cell_type": "code",
   "execution_count": 24,
   "metadata": {},
   "outputs": [],
   "source": [
    "listx = []\n",
    "listy = []\n",
    "\n",
    "# Otetaan näiden 15 grid_id:den x_grid ja y_grid arvot talteen\n",
    "for i in range(14):\n",
    "    listx.append(df.loc[df.grid_id == grid_ajat.index[i]].x_grid.values.tolist())\n",
    "    listy.append(df.loc[df.grid_id == grid_ajat.index[i]].y_grid.values.tolist())\n",
    "    \n",
    "\n",
    "# Muuttaa list-of-lists to list koska oon bob\n",
    "flattenx = []\n",
    "for sublist in listx:\n",
    "    for item in sublist:\n",
    "        flattenx.append(item)\n",
    "\n",
    "flatteny = []\n",
    "for sublist in listy:\n",
    "    for item in sublist:\n",
    "        flatteny.append(item)"
   ]
  },
  {
   "cell_type": "markdown",
   "metadata": {},
   "source": [
    "# flatx ja flat y arvot dataframeen ja sieltä size "
   ]
  },
  {
   "cell_type": "code",
   "execution_count": 25,
   "metadata": {},
   "outputs": [],
   "source": [
    "gridit15 = pd.DataFrame()\n",
    "gridit15['x'] = flattenx\n",
    "gridit15['y'] = flatteny\n",
    "gridit15 ['grid_id'] = gridit15['y'] * 50 + gridit15['x']\n",
    "size = gridit15.grid_id.value_counts()"
   ]
  },
  {
   "cell_type": "code",
   "execution_count": 34,
   "metadata": {},
   "outputs": [
    {
     "data": {
      "text/plain": [
       "Text(0.5, 1.0, 'Punaisella ovat kyseiset 15 gridiä')"
      ]
     },
     "execution_count": 34,
     "metadata": {},
     "output_type": "execute_result"
    },
    {
     "data": {
      "image/png": "[encoded data removed]",
      "text/plain": [
       "<Figure size 432x288 with 1 Axes>"
      ]
     },
     "metadata": {},
     "output_type": "display_data"
    }
   ],
   "source": [
    "sns.scatterplot(df.x_grid,df.y_grid, color='blue', s=25)\n",
    "sns.scatterplot(gridit15.x, gridit15.y,s=size/30, color='red').set_title('Punaisella ovat kyseiset 15 gridiä')"
   ]
  },
  {
   "cell_type": "code",
   "execution_count": null,
   "metadata": {},
   "outputs": [],
   "source": []
  },
  {
   "cell_type": "code",
   "execution_count": null,
   "metadata": {},
   "outputs": [],
   "source": []
  }
 ],
 "metadata": {
  "kernelspec": {
   "display_name": "Python 3",
   "language": "python",
   "name": "python3"
  },
  "language_info": {
   "codemirror_mode": {
    "name": "ipython",
    "version": 3
   },
   "file_extension": ".py",
   "mimetype": "text/x-python",
   "name": "python",
   "nbconvert_exporter": "python",
   "pygments_lexer": "ipython3",
   "version": "3.7.6"
  }
 },
 "nbformat": 4,
 "nbformat_minor": 4
}
