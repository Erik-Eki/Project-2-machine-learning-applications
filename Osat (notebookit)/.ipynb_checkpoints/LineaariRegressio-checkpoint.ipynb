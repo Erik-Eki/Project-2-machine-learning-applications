{
 "cells": [
  {
   "cell_type": "code",
   "execution_count": 72,
   "metadata": {},
   "outputs": [],
   "source": [
    "import sys\n",
    "import pandas as pd\n",
    "sys.path.insert(0, './Moduulit')\n",
    "pd.options.mode.chained_assignment = None\n",
    "\n",
    "from ipywidgets import interact, interactive, fixed, interact_manual, Layout\n",
    "import ipywidgets as widgets\n",
    "\n",
    "\n",
    "# Importtaus tässä muodossa\n",
    "from database_connection import database_query\n",
    "from outliers import find_outliers, draw_histogram\n",
    "from clean_dataframe import clean_dataframe\n",
    "from draw_node_amount import *\n",
    "from write_df_to_database import write_df_to_mariadb\n",
    "from xy_diskretisointi import xy_to_grid\n",
    "from reittien_erottelu import *\n",
    "from isolation_forest import *\n",
    "from sisään_uloskäynnit import *\n",
    "from horrostila import *\n",
    "from widgets import *\n",
    "from plot_lapimenoajat import *\n",
    "from histogrammi_3D import *\n",
    "# tai from ... import *"
   ]
  },
  {
   "cell_type": "code",
   "execution_count": 73,
   "metadata": {},
   "outputs": [
    {
     "data": {
      "application/vnd.jupyter.widget-view+json": {
       "model_id": "6b47215f953d4f0a852c3f89e9bc0dfc",
       "version_major": 2,
       "version_minor": 0
      },
      "text/plain": [
       "interactive(children=(SelectMultiple(description='Db Tables: ', index=(3,), layout=Layout(margin='0px 0px 40px…"
      ]
     },
     "metadata": {},
     "output_type": "display_data"
    }
   ],
   "source": [
    "@interact_manual\n",
    "\n",
    "def dataoptions(\n",
    "    tables = widgets.SelectMultiple(options= OptTables,value=['SensorData'],description='Db Tables: ', disabled=False, layout=Layout(margin='0px 0px 40px 200px')),\n",
    "    \n",
    "    nodes = widgets.SelectMultiple(options= nodeIds,value=['All'],description='Node_id(s): ', disabled=False, layout=Layout(margin='0px 0px 40px 200px')),\n",
    "\n",
    "    start_date=widgets.DatePicker(value=pd.to_datetime('2020-06-24'),description='Starting Date', layout=Layout(margin='0px 0px 0px 0px')),                      \n",
    "    end_date=widgets.DatePicker(value=pd.to_datetime('2020-11-01 23:00:00'),description='Ending Date', layout=Layout(margin='-30px 0px 0px 400px')),\n",
    "                           \n",
    "    tuntivalitsin=widgets.SelectionRangeSlider(options=OptHours,index=[0,14],\n",
    "    description='Tunnit',disabled=False,value=[8,22], layout=Layout(margin='20px 0px 0px 0px')),\n",
    "\n",
    "   ):\n",
    "   \n",
    "    \n",
    "    def getdata():\n",
    "        \n",
    "        global df\n",
    "        import mysql.connector\n",
    "        mydb = mysql.connector.connect(\n",
    "        host=\"172.28.200.50\",\n",
    "       user=\"root\",\n",
    "        port=3306,\n",
    "      passwd=\"insert-password-here\",\n",
    "        database=\"iiwari_org\")\n",
    "        \n",
    "        mycursor = mydb.cursor(dictionary=True)\n",
    "        \n",
    "        # Paivmaarat string formaattiin\n",
    "        start_date_string = \"'{}'\".format(str(start_date))\n",
    "        end_date_string = \"'{}'\".format(str(end_date))\n",
    "        \n",
    "        \n",
    "        # Sql kysely vaihtoehdot jos valittu 'All'\n",
    "        if nodes[0] == 'All':\n",
    "            mycursor.execute(\"SELECT * FROM {} WHERE timestamp >= {} and timestamp < {}\".format(tables[0],start_date_string, end_date_string))\n",
    "            \n",
    "        # Jos vain 1 node valittu\n",
    "        elif len(nodes) == 1:\n",
    "            mycursor.execute(\"SELECT * FROM {} WHERE node_id={} and timestamp >= {} and timestamp < {}\".format(tables[0],nodes[0], start_date_string, end_date_string))\n",
    "        \n",
    "        # Monta nodea valittuna\n",
    "        else:\n",
    "            mycursor.execute(\"SELECT * FROM {} WHERE node_id IN {} and timestamp >= {} and timestamp < {}\".format(tables[0],nodes, start_date_string, end_date_string))\n",
    "            \n",
    "        df = pd.DataFrame(mycursor.fetchall())\n",
    "        \n",
    "        # Palauttaa virheilmoituksen jos dataframe on tyhja\n",
    "        if len(df) == 0:\n",
    "            return print(\"Error 01: Empty Dataset \")\n",
    "        \n",
    "        # Timestamp datetime muotoon\n",
    "        \n",
    "        try:\n",
    "            df['timestamp'] = df['timestamp'].astype('datetime64[ns]')\n",
    "            \n",
    "        except TypeError:\n",
    "            df['timestamp'] = df['timestamp'].astype(str)\n",
    "            df['timestamp'] = df['timestamp'].str.slice(2, -2)\n",
    "            df['timestamp'] = df['timestamp'].astype('datetime64[ns]')\n",
    "        \n",
    "        \n",
    "        # Sorttaa tunnit                   \n",
    "        df = df.loc[df.timestamp.dt.strftime('%-H').astype('int32') >= tuntivalitsin[0]]\n",
    "        df = df.loc[df.timestamp.dt.strftime('%-H').astype('int32') <= tuntivalitsin[1]]\n",
    "        \n",
    "        return df\n",
    "    \n",
    "    df = getdata()\n",
    "   \n",
    "    # Haetaan valittu kuvaaja, widgeteiltä saatujen arvojen perusteella #\n",
    "    return df"
   ]
  },
  {
   "cell_type": "markdown",
   "metadata": {},
   "source": [
    "# Group kokonaismatka ja otetaan kesto jokaiselta ajokerralta"
   ]
  },
  {
   "cell_type": "code",
   "execution_count": 221,
   "metadata": {},
   "outputs": [
    {
     "data": {
      "text/plain": [
       "(1455, 1)"
      ]
     },
     "execution_count": 221,
     "metadata": {},
     "output_type": "execute_result"
    }
   ],
   "source": [
    "matka = df.groupby(['ajokerta'])['distance'].sum().values\n",
    "kesto = df.groupby(['ajokerta'])['kesto'].unique().astype('int64').values\n",
    "kesto = kesto.reshape((-1, 1))\n",
    "\n",
    "kesto.shape\n",
    "#matka.shape"
   ]
  },
  {
   "cell_type": "markdown",
   "metadata": {},
   "source": [
    "# Muunnetaan nämä featureiksi"
   ]
  },
  {
   "cell_type": "code",
   "execution_count": 222,
   "metadata": {},
   "outputs": [],
   "source": [
    "def df_to_features2(df):\n",
    "    df[\"check\"] = df[\"ajokerta\"].shift(1)\n",
    "    uniques = df[\"ajokerta\"].unique()\n",
    "    rivit = []\n",
    "    asd = pd.DataFrame()\n",
    "    for row in df.itertuples():\n",
    "        if row.ajokerta != row.check:\n",
    "            rivit.append({\"ajokerta\":row.ajokerta, \n",
    "                          \"node_id\":row.node_id, \n",
    "                          \"kesto\":row.kesto, \n",
    "                          \"dayofweek\":row.dayofweek,\n",
    "                          \"current_hour\":row.current_hour, \n",
    "                          \"distance\":row.distance})\n",
    "            \n",
    "    return pd.DataFrame(rivit)"
   ]
  },
  {
   "cell_type": "code",
   "execution_count": 223,
   "metadata": {},
   "outputs": [
    {
     "data": {
      "text/html": [
       "<div>\n",
       "<style scoped>\n",
       "    .dataframe tbody tr th:only-of-type {\n",
       "        vertical-align: middle;\n",
       "    }\n",
       "\n",
       "    .dataframe tbody tr th {\n",
       "        vertical-align: top;\n",
       "    }\n",
       "\n",
       "    .dataframe thead th {\n",
       "        text-align: right;\n",
       "    }\n",
       "</style>\n",
       "<table border=\"1\" class=\"dataframe\">\n",
       "  <thead>\n",
       "    <tr style=\"text-align: right;\">\n",
       "      <th></th>\n",
       "      <th>ajokerta</th>\n",
       "      <th>node_id</th>\n",
       "      <th>kesto</th>\n",
       "      <th>dayofweek</th>\n",
       "      <th>current_hour</th>\n",
       "      <th>distance</th>\n",
       "    </tr>\n",
       "  </thead>\n",
       "  <tbody>\n",
       "    <tr>\n",
       "      <th>0</th>\n",
       "      <td>2</td>\n",
       "      <td>1</td>\n",
       "      <td>6812.007</td>\n",
       "      <td>3</td>\n",
       "      <td>8</td>\n",
       "      <td>582.077564</td>\n",
       "    </tr>\n",
       "    <tr>\n",
       "      <th>1</th>\n",
       "      <td>3</td>\n",
       "      <td>1</td>\n",
       "      <td>1121.998</td>\n",
       "      <td>3</td>\n",
       "      <td>9</td>\n",
       "      <td>219.936854</td>\n",
       "    </tr>\n",
       "    <tr>\n",
       "      <th>2</th>\n",
       "      <td>4</td>\n",
       "      <td>1</td>\n",
       "      <td>769.999</td>\n",
       "      <td>3</td>\n",
       "      <td>10</td>\n",
       "      <td>349.979207</td>\n",
       "    </tr>\n",
       "    <tr>\n",
       "      <th>3</th>\n",
       "      <td>5</td>\n",
       "      <td>1</td>\n",
       "      <td>265.000</td>\n",
       "      <td>3</td>\n",
       "      <td>12</td>\n",
       "      <td>207.363103</td>\n",
       "    </tr>\n",
       "    <tr>\n",
       "      <th>4</th>\n",
       "      <td>7</td>\n",
       "      <td>1</td>\n",
       "      <td>660.002</td>\n",
       "      <td>4</td>\n",
       "      <td>12</td>\n",
       "      <td>367.454784</td>\n",
       "    </tr>\n",
       "    <tr>\n",
       "      <th>...</th>\n",
       "      <td>...</td>\n",
       "      <td>...</td>\n",
       "      <td>...</td>\n",
       "      <td>...</td>\n",
       "      <td>...</td>\n",
       "      <td>...</td>\n",
       "    </tr>\n",
       "    <tr>\n",
       "      <th>1450</th>\n",
       "      <td>8815</td>\n",
       "      <td>31</td>\n",
       "      <td>4162.998</td>\n",
       "      <td>4</td>\n",
       "      <td>11</td>\n",
       "      <td>249.613157</td>\n",
       "    </tr>\n",
       "    <tr>\n",
       "      <th>1451</th>\n",
       "      <td>8819</td>\n",
       "      <td>31</td>\n",
       "      <td>4559.998</td>\n",
       "      <td>0</td>\n",
       "      <td>9</td>\n",
       "      <td>187.061152</td>\n",
       "    </tr>\n",
       "    <tr>\n",
       "      <th>1452</th>\n",
       "      <td>8820</td>\n",
       "      <td>31</td>\n",
       "      <td>621.000</td>\n",
       "      <td>0</td>\n",
       "      <td>11</td>\n",
       "      <td>145.509034</td>\n",
       "    </tr>\n",
       "    <tr>\n",
       "      <th>1453</th>\n",
       "      <td>8821</td>\n",
       "      <td>31</td>\n",
       "      <td>629.998</td>\n",
       "      <td>0</td>\n",
       "      <td>12</td>\n",
       "      <td>226.168390</td>\n",
       "    </tr>\n",
       "    <tr>\n",
       "      <th>1454</th>\n",
       "      <td>8822</td>\n",
       "      <td>31</td>\n",
       "      <td>405.998</td>\n",
       "      <td>1</td>\n",
       "      <td>4</td>\n",
       "      <td>82.895373</td>\n",
       "    </tr>\n",
       "  </tbody>\n",
       "</table>\n",
       "<p>1455 rows × 6 columns</p>\n",
       "</div>"
      ],
      "text/plain": [
       "      ajokerta  node_id     kesto  dayofweek  current_hour    distance\n",
       "0            2        1  6812.007          3             8  582.077564\n",
       "1            3        1  1121.998          3             9  219.936854\n",
       "2            4        1   769.999          3            10  349.979207\n",
       "3            5        1   265.000          3            12  207.363103\n",
       "4            7        1   660.002          4            12  367.454784\n",
       "...        ...      ...       ...        ...           ...         ...\n",
       "1450      8815       31  4162.998          4            11  249.613157\n",
       "1451      8819       31  4559.998          0             9  187.061152\n",
       "1452      8820       31   621.000          0            11  145.509034\n",
       "1453      8821       31   629.998          0            12  226.168390\n",
       "1454      8822       31   405.998          1             4   82.895373\n",
       "\n",
       "[1455 rows x 6 columns]"
      ]
     },
     "execution_count": 223,
     "metadata": {},
     "output_type": "execute_result"
    }
   ],
   "source": [
    "features = df_to_features2(df)\n",
    "features['distance'] = matka\n",
    "features"
   ]
  },
  {
   "cell_type": "markdown",
   "metadata": {},
   "source": [
    "# Outliers"
   ]
  },
  {
   "cell_type": "code",
   "execution_count": 227,
   "metadata": {},
   "outputs": [],
   "source": [
    "from scipy.stats import zscore\n",
    "# Only use the x and y columns\n",
    "df1 = features[[\"kesto\",\"distance\"]]\n",
    "\n",
    "z_scores = zscore(df1)\n",
    "abs_z_scores = np.abs(z_scores)\n",
    "\n",
    "# Remove rows that have outliers in at least one column\n",
    "outliers = df1[(abs_z_scores <= 2.5).all(axis=1)]\n",
    "\n",
    "# Pidä vain ne rivit, jotka ovat +3 - -3 keskihajonnan sisällä.\n",
    "filtered_entries = (abs_z_scores <= 2.5).all(axis=1)\n",
    "features = features[filtered_entries]\n",
    "\n",
    "del df1\n",
    "\n",
    "features = features[features['kesto'] > 60]\n",
    "features = features[features['distance'] > 50]\n"
   ]
  },
  {
   "cell_type": "markdown",
   "metadata": {},
   "source": [
    "# LinearRegressio malli + coefficient, intercept, slope"
   ]
  },
  {
   "cell_type": "code",
   "execution_count": 89,
   "metadata": {},
   "outputs": [
    {
     "name": "stdout",
     "output_type": "stream",
     "text": [
      "coefficient of determination: 0.02797703317771849\n",
      "intercept: 205.39818661042213\n",
      "slope: [0.01509046]\n"
     ]
    }
   ],
   "source": [
    "import numpy as np\n",
    "from sklearn.linear_model import LinearRegression\n",
    "\n",
    "model = LinearRegression()\n",
    "model.fit(kesto, matka)\n",
    "\n",
    "r_sq = model.score(kesto,matka)\n",
    "print('coefficient of determination:', r_sq)\n",
    "\n",
    "print('intercept:', model.intercept_)\n",
    "intercept: 5.633333333333329\n",
    "print('slope:', model.coef_)\n"
   ]
  },
  {
   "cell_type": "markdown",
   "metadata": {},
   "source": [
    "# Ennustus + plot"
   ]
  },
  {
   "cell_type": "code",
   "execution_count": 90,
   "metadata": {},
   "outputs": [
    {
     "data": {
      "image/png": "[encoded data removed]",
      "text/plain": [
       "<Figure size 432x288 with 1 Axes>"
      ]
     },
     "metadata": {},
     "output_type": "display_data"
    }
   ],
   "source": [
    "y_pred = model.predict(kesto)\n",
    "\n",
    "plt.scatter(kesto, matka,  color='black')\n",
    "plt.plot(kesto, y_pred, color='blue', linewidth=3)\n",
    "plt.xlabel('kesto sekuntteina')\n",
    "plt.ylabel('matka metreinä')\n",
    "\n",
    "plt.show()"
   ]
  },
  {
   "cell_type": "markdown",
   "metadata": {},
   "source": [
    "# Clean data linear-regression"
   ]
  },
  {
   "cell_type": "code",
   "execution_count": 225,
   "metadata": {},
   "outputs": [
    {
     "ename": "NameError",
     "evalue": "name 'df_clean' is not defined",
     "output_type": "error",
     "traceback": [
      "\u001b[0;31m---------------------------------------------------------------------------\u001b[0m",
      "\u001b[0;31mNameError\u001b[0m                                 Traceback (most recent call last)",
      "\u001b[0;32m<ipython-input-225-1c015b6f3133>\u001b[0m in \u001b[0;36m<module>\u001b[0;34m\u001b[0m\n\u001b[1;32m      3\u001b[0m \u001b[0;34m\u001b[0m\u001b[0m\n\u001b[1;32m      4\u001b[0m \u001b[0;34m\u001b[0m\u001b[0m\n\u001b[0;32m----> 5\u001b[0;31m \u001b[0mmatka\u001b[0m \u001b[0;34m=\u001b[0m \u001b[0mdf_clean\u001b[0m\u001b[0;34m.\u001b[0m\u001b[0mdistance\u001b[0m\u001b[0;34m.\u001b[0m\u001b[0mvalues\u001b[0m\u001b[0;34m\u001b[0m\u001b[0;34m\u001b[0m\u001b[0m\n\u001b[0m\u001b[1;32m      6\u001b[0m \u001b[0mkesto\u001b[0m \u001b[0;34m=\u001b[0m \u001b[0mdf_clean\u001b[0m\u001b[0;34m.\u001b[0m\u001b[0mkesto\u001b[0m\u001b[0;34m.\u001b[0m\u001b[0mvalues\u001b[0m\u001b[0;34m\u001b[0m\u001b[0;34m\u001b[0m\u001b[0m\n\u001b[1;32m      7\u001b[0m \u001b[0mkesto\u001b[0m \u001b[0;34m=\u001b[0m \u001b[0mkesto\u001b[0m\u001b[0;34m.\u001b[0m\u001b[0mreshape\u001b[0m\u001b[0;34m(\u001b[0m\u001b[0;34m(\u001b[0m\u001b[0;34m-\u001b[0m\u001b[0;36m1\u001b[0m\u001b[0;34m,\u001b[0m \u001b[0;36m1\u001b[0m\u001b[0;34m)\u001b[0m\u001b[0;34m)\u001b[0m\u001b[0;34m\u001b[0m\u001b[0;34m\u001b[0m\u001b[0m\n",
      "\u001b[0;31mNameError\u001b[0m: name 'df_clean' is not defined"
     ]
    }
   ],
   "source": [
    "import numpy as np\n",
    "from sklearn.linear_model import LinearRegression\n",
    "\n",
    "\n",
    "matka = df_clean.distance.values\n",
    "kesto = df_clean.kesto.values\n",
    "kesto = kesto.reshape((-1, 1))\n",
    "\n",
    "model = LinearRegression()\n",
    "model.fit(kesto, matka)\n",
    "\n",
    "r_sq = model.score(kesto,matka)\n",
    "print('coefficient of determination:', r_sq)\n",
    "\n",
    "print('intercept:', model.intercept_)\n",
    "intercept: 5.633333333333329\n",
    "print('slope:', model.coef_)\n",
    "\n",
    "y_pred = model.predict(kesto)\n",
    "\n",
    "plt.scatter(kesto, matka,  color='black')\n",
    "plt.plot(kesto, y_pred, color='blue', linewidth=3)\n",
    "plt.xlabel('kesto sekuntteina')\n",
    "plt.ylabel('matka metreinä')\n",
    "\n",
    "plt.show()\n"
   ]
  },
  {
   "cell_type": "markdown",
   "metadata": {},
   "source": [
    "# Mikä on ennuste kauppareitin pituudelle, kun siihen kului aikaa 5 min 30 s?"
   ]
  },
  {
   "cell_type": "code",
   "execution_count": 130,
   "metadata": {},
   "outputs": [
    {
     "name": "stdout",
     "output_type": "stream",
     "text": [
      "[218.08005636]\n"
     ]
    }
   ],
   "source": [
    "y_pred = model.predict([[660]])\n",
    "print(y_pred)"
   ]
  },
  {
   "cell_type": "markdown",
   "metadata": {},
   "source": [
    "# Mikä on ennuste kauppareissun kestolle pe klo 16-17, kun kauppareissun pituus on keskipitkä?"
   ]
  },
  {
   "cell_type": "code",
   "execution_count": 228,
   "metadata": {},
   "outputs": [
    {
     "data": {
      "text/html": [
       "<div>\n",
       "<style scoped>\n",
       "    .dataframe tbody tr th:only-of-type {\n",
       "        vertical-align: middle;\n",
       "    }\n",
       "\n",
       "    .dataframe tbody tr th {\n",
       "        vertical-align: top;\n",
       "    }\n",
       "\n",
       "    .dataframe thead th {\n",
       "        text-align: right;\n",
       "    }\n",
       "</style>\n",
       "<table border=\"1\" class=\"dataframe\">\n",
       "  <thead>\n",
       "    <tr style=\"text-align: right;\">\n",
       "      <th></th>\n",
       "      <th>ajokerta</th>\n",
       "      <th>node_id</th>\n",
       "      <th>kesto</th>\n",
       "      <th>dayofweek</th>\n",
       "      <th>current_hour</th>\n",
       "      <th>distance</th>\n",
       "      <th>binned</th>\n",
       "    </tr>\n",
       "  </thead>\n",
       "  <tbody>\n",
       "    <tr>\n",
       "      <th>1</th>\n",
       "      <td>3</td>\n",
       "      <td>1</td>\n",
       "      <td>1121.998</td>\n",
       "      <td>3</td>\n",
       "      <td>9</td>\n",
       "      <td>219.936854</td>\n",
       "      <td>3</td>\n",
       "    </tr>\n",
       "    <tr>\n",
       "      <th>2</th>\n",
       "      <td>4</td>\n",
       "      <td>1</td>\n",
       "      <td>769.999</td>\n",
       "      <td>3</td>\n",
       "      <td>10</td>\n",
       "      <td>349.979207</td>\n",
       "      <td>2</td>\n",
       "    </tr>\n",
       "    <tr>\n",
       "      <th>3</th>\n",
       "      <td>5</td>\n",
       "      <td>1</td>\n",
       "      <td>265.000</td>\n",
       "      <td>3</td>\n",
       "      <td>12</td>\n",
       "      <td>207.363103</td>\n",
       "      <td>1</td>\n",
       "    </tr>\n",
       "    <tr>\n",
       "      <th>4</th>\n",
       "      <td>7</td>\n",
       "      <td>1</td>\n",
       "      <td>660.002</td>\n",
       "      <td>4</td>\n",
       "      <td>12</td>\n",
       "      <td>367.454784</td>\n",
       "      <td>2</td>\n",
       "    </tr>\n",
       "    <tr>\n",
       "      <th>5</th>\n",
       "      <td>8</td>\n",
       "      <td>1</td>\n",
       "      <td>877.001</td>\n",
       "      <td>4</td>\n",
       "      <td>12</td>\n",
       "      <td>511.475758</td>\n",
       "      <td>2</td>\n",
       "    </tr>\n",
       "    <tr>\n",
       "      <th>...</th>\n",
       "      <td>...</td>\n",
       "      <td>...</td>\n",
       "      <td>...</td>\n",
       "      <td>...</td>\n",
       "      <td>...</td>\n",
       "      <td>...</td>\n",
       "      <td>...</td>\n",
       "    </tr>\n",
       "    <tr>\n",
       "      <th>1450</th>\n",
       "      <td>8815</td>\n",
       "      <td>31</td>\n",
       "      <td>4162.998</td>\n",
       "      <td>4</td>\n",
       "      <td>11</td>\n",
       "      <td>249.613157</td>\n",
       "      <td>5</td>\n",
       "    </tr>\n",
       "    <tr>\n",
       "      <th>1451</th>\n",
       "      <td>8819</td>\n",
       "      <td>31</td>\n",
       "      <td>4559.998</td>\n",
       "      <td>0</td>\n",
       "      <td>9</td>\n",
       "      <td>187.061152</td>\n",
       "      <td>5</td>\n",
       "    </tr>\n",
       "    <tr>\n",
       "      <th>1452</th>\n",
       "      <td>8820</td>\n",
       "      <td>31</td>\n",
       "      <td>621.000</td>\n",
       "      <td>0</td>\n",
       "      <td>11</td>\n",
       "      <td>145.509034</td>\n",
       "      <td>2</td>\n",
       "    </tr>\n",
       "    <tr>\n",
       "      <th>1453</th>\n",
       "      <td>8821</td>\n",
       "      <td>31</td>\n",
       "      <td>629.998</td>\n",
       "      <td>0</td>\n",
       "      <td>12</td>\n",
       "      <td>226.168390</td>\n",
       "      <td>2</td>\n",
       "    </tr>\n",
       "    <tr>\n",
       "      <th>1454</th>\n",
       "      <td>8822</td>\n",
       "      <td>31</td>\n",
       "      <td>405.998</td>\n",
       "      <td>1</td>\n",
       "      <td>4</td>\n",
       "      <td>82.895373</td>\n",
       "      <td>2</td>\n",
       "    </tr>\n",
       "  </tbody>\n",
       "</table>\n",
       "<p>1341 rows × 7 columns</p>\n",
       "</div>"
      ],
      "text/plain": [
       "      ajokerta  node_id     kesto  dayofweek  current_hour    distance binned\n",
       "1            3        1  1121.998          3             9  219.936854      3\n",
       "2            4        1   769.999          3            10  349.979207      2\n",
       "3            5        1   265.000          3            12  207.363103      1\n",
       "4            7        1   660.002          4            12  367.454784      2\n",
       "5            8        1   877.001          4            12  511.475758      2\n",
       "...        ...      ...       ...        ...           ...         ...    ...\n",
       "1450      8815       31  4162.998          4            11  249.613157      5\n",
       "1451      8819       31  4559.998          0             9  187.061152      5\n",
       "1452      8820       31   621.000          0            11  145.509034      2\n",
       "1453      8821       31   629.998          0            12  226.168390      2\n",
       "1454      8822       31   405.998          1             4   82.895373      2\n",
       "\n",
       "[1341 rows x 7 columns]"
      ]
     },
     "execution_count": 228,
     "metadata": {},
     "output_type": "execute_result"
    }
   ],
   "source": [
    "bins = [60,300, 900, 1500 , 3600, 7200]\n",
    "#labels = ['lyhyt', 'normaali', 'pitkä', 'tosi pitkä']\n",
    "labels = [1, 2, 3, 4, 5]\n",
    "features['binned'] = pd.cut(features['kesto'], bins, labels=labels)\n",
    "features"
   ]
  },
  {
   "cell_type": "markdown",
   "metadata": {},
   "source": [
    "# Fit ja pottumage"
   ]
  },
  {
   "cell_type": "code",
   "execution_count": 231,
   "metadata": {},
   "outputs": [
    {
     "name": "stdout",
     "output_type": "stream",
     "text": [
      "0.827044057139628\n",
      "[3250.9613503]\n"
     ]
    }
   ],
   "source": [
    "\n",
    "model = LinearRegression()\n",
    "model.fit(features[['dayofweek', 'current_hour', 'binned']].values, features.kesto)\n",
    "\n",
    "y_pred = model.predict([[4,0,5]])\n",
    "\n",
    "print(model.score(features[['dayofweek', 'current_hour', 'binned']].values, features.kesto))\n",
    "print(y_pred)"
   ]
  },
  {
   "cell_type": "markdown",
   "metadata": {},
   "source": [
    "# Mikä on ennuste kauppareissun kestolle ke klo 17-18, kun ostetaan tuotteet; einekset, lihatuotteet, maitotuotteet, virvokkeet, makeiset?"
   ]
  },
  {
   "cell_type": "code",
   "execution_count": 93,
   "metadata": {},
   "outputs": [
    {
     "data": {
      "text/plain": [
       "1273.888275770925"
      ]
     },
     "execution_count": 93,
     "metadata": {},
     "output_type": "execute_result"
    }
   ],
   "source": [
    "df_clean.kesto.mean()"
   ]
  },
  {
   "cell_type": "code",
   "execution_count": null,
   "metadata": {},
   "outputs": [],
   "source": []
  },
  {
   "cell_type": "code",
   "execution_count": null,
   "metadata": {},
   "outputs": [],
   "source": []
  },
  {
   "cell_type": "code",
   "execution_count": null,
   "metadata": {},
   "outputs": [],
   "source": []
  },
  {
   "cell_type": "markdown",
   "metadata": {},
   "source": [
    "# Polynomial regression"
   ]
  },
  {
   "cell_type": "code",
   "execution_count": 179,
   "metadata": {},
   "outputs": [
    {
     "data": {
      "text/plain": [
       "LinearRegression()"
      ]
     },
     "execution_count": 179,
     "metadata": {},
     "output_type": "execute_result"
    }
   ],
   "source": [
    "from sklearn.preprocessing import PolynomialFeatures \n",
    "\n",
    "X = df_clean['kesto'].values\n",
    "y = df_clean['distance'].values\n",
    "X = X.reshape((-1, 1))\n",
    "poly = PolynomialFeatures(degree = 4) \n",
    "X_poly = poly.fit_transform(X) \n",
    "  \n",
    "poly.fit(X_poly, y) \n",
    "lin2 = LinearRegression() \n",
    "lin2.fit(X_poly, y) \n"
   ]
  },
  {
   "cell_type": "code",
   "execution_count": 183,
   "metadata": {},
   "outputs": [
    {
     "data": {
      "image/png": "[encoded data removed]",
      "text/plain": [
       "<Figure size 432x288 with 1 Axes>"
      ]
     },
     "metadata": {},
     "output_type": "display_data"
    }
   ],
   "source": [
    "plt.scatter(X, y, color = 'blue') \n",
    "  \n",
    "plt.plot(X, lin2.predict(poly.fit_transform(X)), color = 'red') \n",
    "plt.title('Polynomial Regression') \n",
    "plt.xlabel('Temperature') \n",
    "plt.ylabel('Pressure') \n",
    "  \n",
    "plt.show() \n"
   ]
  },
  {
   "cell_type": "code",
   "execution_count": null,
   "metadata": {},
   "outputs": [],
   "source": []
  },
  {
   "cell_type": "code",
   "execution_count": 188,
   "metadata": {},
   "outputs": [
    {
     "name": "stdout",
     "output_type": "stream",
     "text": [
      "[657.88584766]\n"
     ]
    }
   ],
   "source": [
    "lin2.fit(df_clean[['dayofweek', 'current_hour', 'binned']].values, df_clean.kesto)\n",
    "\n",
    "y_pred = lin2.predict([[4,5,2]])\n",
    "\n",
    "print(y_pred)"
   ]
  },
  {
   "cell_type": "markdown",
   "metadata": {},
   "source": [
    "# Randomforestregressor\n",
    "## Mikä on ennuste kauppareitin pituudelle, kun siihen kului aikaa 5 min 30 s?"
   ]
  },
  {
   "cell_type": "code",
   "execution_count": 211,
   "metadata": {},
   "outputs": [
    {
     "data": {
      "text/plain": [
       "-0.1956341626444804"
      ]
     },
     "execution_count": 211,
     "metadata": {},
     "output_type": "execute_result"
    }
   ],
   "source": [
    "# X ja y featuret\n",
    "\n",
    "X = features.iloc[:,2:3]\n",
    "y = features['distance']\n",
    "\n",
    "from sklearn.model_selection import train_test_split\n",
    "# tRAIN TEST\n",
    "X_train, X_test, y_train, y_test = train_test_split(X, y, test_size=0.2, random_state=0)\n",
    "\n",
    "\n",
    "from sklearn.ensemble import RandomForestRegressor\n",
    "\n",
    "regressor2 = RandomForestRegressor(n_estimators=20, random_state=0)\n",
    "regressor2.fit(X_train, y_train)\n",
    "y_pred = regressor2.predict(X_test)\n",
    "\n",
    "regressor2.score(X_test, y_test)\n"
   ]
  },
  {
   "cell_type": "code",
   "execution_count": null,
   "metadata": {},
   "outputs": [],
   "source": []
  },
  {
   "cell_type": "markdown",
   "metadata": {},
   "source": [
    "# Randomforestregressor\n"
   ]
  },
  {
   "cell_type": "code",
   "execution_count": 212,
   "metadata": {},
   "outputs": [
    {
     "data": {
      "text/plain": [
       "0.9034129073426067"
      ]
     },
     "execution_count": 212,
     "metadata": {},
     "output_type": "execute_result"
    }
   ],
   "source": [
    "\n",
    "# X ja y featuret\n",
    "X =  features.iloc[:, 3:5]\n",
    "X['binned'] = features['binned']\n",
    "y = features['kesto']\n",
    "\n",
    "from sklearn.model_selection import train_test_split\n",
    "# tRAIN TEST\n",
    "X_train, X_test, y_train, y_test = train_test_split(X, y, test_size=0.2, random_state=0)\n",
    "\n",
    "\n",
    "from sklearn.ensemble import RandomForestRegressor\n",
    "\n",
    "regressor = RandomForestRegressor(n_estimators=1, random_state=0)\n",
    "regressor.fit(X_train, y_train)\n",
    "y_pred = regressor.predict(X_test)\n",
    "\n",
    "regressor.score(X_test, y_test)\n"
   ]
  },
  {
   "cell_type": "code",
   "execution_count": null,
   "metadata": {},
   "outputs": [],
   "source": []
  },
  {
   "cell_type": "code",
   "execution_count": null,
   "metadata": {},
   "outputs": [],
   "source": []
  },
  {
   "cell_type": "markdown",
   "metadata": {},
   "source": [
    "# Randomforestregressio + score"
   ]
  },
  {
   "cell_type": "code",
   "execution_count": 213,
   "metadata": {},
   "outputs": [
    {
     "data": {
      "text/plain": [
       "0.9034129073426067"
      ]
     },
     "execution_count": 213,
     "metadata": {},
     "output_type": "execute_result"
    }
   ],
   "source": [
    "from sklearn.ensemble import RandomForestRegressor\n",
    "\n",
    "regressor = RandomForestRegressor(n_estimators=1, random_state=0)\n",
    "regressor.fit(X_train, y_train)\n",
    "y_pred = regressor.predict(X_test)\n",
    "\n",
    "regressor.score(X_test, y_test)"
   ]
  },
  {
   "cell_type": "markdown",
   "metadata": {},
   "source": [
    "# Koko datalle testi"
   ]
  },
  {
   "cell_type": "code",
   "execution_count": 214,
   "metadata": {},
   "outputs": [
    {
     "data": {
      "text/plain": [
       "0.911004916671244"
      ]
     },
     "execution_count": 214,
     "metadata": {},
     "output_type": "execute_result"
    }
   ],
   "source": [
    "y_pred2 = regressor.predict(X)\n",
    "\n",
    "regressor.score(X, y)"
   ]
  },
  {
   "cell_type": "code",
   "execution_count": 218,
   "metadata": {},
   "outputs": [
    {
     "name": "stdout",
     "output_type": "stream",
     "text": [
      "1=tosi lyhyt\n",
      "2=lyhyt\n",
      "3=normaali\n",
      "4=pitkä\n",
      "5=tosi pitkä\n"
     ]
    },
    {
     "data": {
      "image/png": "[encoded data removed]",
      "text/plain": [
       "<Figure size 432x288 with 1 Axes>"
      ]
     },
     "metadata": {},
     "output_type": "display_data"
    }
   ],
   "source": [
    "plt.scatter(y_pred2, X['binned'], s=200)\n",
    "plt.scatter(y, X['binned'], color='r')\n",
    "plt.title('RandomForestRegressio Predict\\nPredict punaisella')\n",
    "plt.xlabel('kesto (s)')\n",
    "plt.ylabel('matka bins')\n",
    "print('1=tosi lyhyt\\n2=lyhyt\\n3=normaali\\n4=pitkä\\n5=tosi pitkä')\n"
   ]
  },
  {
   "cell_type": "markdown",
   "metadata": {},
   "source": [
    "# Mikä on ennuste kauppareissun kestolle pe klo 16-17, kun kauppareissun pituus on keskipitkä?\n"
   ]
  },
  {
   "cell_type": "code",
   "execution_count": 216,
   "metadata": {},
   "outputs": [
    {
     "name": "stdout",
     "output_type": "stream",
     "text": [
      "[4703.999]\n"
     ]
    }
   ],
   "source": [
    "y_pred = regressor.predict([[4,9,5]])\n",
    "print(y_pred)\n"
   ]
  },
  {
   "cell_type": "code",
   "execution_count": null,
   "metadata": {},
   "outputs": [],
   "source": []
  }
 ],
 "metadata": {
  "kernelspec": {
   "display_name": "Python 3",
   "language": "python",
   "name": "python3"
  },
  "language_info": {
   "codemirror_mode": {
    "name": "ipython",
    "version": 3
   },
   "file_extension": ".py",
   "mimetype": "text/x-python",
   "name": "python",
   "nbconvert_exporter": "python",
   "pygments_lexer": "ipython3",
   "version": "3.7.6"
  }
 },
 "nbformat": 4,
 "nbformat_minor": 4
}
