{
 "cells": [
  {
   "cell_type": "code",
   "execution_count": 4,
   "metadata": {},
   "outputs": [],
   "source": [
    "import pandas as pd"
   ]
  },
  {
   "cell_type": "markdown",
   "metadata": {},
   "source": [
    "# XY koordinaatit gridiin\n",
    "- HUOM! x ja y koordinaattien tulee olla normalisoituja\n",
    "- k = karkeisuus\n",
    "- Tehtyihin grideihin voi viitata .loc[0.1]"
   ]
  },
  {
   "cell_type": "code",
   "execution_count": 2,
   "metadata": {},
   "outputs": [],
   "source": [
    "def xy_to_grid(df,x,y,k):\n",
    "    \n",
    "    x_cut = pd.cut(df.x, k,labels=False)\n",
    "    y_cut = pd.cut(df.y, k,labels=False)\n",
    "\n",
    "    # Laitetaan saadut liukuluvut dataframeen\n",
    "    df['x_grid'],df['y_grid'] = x_cut.values, y_grid.values\n",
    "       \n",
    "    # Laitetaan x ja y str ja sitte + yhteen \n",
    "    xy_grid_temp = df['x_grid'].astype(str) + '.' + data['y_grid'].astype(str)\n",
    "\n",
    "    # Muunnetaan str floatiksi\n",
    "    xy_grid_temp.astype(float)\n",
    "\n",
    "    # Laitetaan arvot dataframeen\n",
    "    df['xy_grid'] = xy_grid_temp.values\n",
    "\n",
    "    # Poistetaan vanhat x_grid ja y_grid sekä z ja q\n",
    "    df = df.drop(columns=['x_grid','y_grid'])\n",
    "    return df"
   ]
  },
  {
   "cell_type": "code",
   "execution_count": null,
   "metadata": {},
   "outputs": [],
   "source": []
  }
 ],
 "metadata": {
  "kernelspec": {
   "display_name": "Python 3",
   "language": "python",
   "name": "python3"
  },
  "language_info": {
   "codemirror_mode": {
    "name": "ipython",
    "version": 3
   },
   "file_extension": ".py",
   "mimetype": "text/x-python",
   "name": "python",
   "nbconvert_exporter": "python",
   "pygments_lexer": "ipython3",
   "version": "3.7.6"
  }
 },
 "nbformat": 4,
 "nbformat_minor": 4
}
