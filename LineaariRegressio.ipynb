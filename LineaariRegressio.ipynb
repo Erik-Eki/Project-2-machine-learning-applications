{
 "cells": [
  {
   "cell_type": "code",
   "execution_count": 1,
   "metadata": {},
   "outputs": [],
   "source": [
    "import sys\n",
    "import pandas as pd\n",
    "sys.path.insert(0, './Moduulit')\n",
    "pd.options.mode.chained_assignment = None\n",
    "\n",
    "from ipywidgets import interact, interactive, fixed, interact_manual, Layout\n",
    "import ipywidgets as widgets\n",
    "\n",
    "\n",
    "# Importtaus tässä muodossa\n",
    "from database_connection import database_query\n",
    "from outliers import find_outliers, draw_histogram\n",
    "from clean_dataframe import clean_dataframe\n",
    "from draw_node_amount import *\n",
    "from write_df_to_database import write_df_to_mariadb\n",
    "from xy_diskretisointi import xy_to_grid\n",
    "from reittien_erottelu import *\n",
    "from isolation_forest import *\n",
    "from sisään_uloskäynnit import *\n",
    "from horrostila import *\n",
    "from widgets import *\n",
    "from plot_lapimenoajat import *\n",
    "from histogrammi_3D import *\n",
    "# tai from ... import *"
   ]
  },
  {
   "cell_type": "code",
   "execution_count": 2,
   "metadata": {},
   "outputs": [
    {
     "data": {
      "application/vnd.jupyter.widget-view+json": {
       "model_id": "f4d3904ce268449398fcbe4c8e6b0b6c",
       "version_major": 2,
       "version_minor": 0
      },
      "text/plain": [
       "interactive(children=(SelectMultiple(description='Db Tables: ', index=(3,), layout=Layout(margin='0px 0px 40px…"
      ]
     },
     "metadata": {},
     "output_type": "display_data"
    }
   ],
   "source": [
    "@interact_manual\n",
    "\n",
    "def dataoptions(\n",
    "    tables = widgets.SelectMultiple(options= OptTables,value=['SensorData'],description='Db Tables: ', disabled=False, layout=Layout(margin='0px 0px 40px 200px')),\n",
    "    \n",
    "    nodes = widgets.SelectMultiple(options= nodeIds,value=['All'],description='Node_id(s): ', disabled=False, layout=Layout(margin='0px 0px 40px 200px')),\n",
    "\n",
    "    start_date=widgets.DatePicker(value=pd.to_datetime('2020-06-24'),description='Starting Date', layout=Layout(margin='0px 0px 0px 0px')),                      \n",
    "    end_date=widgets.DatePicker(value=pd.to_datetime('2020-11-01 23:00:00'),description='Ending Date', layout=Layout(margin='-30px 0px 0px 400px')),\n",
    "                           \n",
    "    tuntivalitsin=widgets.SelectionRangeSlider(options=OptHours,index=[0,14],\n",
    "    description='Tunnit',disabled=False,value=[8,22], layout=Layout(margin='20px 0px 0px 0px')),\n",
    "\n",
    "   ):\n",
    "   \n",
    "    \n",
    "    def getdata():\n",
    "        \n",
    "        global df\n",
    "        import mysql.connector\n",
    "        mydb = mysql.connector.connect(\n",
    "        host=\"172.28.200.50\",\n",
    "       user=\"root\",\n",
    "        port=3306,\n",
    "      passwd=\"insert-password-here\",\n",
    "        database=\"iiwari_org\")\n",
    "        \n",
    "        mycursor = mydb.cursor(dictionary=True)\n",
    "        \n",
    "        # Paivmaarat string formaattiin\n",
    "        start_date_string = \"'{}'\".format(str(start_date))\n",
    "        end_date_string = \"'{}'\".format(str(end_date))\n",
    "        \n",
    "        \n",
    "        # Sql kysely vaihtoehdot jos valittu 'All'\n",
    "        if nodes[0] == 'All':\n",
    "            mycursor.execute(\"SELECT * FROM {} WHERE timestamp >= {} and timestamp < {}\".format(tables[0],start_date_string, end_date_string))\n",
    "            \n",
    "        # Jos vain 1 node valittu\n",
    "        elif len(nodes) == 1:\n",
    "            mycursor.execute(\"SELECT * FROM {} WHERE node_id={} and timestamp >= {} and timestamp < {}\".format(tables[0],nodes[0], start_date_string, end_date_string))\n",
    "        \n",
    "        # Monta nodea valittuna\n",
    "        else:\n",
    "            mycursor.execute(\"SELECT * FROM {} WHERE node_id IN {} and timestamp >= {} and timestamp < {}\".format(tables[0],nodes, start_date_string, end_date_string))\n",
    "            \n",
    "        df = pd.DataFrame(mycursor.fetchall())\n",
    "        \n",
    "        # Palauttaa virheilmoituksen jos dataframe on tyhja\n",
    "        if len(df) == 0:\n",
    "            return print(\"Error 01: Empty Dataset \")\n",
    "        \n",
    "        # Timestamp datetime muotoon\n",
    "        \n",
    "        try:\n",
    "            df['timestamp'] = df['timestamp'].astype('datetime64[ns]')\n",
    "            \n",
    "        except TypeError:\n",
    "            df['timestamp'] = df['timestamp'].astype(str)\n",
    "            df['timestamp'] = df['timestamp'].str.slice(2, -2)\n",
    "            df['timestamp'] = df['timestamp'].astype('datetime64[ns]')\n",
    "        \n",
    "        \n",
    "        # Sorttaa tunnit                   \n",
    "        df = df.loc[df.timestamp.dt.strftime('%-H').astype('int32') >= tuntivalitsin[0]]\n",
    "        df = df.loc[df.timestamp.dt.strftime('%-H').astype('int32') <= tuntivalitsin[1]]\n",
    "        \n",
    "        return df\n",
    "    \n",
    "    df = getdata()\n",
    "   \n",
    "    # Haetaan valittu kuvaaja, widgeteiltä saatujen arvojen perusteella #\n",
    "    return df"
   ]
  },
  {
   "cell_type": "markdown",
   "metadata": {},
   "source": [
    "# Group kokonaismatka ja otetaan kesto jokaiselta ajokerralta"
   ]
  },
  {
   "cell_type": "code",
   "execution_count": 38,
   "metadata": {},
   "outputs": [],
   "source": [
    "matka = df.groupby(['ajokerta'])['distance'].sum().values\n",
    "kesto = df.groupby(['ajokerta'])['kesto'].unique().astype('int64').values\n",
    "kesto = kesto.reshape((-1, 1))\n"
   ]
  },
  {
   "cell_type": "markdown",
   "metadata": {},
   "source": [
    "# LinearRegressio malli + coefficient, intercept, slope"
   ]
  },
  {
   "cell_type": "code",
   "execution_count": 56,
   "metadata": {},
   "outputs": [
    {
     "name": "stdout",
     "output_type": "stream",
     "text": [
      "coefficient of determination: 0.0035069649494035016\n",
      "intercept: 191.4824915496002\n",
      "slope: [0.00372319]\n"
     ]
    }
   ],
   "source": [
    "import numpy as np\n",
    "from sklearn.linear_model import LinearRegression\n",
    "\n",
    "model = LinearRegression()\n",
    "model.fit(kesto, matka)\n",
    "\n",
    "r_sq = model.score(kesto,matka)\n",
    "print('coefficient of determination:', r_sq)\n",
    "\n",
    "print('intercept:', model.intercept_)\n",
    "intercept: 5.633333333333329\n",
    "print('slope:', model.coef_)\n"
   ]
  },
  {
   "cell_type": "markdown",
   "metadata": {},
   "source": [
    "# Ennustus + plot"
   ]
  },
  {
   "cell_type": "code",
   "execution_count": 57,
   "metadata": {},
   "outputs": [
    {
     "data": {
      "image/png": "[encoded data removed]",
      "text/plain": [
       "<Figure size 432x288 with 1 Axes>"
      ]
     },
     "metadata": {},
     "output_type": "display_data"
    }
   ],
   "source": [
    "y_pred = model.predict(kesto)\n",
    "\n",
    "plt.scatter(kesto, matka,  color='black')\n",
    "plt.plot(kesto, y_pred, color='blue', linewidth=3)\n",
    "plt.xlabel('kesto sekuntteina')\n",
    "plt.ylabel('matka metreinä')\n",
    "\n",
    "plt.show()"
   ]
  },
  {
   "cell_type": "markdown",
   "metadata": {},
   "source": [
    "# Mikä on ennuste kauppareitin pituudelle, kun siihen kului aikaa 5 min 30 s?"
   ]
  },
  {
   "cell_type": "code",
   "execution_count": 58,
   "metadata": {},
   "outputs": [
    {
     "name": "stdout",
     "output_type": "stream",
     "text": [
      "[192.71114455]\n"
     ]
    }
   ],
   "source": [
    "y_pred = model.predict([[330]])\n",
    "print(y_pred)"
   ]
  },
  {
   "cell_type": "code",
   "execution_count": null,
   "metadata": {},
   "outputs": [],
   "source": []
  },
  {
   "cell_type": "code",
   "execution_count": null,
   "metadata": {},
   "outputs": [],
   "source": []
  }
 ],
 "metadata": {
  "kernelspec": {
   "display_name": "Python 3",
   "language": "python",
   "name": "python3"
  },
  "language_info": {
   "codemirror_mode": {
    "name": "ipython",
    "version": 3
   },
   "file_extension": ".py",
   "mimetype": "text/x-python",
   "name": "python",
   "nbconvert_exporter": "python",
   "pygments_lexer": "ipython3",
   "version": "3.7.6"
  }
 },
 "nbformat": 4,
 "nbformat_minor": 4
}
