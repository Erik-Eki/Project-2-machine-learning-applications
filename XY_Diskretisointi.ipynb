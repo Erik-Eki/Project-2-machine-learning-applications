{
 "cells": [
  {
   "cell_type": "code",
   "execution_count": 4,
   "metadata": {},
   "outputs": [],
   "source": [
    "import pandas as pd"
   ]
  },
  {
   "cell_type": "markdown",
   "metadata": {},
   "source": [
    "# XY koordinaatit gridiin KESKEN\n",
    "- HUOM! x ja y koordinaattien tulee olla normalisoituja\n",
    "- k = karkeisuus\n",
    "- Tehtyihin grideihin voi viitata .loc[0.1]"
   ]
  },
  {
   "cell_type": "code",
   "execution_count": 3,
   "metadata": {},
   "outputs": [],
   "source": [
    "def xy_to_grid(data,x,y,k):\n",
    "    \n",
    "    # Tarkistetaan että x ja y ovat normalisoituja\n",
    "    is_normalized_x = all(number > 1.01 for number in x.values)\n",
    "    is_normalized_y = all(number > 1.01 for number in y.values)\n",
    "    if is_normalized_x or is_normalized_y:\n",
    "        return print(\"VIRHE: Koordinaatit eivät ole normalisoituja\")\n",
    "    \n",
    "    x_cut = pd.cut(data.x, k,labels=False)\n",
    "    y_cut = pd.cut(data.y, k,labels=False)\n",
    "    \n",
    "    # Tehdaan leikatuista arvoista liukuluku muatoa (0.1)\n",
    "    xy_values = x_cut.values + (y_cut.values*0.1)\n",
    "    \n",
    "    # Laitetaan saadut liukuluvut dataframen indekseiksi\n",
    "    return data.set_index(xy_values)"
   ]
  }
 ],
 "metadata": {
  "kernelspec": {
   "display_name": "Python 3",
   "language": "python",
   "name": "python3"
  },
  "language_info": {
   "codemirror_mode": {
    "name": "ipython",
    "version": 3
   },
   "file_extension": ".py",
   "mimetype": "text/x-python",
   "name": "python",
   "nbconvert_exporter": "python",
   "pygments_lexer": "ipython3",
   "version": "3.7.6"
  }
 },
 "nbformat": 4,
 "nbformat_minor": 4
}
