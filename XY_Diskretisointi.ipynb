{
 "cells": [
  {
   "cell_type": "code",
   "execution_count": 4,
   "metadata": {},
   "outputs": [],
   "source": [
    "import pandas as pd"
   ]
  },
  {
   "cell_type": "markdown",
   "metadata": {},
   "source": [
    "# XY koordinaatit gridiin\n",
    "- HUOM! x ja y koordinaattien tulee olla normalisoituja\n",
    "- k = karkeisuus\n",
    "- \n"
   ]
  },
  {
   "cell_type": "code",
   "execution_count": 4,
   "metadata": {},
   "outputs": [],
   "source": [
    "def xy_to_grid(df,x,y,k):\n",
    "    \n",
    "    x_cut = pd.cut(df.x, k,labels=False)\n",
    "    y_cut = pd.cut(df.y, k,labels=False)\n",
    "    \n",
    "    # Laitetaan saadut arvot dataframeen\n",
    "    df['x_grid'], df['y_grid'] = x_cut.values, y_cut.values\n",
    "    \n",  
    "    # Laitetaan arvot dataframeen, xygridiID = y * gridsize +x\n",
    "    df['grid_id'] = df['y_grid'] * k + df['x_grid']\n",
    "    \n",
    "    return df"
   ]
  },
  {
   "cell_type": "code",
   "execution_count": null,
   "metadata": {},
   "outputs": [],
   "source": []
  }
 ],
 "metadata": {
  "kernelspec": {
   "display_name": "Python 3",
   "language": "python",
   "name": "python3"
  },
  "language_info": {
   "codemirror_mode": {
    "name": "ipython",
    "version": 3
   },
   "file_extension": ".py",
   "mimetype": "text/x-python",
   "name": "python",
   "nbconvert_exporter": "python",
   "pygments_lexer": "ipython3",
   "version": "3.7.6"
  }
 },
 "nbformat": 4,
 "nbformat_minor": 4
}
